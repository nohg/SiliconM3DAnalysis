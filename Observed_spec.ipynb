{
 "cells": [
  {
   "cell_type": "code",
   "execution_count": 16,
   "metadata": {},
   "outputs": [],
   "source": [
    "import matplotlib.pyplot as plt\n",
    "import sys\n",
    "sys.path.append('../main/')\n",
    "from multi_py.multi import *\n",
    "import numpy as np\n",
    "import sys  \n",
    "from os.path import dirname, join as pjoin\n",
    "import scipy.io as sio\n",
    "from scipy.io import readsav\n",
    "import copy\n",
    "import pandas as pd\n",
    "import os\n",
    "from scipy import integrate\n",
    "from scipy.signal import argrelextrema\n",
    "from scipy import interpolate\n",
    "import pickle\n",
    "\n",
    "%config InlineBackend.figure_format='png'\n",
    "plt.style.use('default')\n",
    "plt.style.use('../main/multi_py/Bergemann2020.mplstyle')"
   ]
  },
  {
   "cell_type": "markdown",
   "metadata": {},
   "source": [
    "## Read in observed spectrum"
   ]
  },
  {
   "cell_type": "code",
   "execution_count": 17,
   "metadata": {},
   "outputs": [],
   "source": [
    "sav_fname = pjoin('../../data/spectra/1631885174310_iag_sun_Si.sav')\n",
    "sav_data = readsav(sav_fname)\n",
    "# f = open('../../data/spectra/sun_kpnomu1_6000_8000A.txt')\n",
    "# obs_spec2 = np.loadtxt(fname=f)\n",
    "# f.close()"
   ]
  },
  {
   "cell_type": "code",
   "execution_count": 18,
   "metadata": {},
   "outputs": [],
   "source": [
    "# simulation has been run with mus: 1, 0.9, 0.8, 0.6, 0.4, 0.2\n",
    "# specify the indecies corresponding to these angles in the solar data\n",
    "sol_mu_ind = [0, 4, 5, 7, 9, 11]\n",
    "# get the flux(intensity) and wavelengths corresponding to these angles\n",
    "sol_fluxes = [sav_data['iag_sun'].flux[0][ang] for ang in sol_mu_ind]\n",
    "sol_lams = [sav_data['iag_sun'].wave[0][ang] for ang in sol_mu_ind]\n",
    "sol_mus = [sav_data['iag_sun'].mu[0][ang] for ang in sol_mu_ind]\n",
    "\n",
    "major_krs = [286, 291, 293, 299, 427] # 292 and 302 removed - empty gaps; 457 removed - does not appear in the ref paper\n",
    "m3d_centre_wavelengths = [5645.613, 5684.484, 5701.104, 5772.146, 7034.901]"
   ]
  },
  {
   "cell_type": "markdown",
   "metadata": {},
   "source": [
    "## Calculate EWs for the observed spectra"
   ]
  },
  {
   "cell_type": "code",
   "execution_count": 19,
   "metadata": {},
   "outputs": [],
   "source": [
    "# define the integration limits for the iag observed solar spectrum for each line (keep same across angles)\n",
    "iag_int_lims = np.array([[5645.4, 5645.8],[5684.31,5684.7],[5700.97,5701.3],[5771.9,5772.35],[7034.55,7035.2]])"
   ]
  },
  {
   "cell_type": "code",
   "execution_count": 20,
   "metadata": {},
   "outputs": [],
   "source": [
    "eq_iag = np.zeros((len(major_krs), len(sol_mu_ind)))\n",
    "sol_lam_range_list = np.zeros((len(major_krs), len(sol_mu_ind)), dtype=object)\n",
    "sol_int_range_list = np.zeros((len(major_krs), len(sol_mu_ind)), dtype=object)\n",
    "for i, line in enumerate(major_krs):\n",
    "    line_lammin, line_lammax = iag_int_lims[i]\n",
    "    for j, mu in enumerate(sol_mu_ind):\n",
    "        lam_range = sol_lams[j][np.logical_and((sol_lams[j] > line_lammin), (sol_lams[j] < line_lammax))]\n",
    "        intensity_range = sol_fluxes[j][np.logical_and((sol_lams[j] > line_lammin), (sol_lams[j] < line_lammax))]\n",
    "        eq_iag[i,j] = integrate.simps(y=1-intensity_range, x=lam_range) * 1000\n",
    "        # record the wavelengths and intensities corresponding to each line\n",
    "        sol_lam_range_list[i,j] = lam_range\n",
    "        sol_int_range_list[i,j] = intensity_range"
   ]
  },
  {
   "cell_type": "markdown",
   "metadata": {},
   "source": [
    "## Plot zoomed-out observed spectra "
   ]
  },
  {
   "cell_type": "code",
   "execution_count": 21,
   "metadata": {},
   "outputs": [],
   "source": [
    "## Plot zoomed-out observed spectra \n",
    "# fig, ax = plt.subplots(len(major_krs), 1, figsize=(15,20))\n",
    "\n",
    "# for i, thiskr in enumerate(major_krs):\n",
    "    \n",
    "#     for j, thismu in enumerate(sol_mus):\n",
    "#         # plt.sca(ax[j])\n",
    "#         ax[i].plot(sol_lams[j], sol_fluxes[j], zorder=100, label=sol_mus[j])#,markersize=4)\n",
    "\n",
    "\n",
    "#     # plot picked integration limits \n",
    "#     for lim in iag_int_lims[i,:]:\n",
    "#         ax[i].axvline(lim)\n",
    "#     ax[i].grid(axis='y')\n",
    "\n",
    "#     ax[i].set_title(f'Si {wavelengths[i]:.2f} Å')\n",
    "#     ax[i].set_ylabel('Norm. Intensity')\n",
    "#     ax[i].set_xlabel('λ, Å')\n",
    "\n",
    "#     plt.sca(ax[i])\n",
    "\n",
    "#     plt.xlim((m3d_centre_wavelengths[i]-3), (m3d_centre_wavelengths[i]+3))\n",
    "#     plt.ylim(0.4,1.1)    \n",
    "#     ax[i].legend()\n",
    "\n",
    "# plt.tight_layout()"
   ]
  },
  {
   "cell_type": "markdown",
   "metadata": {},
   "source": [
    "## Deblending, renormalising lines in observed spectra"
   ]
  },
  {
   "cell_type": "code",
   "execution_count": 22,
   "metadata": {},
   "outputs": [],
   "source": [
    "from scipy.signal import argrelextrema\n",
    "from scipy.special import voigt_profile\n",
    "from scipy import optimize\n",
    "\n",
    "def synth_blends(obs_xx, obs_yy, order=20, blank_lam=None):\n",
    "    exts = np.array(argrelextrema(obs_yy, np.less, order=order))[0]\n",
    "    \n",
    "    pn=5\n",
    "    def model_func(xdata, *args):\n",
    "        yy_pred = np.ones_like(xdata)\n",
    "        \n",
    "        for i, gamma in enumerate(args[::pn]):\n",
    "            sigma = args[1::pn][i]\n",
    "            scale = args[2::pn][i]\n",
    "            shift = args[3::pn][i]\n",
    "            skew  = args[4::pn][i]\n",
    "            ext = exts[i]\n",
    "            \n",
    "            sxx = xdata - xdata[ext] + shift\n",
    "            voigt = voigt_profile(sxx, sigma, gamma)\n",
    "            \n",
    "            sk_xx = sxx+np.abs(sxx)*skew\n",
    "            sk_voigt = np.interp(sxx, sk_xx, voigt)\n",
    "            \n",
    "            yy_pred -= sk_voigt / np.max(sk_voigt) * (1-obs_yy[ext]) * scale\n",
    "            \n",
    "        return yy_pred\n",
    "    \n",
    "    params = np.ones(exts.size*pn)*1e-2\n",
    "    params[2::pn] = 1\n",
    "    params[3::pn] = 0\n",
    "    params[4::pn] = 0\n",
    "    \n",
    "    pfit, pcov = optimize.curve_fit(model_func, obs_xx, obs_yy, p0=params)\n",
    "    \n",
    "    if blank_lam is not None:\n",
    "        pfit_blank = pfit.copy()\n",
    "        iline = np.where(obs_xx[exts] > blank_lam)[0][0]\n",
    "        pfit_blank[pn*iline+2] = 0\n",
    "        \n",
    "        yy = model_func(obs_xx, *pfit_blank)\n",
    "        \n",
    "    else:\n",
    "        yy = model_func(obs_xx, pfit)\n",
    "    \n",
    "    return yy"
   ]
  },
  {
   "cell_type": "code",
   "execution_count": 23,
   "metadata": {},
   "outputs": [],
   "source": [
    "line_0_eqw = []\n",
    "line_0_int = []\n",
    "for j, mu in enumerate(sol_mus):\n",
    "    xx = sol_lams[j]\n",
    "    yy = sol_fluxes[j]\n",
    "    lam0 = m3d_centre_wavelengths[0]\n",
    "    mask = np.abs(xx - lam0) < 0.4\n",
    "    xx = xx[mask]\n",
    "    yy = yy[mask]\n",
    "    \n",
    "\n",
    "    thislam0 = xx[np.argmin(yy)]\n",
    "    yy_blend = synth_blends(xx, yy, order=25, blank_lam=0)\n",
    "    # yy_blend = synth_blends(xx, yy, order=20, blank_lam=lam0)\n",
    "    yy_deblend = 1 - ((1-yy) - (1-yy_blend))\n",
    "\n",
    "    line_0_eqw.append(integrate.simps(y=1-yy_deblend, x=xx) * 1000)\n",
    "    line_0_int.append(yy_deblend)\n",
    "\n",
    "    # overwrite lambda/int range for this line \n",
    "    sol_lam_range_list[0,j] = xx\n",
    "    sol_int_range_list[0,j] = yy_deblend"
   ]
  },
  {
   "cell_type": "code",
   "execution_count": 24,
   "metadata": {},
   "outputs": [],
   "source": [
    "# sim_int_1d = get_ang_intensity(runobjects[0], kr=major_krs[line_ind])\n",
    "# sim_int_1d_norm = sim_int_1d/continuum(line_lam, np.array(sim_int_1d))\n",
    "\n",
    "# define continuum at the chosen integration limits for each line\n",
    "# renorm_lines_indx = [3,4]\n",
    "sol_int_renorm = np.zeros((len(major_krs), len(sol_mu_ind)), dtype=object)\n",
    "\n",
    "for i, line in enumerate(major_krs):\n",
    "    for j, mu in enumerate(sol_mus):\n",
    "        sol_int_renorm[i,j] = sol_int_range_list[i,j]/continuum(sol_lam_range_list[i,j], sol_int_range_list[i,j])"
   ]
  },
  {
   "cell_type": "code",
   "execution_count": 25,
   "metadata": {},
   "outputs": [],
   "source": [
    "# replot with new normalisation\n",
    "plot=False\n",
    "if plot==True:\n",
    "    fig, ax = plt.subplots(len(major_krs), 1, figsize=(13,20))\n",
    "\n",
    "    for i, line_i in enumerate(major_krs):\n",
    "        \n",
    "        for j, thismu in enumerate(sol_mus):\n",
    "            # plt.sca(ax[j])\n",
    "            ax[i].plot(sol_lam_range_list[i,j], sol_int_renorm[i,j], zorder=100, label=sol_mus[j],markersize=4)\n",
    "            # ax[i].plot(sol_lam_range_list[i,j], sol_int_range_list[i,j], linestyle='none', marker='.', zorder=100, label=sol_mus[j],markersize=4)\n",
    "\n",
    "\n",
    "        # plot picked integration limits \n",
    "        for lim in iag_int_lims[i,:]:\n",
    "            ax[i].axvline(lim)\n",
    "        ax[i].grid(axis='y')\n",
    "\n",
    "        ax[i].set_title(f'Si {wavelengths[i]:.2f} Å')\n",
    "        ax[i].set_ylabel('Norm. Intensity')\n",
    "        ax[i].set_xlabel('λ, Å')\n",
    "\n",
    "        plt.sca(ax[i])\n",
    "\n",
    "        plt.xlim((m3d_centre_wavelengths[i]-0.25), (m3d_centre_wavelengths[i]+0.25))\n",
    "        plt.ylim(0.4,1.1)    \n",
    "        ax[i].legend()\n",
    "\n",
    "    plt.tight_layout()"
   ]
  },
  {
   "cell_type": "code",
   "execution_count": 26,
   "metadata": {},
   "outputs": [
    {
     "data": {
      "text/plain": [
       "[1.0, 0.9, 0.8, 0.6, 0.4, 0.2]"
      ]
     },
     "execution_count": 26,
     "metadata": {},
     "output_type": "execute_result"
    }
   ],
   "source": [
    "sol_mus"
   ]
  },
  {
   "cell_type": "code",
   "execution_count": 27,
   "metadata": {},
   "outputs": [],
   "source": [
    "# recalculate equivalent widths\n",
    "new_eq_iag = np.zeros(eq_iag.shape)\n",
    "for i, line_i in enumerate(major_krs):\n",
    "    for j, thismu in enumerate(sol_mus):\n",
    "            new_eq_iag[i,j] = integrate.simps(y=1-sol_int_renorm[i,j], x=sol_lam_range_list[i,j]) * 1000"
   ]
  },
  {
   "cell_type": "code",
   "execution_count": 31,
   "metadata": {},
   "outputs": [],
   "source": [
    "with open('../mdata/new_eq_iag', 'wb') as f:\n",
    "    pickle.dump(new_eq_iag, f)\n",
    "# outfile = open('./mdata/new_eq_iag')\n",
    "# pickle.dump(new_eq_iag, open('./mdata/new_eq_iag', 'wb'))"
   ]
  },
  {
   "cell_type": "code",
   "execution_count": 32,
   "metadata": {},
   "outputs": [
    {
     "data": {
      "text/plain": [
       "'🦕'"
      ]
     },
     "execution_count": 32,
     "metadata": {},
     "output_type": "execute_result"
    }
   ],
   "source": [
    "\"\\N{Sauropod}\""
   ]
  },
  {
   "cell_type": "code",
   "execution_count": null,
   "metadata": {},
   "outputs": [],
   "source": []
  }
 ],
 "metadata": {
  "interpreter": {
   "hash": "926b4a5dfa11be4b7eff4b3e16b0a6c4aba97fdc08a97fde44133418dfd29264"
  },
  "kernelspec": {
   "display_name": "Python 3.8.12 64-bit ('base': conda)",
   "language": "python",
   "name": "python3"
  },
  "language_info": {
   "codemirror_mode": {
    "name": "ipython",
    "version": 3
   },
   "file_extension": ".py",
   "mimetype": "text/x-python",
   "name": "python",
   "nbconvert_exporter": "python",
   "pygments_lexer": "ipython3",
   "version": "3.8.12"
  },
  "orig_nbformat": 4
 },
 "nbformat": 4,
 "nbformat_minor": 2
}
