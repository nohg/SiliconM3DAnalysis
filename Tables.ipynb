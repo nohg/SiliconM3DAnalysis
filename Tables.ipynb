{
 "cells": [
  {
   "cell_type": "code",
   "execution_count": 1,
   "metadata": {},
   "outputs": [],
   "source": [
    "import matplotlib.pyplot as plt\n",
    "import numpy as np\n",
    "import sys  \n",
    "sys.path.append('../main/')\n",
    "from multi_py.multi import *\n",
    "from os.path import dirname, join as pjoin\n",
    "import scipy.io as sio\n",
    "from scipy.io import readsav\n",
    "import pandas as pd\n",
    "import pickle\n",
    "\n",
    "%config InlineBackend.figure_format='svg'\n",
    "plt.style.use('default')\n",
    "plt.style.use('../main/multi_py/Bergemann2020.mplstyle')"
   ]
  },
  {
   "cell_type": "markdown",
   "metadata": {},
   "source": [
    "## Abundance Differences"
   ]
  },
  {
   "cell_type": "code",
   "execution_count": 4,
   "metadata": {},
   "outputs": [],
   "source": [
    "# NLTE3Dcorr_iosmet = np.load('../mdata/3DNLTE_abund_corr_IOSMET_5wls.npy')\n",
    "NLTE3Dcorr_no_iosmet = np.load('../mdata/3DNLTE_abund_corr_no_iosmet_5wls.npy')\n",
    "# NLTE1Dcorr_iosmet = np.load('../mdata/1DNLTE_abund_corr_IOSMET_5wls.npy')\n",
    "NLTE1dcorr_no_iosmet = np.load('../mdata/1DNLTE_abund_corr_no_iosmet_5wls.npy')\n",
    "# runs = [NLTE3Dcorr_iosmet, NLTE3Dcorr_no_iosmet, NLTE1Dcorr_iosmet, NLTE1dcorr_no_ismet]\n",
    "runs = [NLTE1dcorr_no_iosmet, NLTE3Dcorr_no_iosmet, ]"
   ]
  },
  {
   "cell_type": "code",
   "execution_count": 23,
   "metadata": {},
   "outputs": [],
   "source": [
    "mus = [1.0, 0.9, 0.8, 0.6, 0.4, 0.2]\n",
    "# lambs = [5645.613, 5684.484, 5701.104, 5772.146, 7034.901]\n",
    "# lambs = [5645.613, 5772.146, 7034.901]\n",
    "lambs = [5645.613,  5701.104, 5772.146]"
   ]
  },
  {
   "cell_type": "code",
   "execution_count": 24,
   "metadata": {},
   "outputs": [],
   "source": [
    "# NLTE3Dcorr_iosmet_pd=pd.DataFrame(NLTE3Dcorr_iosmet[[0,3,4]], columns=mus, index=lambs).T.round(3)\n",
    "# print(NLTE3Dcorr_iosmet_pd.to_latex())"
   ]
  },
  {
   "cell_type": "code",
   "execution_count": 27,
   "metadata": {},
   "outputs": [
    {
     "name": "stdout",
     "output_type": "stream",
     "text": [
      "\\begin{tabular}{l|rrrrrr}\n",
      "\\toprule\n",
      "{} &  5645.613 &  5701.104 &  5772.146 \\\\\n",
      "\\midrule\n",
      "1.0 &     0.019 &     0.019 &     0.018 \\\\\n",
      "0.9 &     0.018 &     0.018 &     0.017 \\\\\n",
      "0.8 &     0.017 &     0.017 &     0.015 \\\\\n",
      "0.6 &     0.012 &     0.012 &     0.009 \\\\\n",
      "0.4 &    -0.000 &    -0.001 &    -0.007 \\\\\n",
      "0.2 &    -0.049 &    -0.051 &    -0.066 \\\\\n",
      "\\bottomrule\n",
      "\\end{tabular}\n",
      "\n",
      "\\begin{tabular}{l|rrrrrr}\n",
      "\\toprule\n",
      "{} &  5645.613 &  5701.104 &  5772.146 \\\\\n",
      "\\midrule\n",
      "1.0 &     0.070 &     0.070 &     0.068 \\\\\n",
      "0.9 &     0.051 &     0.051 &     0.038 \\\\\n",
      "0.8 &     0.049 &     0.048 &     0.036 \\\\\n",
      "0.6 &     0.026 &     0.025 &     0.007 \\\\\n",
      "0.4 &    -0.031 &    -0.033 &    -0.063 \\\\\n",
      "0.2 &    -0.171 &    -0.174 &    -0.226 \\\\\n",
      "\\bottomrule\n",
      "\\end{tabular}\n",
      "\n"
     ]
    }
   ],
   "source": [
    "for i, run in enumerate(runs):\n",
    "    df = pd.DataFrame(run[[0,2,3]], columns=mus, index=lambs).T.round(3)\n",
    "    # print(runs[i])\n",
    "    print(df.to_latex(column_format='l|rrrrrr'))"
   ]
  },
  {
   "cell_type": "code",
   "execution_count": 28,
   "metadata": {},
   "outputs": [
    {
     "name": "stdout",
     "output_type": "stream",
     "text": [
      "\\begin{tabular}{l|rrrrrr}\n",
      "\\toprule\n",
      "{} &  5645.613 &  5701.104 &  5772.146 \\\\\n",
      "\\midrule\n",
      "1.0 &     0.045 &     0.045 &     0.045 \\\\\n",
      "0.9 &     0.027 &     0.026 &     0.014 \\\\\n",
      "0.8 &     0.026 &     0.026 &     0.014 \\\\\n",
      "0.6 &     0.009 &     0.008 &    -0.007 \\\\\n",
      "0.4 &    -0.034 &    -0.035 &    -0.058 \\\\\n",
      "0.2 &    -0.117 &    -0.119 &    -0.151 \\\\\n",
      "\\bottomrule\n",
      "\\end{tabular}\n",
      "\n"
     ]
    }
   ],
   "source": [
    "LTE3Dcorr = np.load('../mdata/3DLTE_abund_corr_2404.npy')\n",
    "\n",
    "df = pd.DataFrame(LTE3Dcorr[[0,2,3]], columns=mus, index=lambs).T.round(3)\n",
    "print(df.to_latex(column_format='l|rrrrrr'))"
   ]
  },
  {
   "cell_type": "markdown",
   "metadata": {},
   "source": [
    "## Atom file data table"
   ]
  },
  {
   "cell_type": "code",
   "execution_count": 9,
   "metadata": {},
   "outputs": [
    {
     "data": {
      "text/html": [
       "<div>\n",
       "<style scoped>\n",
       "    .dataframe tbody tr th:only-of-type {\n",
       "        vertical-align: middle;\n",
       "    }\n",
       "\n",
       "    .dataframe tbody tr th {\n",
       "        vertical-align: top;\n",
       "    }\n",
       "\n",
       "    .dataframe thead th {\n",
       "        text-align: right;\n",
       "    }\n",
       "</style>\n",
       "<table border=\"1\" class=\"dataframe\">\n",
       "  <thead>\n",
       "    <tr style=\"text-align: right;\">\n",
       "      <th></th>\n",
       "      <th>lambda_atom Å</th>\n",
       "      <th>lambda paper(obs)Å</th>\n",
       "      <th>e_up (atom)cm-1</th>\n",
       "      <th>g_up (atom)</th>\n",
       "      <th>e_low (atom)cm-1</th>\n",
       "      <th>g_low(atom)</th>\n",
       "      <th>e_up(paper)cm-1</th>\n",
       "      <th>e_low(paper)cm-1</th>\n",
       "    </tr>\n",
       "  </thead>\n",
       "  <tbody>\n",
       "    <tr>\n",
       "      <th>0</th>\n",
       "      <td>7034.901</td>\n",
       "      <td>7034.897</td>\n",
       "      <td>61563.305</td>\n",
       "      <td>16</td>\n",
       "      <td>47351.555</td>\n",
       "      <td>5</td>\n",
       "      <td>61402</td>\n",
       "      <td>47292</td>\n",
       "    </tr>\n",
       "    <tr>\n",
       "      <th>1</th>\n",
       "      <td>5645.613</td>\n",
       "      <td>564.5613</td>\n",
       "      <td>57468.238</td>\n",
       "      <td>5</td>\n",
       "      <td>39760.285</td>\n",
       "      <td>3</td>\n",
       "      <td>57316</td>\n",
       "      <td>39720</td>\n",
       "    </tr>\n",
       "    <tr>\n",
       "      <th>2</th>\n",
       "      <td>5684.484</td>\n",
       "      <td>5684.484</td>\n",
       "      <td>57541.918</td>\n",
       "      <td>3</td>\n",
       "      <td>39955.055</td>\n",
       "      <td>5</td>\n",
       "      <td>57393</td>\n",
       "      <td>39910</td>\n",
       "    </tr>\n",
       "    <tr>\n",
       "      <th>3</th>\n",
       "      <td>5701.104</td>\n",
       "      <td>5701.105</td>\n",
       "      <td>57295.883</td>\n",
       "      <td>1</td>\n",
       "      <td>39760.285</td>\n",
       "      <td>3</td>\n",
       "      <td>57149</td>\n",
       "      <td>39720</td>\n",
       "    </tr>\n",
       "    <tr>\n",
       "      <th>4</th>\n",
       "      <td>5772.146</td>\n",
       "      <td>5772.146</td>\n",
       "      <td>58311.660</td>\n",
       "      <td>1</td>\n",
       "      <td>40991.883</td>\n",
       "      <td>3</td>\n",
       "      <td>58240</td>\n",
       "      <td>40969</td>\n",
       "    </tr>\n",
       "    <tr>\n",
       "      <th>5</th>\n",
       "      <td>7226.208</td>\n",
       "      <td>-</td>\n",
       "      <td>59110.891</td>\n",
       "      <td>5</td>\n",
       "      <td>45276.188</td>\n",
       "      <td>3</td>\n",
       "      <td>-</td>\n",
       "      <td>-</td>\n",
       "    </tr>\n",
       "  </tbody>\n",
       "</table>\n",
       "</div>"
      ],
      "text/plain": [
       "   lambda_atom Å lambda paper(obs)Å  e_up (atom)cm-1  g_up (atom)  \\\n",
       "0       7034.901           7034.897        61563.305           16   \n",
       "1       5645.613           564.5613        57468.238            5   \n",
       "2       5684.484           5684.484        57541.918            3   \n",
       "3       5701.104           5701.105        57295.883            1   \n",
       "4       5772.146           5772.146        58311.660            1   \n",
       "5       7226.208                  -        59110.891            5   \n",
       "\n",
       "   e_low (atom)cm-1  g_low(atom) e_up(paper)cm-1 e_low(paper)cm-1  \n",
       "0         47351.555            5           61402            47292  \n",
       "1         39760.285            3           57316            39720  \n",
       "2         39955.055            5           57393            39910  \n",
       "3         39760.285            3           57149            39720  \n",
       "4         40991.883            3           58240            40969  \n",
       "5         45276.188            3               -                -  "
      ]
     },
     "execution_count": 9,
     "metadata": {},
     "output_type": "execute_result"
    }
   ],
   "source": [
    "d = {'lambda_atom Å': [7034.901,5645.613,5684.484, 5701.104,  5772.146, 7226.208],  'lambda paper(obs)Å': [7034.897, 564.5613, 5684.484, 5701.105, 5772.146, '-'], \n",
    "'e_up (atom)cm-1':[61563.305, 57468.238, 57541.918, 57295.883, 58311.660, 59110.891 ], 'g_up (atom)':[16,5, 3, 1, 1,5],\n",
    "'e_low (atom)cm-1':[47351.555, 39760.285, 39955.055, 39760.285, 40991.883, 45276.188 ], 'g_low(atom)':[5,3, 5, 3, 3, 3], 'e_up(paper)cm-1':[61402, 57316, 57393, 57149, 58240,'-'], \n",
    "'e_low(paper)cm-1': [47292, 39720, 39910, 39720, 40969, '-']}\n",
    "# 'e_diff(atom)cm-1': [14211.75], 'e_diff (paper) cm-1':[14210.923]}\n",
    "\n",
    "#'lambda_M3Doutput Å': [7034.49], 'lambda paper(vac)Å': [7036.841],\n",
    "\n",
    "df = pd.DataFrame(data=d)\n",
    "df"
   ]
  },
  {
   "cell_type": "code",
   "execution_count": 10,
   "metadata": {},
   "outputs": [
    {
     "name": "stderr",
     "output_type": "stream",
     "text": [
      "/software/astro/anaconda/anaconda3-2020.11/lib/python3.8/site-packages/pandas/core/frame.py:4906: SettingWithCopyWarning: \n",
      "A value is trying to be set on a copy of a slice from a DataFrame\n",
      "\n",
      "See the caveats in the documentation: https://pandas.pydata.org/pandas-docs/stable/user_guide/indexing.html#returning-a-view-versus-a-copy\n",
      "  return super().drop(\n",
      "/software/astro/anaconda/anaconda3-2020.11/lib/python3.8/site-packages/pandas/core/frame.py:6393: SettingWithCopyWarning: \n",
      "A value is trying to be set on a copy of a slice from a DataFrame\n",
      "\n",
      "See the caveats in the documentation: https://pandas.pydata.org/pandas-docs/stable/user_guide/indexing.html#returning-a-view-versus-a-copy\n",
      "  return super().sort_index(\n",
      "/tmp/ipykernel_20390/1265749180.py:6: SettingWithCopyWarning: \n",
      "A value is trying to be set on a copy of a slice from a DataFrame.\n",
      "Try using .loc[row_indexer,col_indexer] = value instead\n",
      "\n",
      "See the caveats in the documentation: https://pandas.pydata.org/pandas-docs/stable/user_guide/indexing.html#returning-a-view-versus-a-copy\n",
      "  df_2['log $gf$'] = [-2.067, -1.420, -2.050, -1.750, -3.714]\n"
     ]
    },
    {
     "data": {
      "text/html": [
       "<div>\n",
       "<style scoped>\n",
       "    .dataframe tbody tr th:only-of-type {\n",
       "        vertical-align: middle;\n",
       "    }\n",
       "\n",
       "    .dataframe tbody tr th {\n",
       "        vertical-align: top;\n",
       "    }\n",
       "\n",
       "    .dataframe thead th {\n",
       "        text-align: right;\n",
       "    }\n",
       "</style>\n",
       "<table border=\"1\" class=\"dataframe\">\n",
       "  <thead>\n",
       "    <tr style=\"text-align: right;\">\n",
       "      <th></th>\n",
       "      <th>$E_{upper}$ $cm^{-1}$</th>\n",
       "      <th>$E_{lower}$ $cm^{-1}$</th>\n",
       "      <th>$g_{upper}$</th>\n",
       "      <th>$g_{lower}$</th>\n",
       "      <th>log $gf$</th>\n",
       "    </tr>\n",
       "    <tr>\n",
       "      <th>\\lambda (Å)</th>\n",
       "      <th></th>\n",
       "      <th></th>\n",
       "      <th></th>\n",
       "      <th></th>\n",
       "      <th></th>\n",
       "    </tr>\n",
       "  </thead>\n",
       "  <tbody>\n",
       "    <tr>\n",
       "      <th>5645.613</th>\n",
       "      <td>57468.238</td>\n",
       "      <td>39760.285</td>\n",
       "      <td>5</td>\n",
       "      <td>3</td>\n",
       "      <td>-2.067</td>\n",
       "    </tr>\n",
       "    <tr>\n",
       "      <th>5684.484</th>\n",
       "      <td>57541.918</td>\n",
       "      <td>39955.055</td>\n",
       "      <td>3</td>\n",
       "      <td>5</td>\n",
       "      <td>-1.420</td>\n",
       "    </tr>\n",
       "    <tr>\n",
       "      <th>5701.104</th>\n",
       "      <td>57295.883</td>\n",
       "      <td>39760.285</td>\n",
       "      <td>1</td>\n",
       "      <td>3</td>\n",
       "      <td>-2.050</td>\n",
       "    </tr>\n",
       "    <tr>\n",
       "      <th>5772.146</th>\n",
       "      <td>58311.660</td>\n",
       "      <td>40991.883</td>\n",
       "      <td>1</td>\n",
       "      <td>3</td>\n",
       "      <td>-1.750</td>\n",
       "    </tr>\n",
       "    <tr>\n",
       "      <th>7034.901</th>\n",
       "      <td>61563.305</td>\n",
       "      <td>47351.555</td>\n",
       "      <td>16</td>\n",
       "      <td>5</td>\n",
       "      <td>-3.714</td>\n",
       "    </tr>\n",
       "  </tbody>\n",
       "</table>\n",
       "</div>"
      ],
      "text/plain": [
       "             $E_{upper}$ $cm^{-1}$  $E_{lower}$ $cm^{-1}$  $g_{upper}$  \\\n",
       "\\lambda (Å)                                                              \n",
       "5645.613                 57468.238              39760.285            5   \n",
       "5684.484                 57541.918              39955.055            3   \n",
       "5701.104                 57295.883              39760.285            1   \n",
       "5772.146                 58311.660              40991.883            1   \n",
       "7034.901                 61563.305              47351.555           16   \n",
       "\n",
       "             $g_{lower}$  log $gf$  \n",
       "\\lambda (Å)                         \n",
       "5645.613               3    -2.067  \n",
       "5684.484               5    -1.420  \n",
       "5701.104               3    -2.050  \n",
       "5772.146               3    -1.750  \n",
       "7034.901               5    -3.714  "
      ]
     },
     "execution_count": 10,
     "metadata": {},
     "output_type": "execute_result"
    }
   ],
   "source": [
    "df_2 = df[['lambda_atom Å', 'e_up (atom)cm-1', 'e_low (atom)cm-1', 'g_up (atom)', 'g_low(atom)']]\n",
    "df_2.columns = ['\\lambda (Å)', '$E_{upper}$ $cm^{-1}$', '$E_{lower}$ $cm^{-1}$', '$g_{upper}$', '$g_{lower}$']\n",
    "df_2.drop(index=5, inplace=True)\n",
    "df_2.set_index('\\lambda (Å)', inplace=True)\n",
    "df_2.sort_index(inplace=True)\n",
    "df_2['log $gf$'] = [-2.067, -1.420, -2.050, -1.750, -3.714]\n",
    "\n",
    "df_2"
   ]
  },
  {
   "cell_type": "code",
   "execution_count": 11,
   "metadata": {},
   "outputs": [],
   "source": [
    "def get_f(log_gf, g):\n",
    "    f = (10**log_gf)/g\n",
    "\n",
    "    return f"
   ]
  },
  {
   "cell_type": "code",
   "execution_count": 12,
   "metadata": {},
   "outputs": [
    {
     "name": "stderr",
     "output_type": "stream",
     "text": [
      "/tmp/ipykernel_20390/3698065112.py:1: SettingWithCopyWarning: \n",
      "A value is trying to be set on a copy of a slice from a DataFrame.\n",
      "Try using .loc[row_indexer,col_indexer] = value instead\n",
      "\n",
      "See the caveats in the documentation: https://pandas.pydata.org/pandas-docs/stable/user_guide/indexing.html#returning-a-view-versus-a-copy\n",
      "  df_2['f'] = df_2.apply(lambda x: get_f(x['log $gf$'], x['$g_{lower}$']), axis=1)\n"
     ]
    },
    {
     "data": {
      "text/html": [
       "<div>\n",
       "<style scoped>\n",
       "    .dataframe tbody tr th:only-of-type {\n",
       "        vertical-align: middle;\n",
       "    }\n",
       "\n",
       "    .dataframe tbody tr th {\n",
       "        vertical-align: top;\n",
       "    }\n",
       "\n",
       "    .dataframe thead th {\n",
       "        text-align: right;\n",
       "    }\n",
       "</style>\n",
       "<table border=\"1\" class=\"dataframe\">\n",
       "  <thead>\n",
       "    <tr style=\"text-align: right;\">\n",
       "      <th></th>\n",
       "      <th>$E_{upper}$ $cm^{-1}$</th>\n",
       "      <th>$E_{lower}$ $cm^{-1}$</th>\n",
       "      <th>$g_{upper}$</th>\n",
       "      <th>$g_{lower}$</th>\n",
       "      <th>log $gf$</th>\n",
       "      <th>f</th>\n",
       "    </tr>\n",
       "    <tr>\n",
       "      <th>\\lambda (Å)</th>\n",
       "      <th></th>\n",
       "      <th></th>\n",
       "      <th></th>\n",
       "      <th></th>\n",
       "      <th></th>\n",
       "      <th></th>\n",
       "    </tr>\n",
       "  </thead>\n",
       "  <tbody>\n",
       "    <tr>\n",
       "      <th>5645.613</th>\n",
       "      <td>57468.238</td>\n",
       "      <td>39760.285</td>\n",
       "      <td>5</td>\n",
       "      <td>3</td>\n",
       "      <td>-2.067</td>\n",
       "      <td>0.002857</td>\n",
       "    </tr>\n",
       "    <tr>\n",
       "      <th>5684.484</th>\n",
       "      <td>57541.918</td>\n",
       "      <td>39955.055</td>\n",
       "      <td>3</td>\n",
       "      <td>5</td>\n",
       "      <td>-1.420</td>\n",
       "      <td>0.007604</td>\n",
       "    </tr>\n",
       "    <tr>\n",
       "      <th>5701.104</th>\n",
       "      <td>57295.883</td>\n",
       "      <td>39760.285</td>\n",
       "      <td>1</td>\n",
       "      <td>3</td>\n",
       "      <td>-2.050</td>\n",
       "      <td>0.002971</td>\n",
       "    </tr>\n",
       "    <tr>\n",
       "      <th>5772.146</th>\n",
       "      <td>58311.660</td>\n",
       "      <td>40991.883</td>\n",
       "      <td>1</td>\n",
       "      <td>3</td>\n",
       "      <td>-1.750</td>\n",
       "      <td>0.005928</td>\n",
       "    </tr>\n",
       "    <tr>\n",
       "      <th>7034.901</th>\n",
       "      <td>61563.305</td>\n",
       "      <td>47351.555</td>\n",
       "      <td>16</td>\n",
       "      <td>5</td>\n",
       "      <td>-3.714</td>\n",
       "      <td>0.000039</td>\n",
       "    </tr>\n",
       "  </tbody>\n",
       "</table>\n",
       "</div>"
      ],
      "text/plain": [
       "             $E_{upper}$ $cm^{-1}$  $E_{lower}$ $cm^{-1}$  $g_{upper}$  \\\n",
       "\\lambda (Å)                                                              \n",
       "5645.613                 57468.238              39760.285            5   \n",
       "5684.484                 57541.918              39955.055            3   \n",
       "5701.104                 57295.883              39760.285            1   \n",
       "5772.146                 58311.660              40991.883            1   \n",
       "7034.901                 61563.305              47351.555           16   \n",
       "\n",
       "             $g_{lower}$  log $gf$         f  \n",
       "\\lambda (Å)                                   \n",
       "5645.613               3    -2.067  0.002857  \n",
       "5684.484               5    -1.420  0.007604  \n",
       "5701.104               3    -2.050  0.002971  \n",
       "5772.146               3    -1.750  0.005928  \n",
       "7034.901               5    -3.714  0.000039  "
      ]
     },
     "execution_count": 12,
     "metadata": {},
     "output_type": "execute_result"
    }
   ],
   "source": [
    "df_2['f'] = df_2.apply(lambda x: get_f(x['log $gf$'], x['$g_{lower}$']), axis=1)\n",
    "df_2\n"
   ]
  },
  {
   "cell_type": "code",
   "execution_count": 13,
   "metadata": {},
   "outputs": [
    {
     "data": {
      "text/plain": [
       "0.008570378452303693"
      ]
     },
     "execution_count": 13,
     "metadata": {},
     "output_type": "execute_result"
    }
   ],
   "source": [
    "10**(-2.067)"
   ]
  },
  {
   "cell_type": "markdown",
   "metadata": {},
   "source": [
    "## Table with Amarsi 2017 paper Si line data"
   ]
  },
  {
   "cell_type": "code",
   "execution_count": 14,
   "metadata": {},
   "outputs": [
    {
     "data": {
      "text/html": [
       "<div>\n",
       "<style scoped>\n",
       "    .dataframe tbody tr th:only-of-type {\n",
       "        vertical-align: middle;\n",
       "    }\n",
       "\n",
       "    .dataframe tbody tr th {\n",
       "        vertical-align: top;\n",
       "    }\n",
       "\n",
       "    .dataframe thead th {\n",
       "        text-align: right;\n",
       "    }\n",
       "</style>\n",
       "<table border=\"1\" class=\"dataframe\">\n",
       "  <thead>\n",
       "    <tr style=\"text-align: right;\">\n",
       "      <th></th>\n",
       "      <th>$g_{lower}$</th>\n",
       "      <th>log $gf$</th>\n",
       "      <th>f</th>\n",
       "    </tr>\n",
       "    <tr>\n",
       "      <th>\\lambda (Å)</th>\n",
       "      <th></th>\n",
       "      <th></th>\n",
       "      <th></th>\n",
       "    </tr>\n",
       "  </thead>\n",
       "  <tbody>\n",
       "    <tr>\n",
       "      <th>5645.613</th>\n",
       "      <td>3</td>\n",
       "      <td>-2.04</td>\n",
       "      <td>0.003040</td>\n",
       "    </tr>\n",
       "    <tr>\n",
       "      <th>5684.484</th>\n",
       "      <td>5</td>\n",
       "      <td>-1.55</td>\n",
       "      <td>0.005637</td>\n",
       "    </tr>\n",
       "    <tr>\n",
       "      <th>5701.104</th>\n",
       "      <td>3</td>\n",
       "      <td>-1.95</td>\n",
       "      <td>0.003740</td>\n",
       "    </tr>\n",
       "    <tr>\n",
       "      <th>5772.146</th>\n",
       "      <td>3</td>\n",
       "      <td>-1.65</td>\n",
       "      <td>0.007462</td>\n",
       "    </tr>\n",
       "    <tr>\n",
       "      <th>7034.901</th>\n",
       "      <td>5</td>\n",
       "      <td>-0.78</td>\n",
       "      <td>0.033192</td>\n",
       "    </tr>\n",
       "  </tbody>\n",
       "</table>\n",
       "</div>"
      ],
      "text/plain": [
       "             $g_{lower}$  log $gf$         f\n",
       "\\lambda (Å)                                 \n",
       "5645.613               3     -2.04  0.003040\n",
       "5684.484               5     -1.55  0.005637\n",
       "5701.104               3     -1.95  0.003740\n",
       "5772.146               3     -1.65  0.007462\n",
       "7034.901               5     -0.78  0.033192"
      ]
     },
     "execution_count": 14,
     "metadata": {},
     "output_type": "execute_result"
    }
   ],
   "source": [
    "df_ama = pd.DataFrame(data=df_2['$g_{lower}$'])\n",
    "df_ama['log $gf$'] = [-2.04, -1.55, -1.95, -1.65, -0.78]\n",
    "df_ama['f'] = df_ama.apply(lambda x: get_f(x['log $gf$'], x['$g_{lower}$']), axis=1)\n",
    "df_ama\n"
   ]
  },
  {
   "cell_type": "code",
   "execution_count": 15,
   "metadata": {},
   "outputs": [
    {
     "data": {
      "text/plain": [
       "\\lambda (Å)\n",
       "5645.613    3\n",
       "5684.484    5\n",
       "5701.104    3\n",
       "5772.146    3\n",
       "7034.901    5\n",
       "Name: $g_{lower}$, dtype: int64"
      ]
     },
     "execution_count": 15,
     "metadata": {},
     "output_type": "execute_result"
    }
   ],
   "source": [
    "df_ama['$g_{lower}$']"
   ]
  },
  {
   "cell_type": "code",
   "execution_count": 16,
   "metadata": {},
   "outputs": [],
   "source": [
    "# loggf_atom = [-2.067, -1.42, -2.05, -1.75, -3.714]\n",
    "# loggf_ama = [-2.04, -1.55, -1.95, -1.65, -0.78]\n",
    "# pd.DataFrame(data=list(zip(loggf_atom, loggf_ama)), columns=[ 'log gf atom file', 'log gf Amarsi 2017'], index=m3d_centre_wavelengths)"
   ]
  },
  {
   "cell_type": "markdown",
   "metadata": {},
   "source": [
    "## Table with calculated abundances"
   ]
  },
  {
   "cell_type": "code",
   "execution_count": 17,
   "metadata": {},
   "outputs": [],
   "source": [
    "with open('../mdata/1d_lte_abunds', \"rb\") as f:\n",
    "    iag_1dlte_abunds = pickle.load(f)\n",
    "with open('../mdata/3DNLTE_corrected_abunds', \"rb\") as f:\n",
    "    iag_3DNLTE_corrected_abunds = pickle.load(f)\n",
    "with open('../mdata/1DNLTE_corrected_abunds', \"rb\") as f:\n",
    "    iag_1DNLTE_corrected_abunds = pickle.load(f)\n",
    "with open('../mdata/3DLTE_corrected_abunds', \"rb\") as f:\n",
    "    iag_3DLTE_corrected_abunds = pickle.load(f)"
   ]
  },
  {
   "cell_type": "code",
   "execution_count": 32,
   "metadata": {},
   "outputs": [
    {
     "name": "stdout",
     "output_type": "stream",
     "text": [
      "\\begin{tabular}{lrrr}\n",
      "\\toprule\n",
      "{} &  5645.613 &  5701.104 &  5772.146 \\\\\n",
      "\\midrule\n",
      "1.0  &     7.570 &     7.538 &     7.556 \\\\\n",
      "0.9  &     7.573 &     7.552 &     7.550 \\\\\n",
      "0.8  &     7.575 &     7.548 &     7.565 \\\\\n",
      "0.6  &     7.588 &     7.567 &     7.603 \\\\\n",
      "0.4  &     7.656 &     7.638 &     7.668 \\\\\n",
      "0.2  &     7.791 &     7.724 &     7.790 \\\\\n",
      "Mean &     7.626 &     7.595 &     7.622 \\\\\n",
      "\\bottomrule\n",
      "\\end{tabular}\n",
      "\n"
     ]
    }
   ],
   "source": [
    "df_1dlte_abund = pd.DataFrame(iag_1dlte_abunds[[0,2,3]], columns=mus, index=lambs).T.astype(float)\n",
    "df_1dlte_abund.loc['Mean'] = df_1dlte_abund.mean()\n",
    "df_1dlte_abund = df_1dlte_abund.round(3)\n",
    "\n",
    "# print(df_1dlte_abund)\n",
    "print(df_1dlte_abund.to_latex())"
   ]
  },
  {
   "cell_type": "code",
   "execution_count": 42,
   "metadata": {},
   "outputs": [
    {
     "data": {
      "text/plain": [
       "-0.23399999999999999"
      ]
     },
     "execution_count": 42,
     "metadata": {},
     "output_type": "execute_result"
    }
   ],
   "source": [
    "7.556-7.790"
   ]
  },
  {
   "cell_type": "code",
   "execution_count": 29,
   "metadata": {},
   "outputs": [
    {
     "name": "stdout",
     "output_type": "stream",
     "text": [
      "\\begin{tabular}{lrrr}\n",
      "\\toprule\n",
      "{} &  5645.613 &  5701.104 &  5772.146 \\\\\n",
      "\\midrule\n",
      "1.0  &     7.640 &     7.608 &     7.624 \\\\\n",
      "0.9  &     7.625 &     7.603 &     7.588 \\\\\n",
      "0.8  &     7.624 &     7.596 &     7.601 \\\\\n",
      "0.6  &     7.614 &     7.592 &     7.610 \\\\\n",
      "0.4  &     7.625 &     7.605 &     7.605 \\\\\n",
      "0.2  &     7.620 &     7.550 &     7.564 \\\\\n",
      "Mean &     7.625 &     7.592 &     7.599 \\\\\n",
      "\\bottomrule\n",
      "\\end{tabular}\n",
      "\n"
     ]
    }
   ],
   "source": [
    "df_3dnlte_abund = pd.DataFrame(iag_3DNLTE_corrected_abunds[[0,2,3]], columns=mus, index=lambs).T.astype(float)\n",
    "df_3dnlte_abund.loc['Mean'] = df_3dnlte_abund.mean()\n",
    "df_3dnlte_abund = df_3dnlte_abund.round(3)\n",
    "\n",
    "print(df_3dnlte_abund.to_latex())"
   ]
  },
  {
   "cell_type": "code",
   "execution_count": 38,
   "metadata": {},
   "outputs": [
    {
     "name": "stdout",
     "output_type": "stream",
     "text": [
      "7.605333333333333\n"
     ]
    }
   ],
   "source": [
    "print((df_3dnlte_abund.loc['Mean']).mean())"
   ]
  },
  {
   "cell_type": "code",
   "execution_count": 30,
   "metadata": {},
   "outputs": [
    {
     "name": "stdout",
     "output_type": "stream",
     "text": [
      "\\begin{tabular}{lrrr}\n",
      "\\toprule\n",
      "{} &  5645.613 &  5701.104 &  5772.146 \\\\\n",
      "\\midrule\n",
      "1.0  &     7.589 &     7.557 &     7.574 \\\\\n",
      "0.9  &     7.591 &     7.570 &     7.567 \\\\\n",
      "0.8  &     7.592 &     7.565 &     7.580 \\\\\n",
      "0.6  &     7.601 &     7.579 &     7.612 \\\\\n",
      "0.4  &     7.656 &     7.637 &     7.662 \\\\\n",
      "0.2  &     7.741 &     7.673 &     7.724 \\\\\n",
      "Mean &     7.629 &     7.597 &     7.620 \\\\\n",
      "\\bottomrule\n",
      "\\end{tabular}\n",
      "\n"
     ]
    }
   ],
   "source": [
    "df_1dnlte_abund = pd.DataFrame(iag_1DNLTE_corrected_abunds[[0,2,3]], columns=mus, index=lambs).T.astype(float)\n",
    "df_1dnlte_abund.loc['Mean'] = df_1dnlte_abund.mean()\n",
    "df_1dnlte_abund = df_1dnlte_abund.round(3)\n",
    "print(df_1dnlte_abund.to_latex())"
   ]
  },
  {
   "cell_type": "code",
   "execution_count": 31,
   "metadata": {},
   "outputs": [
    {
     "name": "stdout",
     "output_type": "stream",
     "text": [
      "\\begin{tabular}{lrrr}\n",
      "\\toprule\n",
      "{} &  5645.613 &  5701.104 &  5772.146 \\\\\n",
      "\\midrule\n",
      "1.0  &     7.615 &     7.584 &     7.601 \\\\\n",
      "0.9  &     7.600 &     7.579 &     7.564 \\\\\n",
      "0.8  &     7.601 &     7.574 &     7.580 \\\\\n",
      "0.6  &     7.597 &     7.575 &     7.596 \\\\\n",
      "0.4  &     7.622 &     7.603 &     7.610 \\\\\n",
      "0.2  &     7.673 &     7.606 &     7.638 \\\\\n",
      "Mean &     7.618 &     7.587 &     7.598 \\\\\n",
      "\\bottomrule\n",
      "\\end{tabular}\n",
      "\n"
     ]
    }
   ],
   "source": [
    "df_3dlte_abund = pd.DataFrame(iag_3DLTE_corrected_abunds[[0,2,3]], columns=mus, index=lambs).T.astype(float)\n",
    "df_3dlte_abund.loc['Mean'] = df_3dlte_abund.mean()\n",
    "df_3dlte_abund = df_3dlte_abund.round(3)\n",
    "print(df_3dlte_abund.to_latex())"
   ]
  },
  {
   "cell_type": "code",
   "execution_count": null,
   "metadata": {},
   "outputs": [],
   "source": []
  }
 ],
 "metadata": {
  "interpreter": {
   "hash": "926b4a5dfa11be4b7eff4b3e16b0a6c4aba97fdc08a97fde44133418dfd29264"
  },
  "kernelspec": {
   "display_name": "Python 3.8.12 64-bit ('base': conda)",
   "name": "python3"
  },
  "language_info": {
   "codemirror_mode": {
    "name": "ipython",
    "version": 3
   },
   "file_extension": ".py",
   "mimetype": "text/x-python",
   "name": "python",
   "nbconvert_exporter": "python",
   "pygments_lexer": "ipython3",
   "version": "3.8.12"
  },
  "orig_nbformat": 4
 },
 "nbformat": 4,
 "nbformat_minor": 2
}
