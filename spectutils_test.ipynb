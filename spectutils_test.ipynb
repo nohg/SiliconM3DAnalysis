{
 "cells": [
  {
   "cell_type": "markdown",
   "source": [
    "# Test specutils"
   ],
   "metadata": {}
  },
  {
   "cell_type": "code",
   "execution_count": 2,
   "source": [
    "from os.path import dirname, join as pjoin\n",
    "import scipy.io as sio\n",
    "from scipy.io import readsav\n",
    "\n",
    "from astropy.io import fits\n",
    "from astropy import units as u\n",
    "import numpy as np\n",
    "from matplotlib import pyplot as plt\n",
    "from astropy.visualization import quantity_support\n",
    "quantity_support()  # for getting units on the axes below  "
   ],
   "outputs": [
    {
     "output_type": "execute_result",
     "data": {
      "text/plain": [
       "<astropy.visualization.units.quantity_support.<locals>.MplQuantityConverter at 0x2b7afd8aa3a0>"
      ]
     },
     "metadata": {},
     "execution_count": 2
    }
   ],
   "metadata": {}
  },
  {
   "cell_type": "code",
   "execution_count": 4,
   "source": [
    "sav_fname = pjoin('../data/spectra/1631885174310_iag_sun_Si.sav')\n",
    "sav_data = readsav(sav_fname)\n",
    "f = open('../data/spectra/sun_kpnomu1_6000_8000A.txt')\n",
    "obs_spec2 = np.loadtxt(fname=f)\n",
    "\n",
    "# simulation has been run with mus: 1, 0.9, 0.8, 0.6, 0.4, 0.2\n",
    "# specify the indecies corresponding to these angles in the solar data\n",
    "sol_mu_ind = [0, 5, 7, 9, 11]\n",
    "\n",
    "# get the flux(intensity) and wavelengths corresponding to these angles\n",
    "sol_fluxes = [sav_data['iag_sun'].flux[0][ang] for ang in sol_mu_ind]\n",
    "sol_lams = [sav_data['iag_sun'].wave[0][ang] for ang in sol_mu_ind]\n",
    "sol_mus = [sav_data['iag_sun'].mu[0][ang] for ang in sol_mu_ind]\n"
   ],
   "outputs": [],
   "metadata": {}
  },
  {
   "cell_type": "code",
   "execution_count": 5,
   "source": [
    "from specutils import Spectrum1D\n",
    "\n",
    "spec = Spectrum1D(spectral_axis=sol_lams[0], flux=sol_fluxes[0])"
   ],
   "outputs": [
    {
     "output_type": "error",
     "ename": "ModuleNotFoundError",
     "evalue": "No module named 'specutils'",
     "traceback": [
      "\u001b[0;31m---------------------------------------------------------------------------\u001b[0m",
      "\u001b[0;31mModuleNotFoundError\u001b[0m                       Traceback (most recent call last)",
      "\u001b[0;32m<ipython-input-5-ccd153904c8d>\u001b[0m in \u001b[0;36m<module>\u001b[0;34m\u001b[0m\n\u001b[0;32m----> 1\u001b[0;31m \u001b[0;32mfrom\u001b[0m \u001b[0mspecutils\u001b[0m \u001b[0;32mimport\u001b[0m \u001b[0mSpectrum1D\u001b[0m\u001b[0;34m\u001b[0m\u001b[0;34m\u001b[0m\u001b[0m\n\u001b[0m\u001b[1;32m      2\u001b[0m \u001b[0;34m\u001b[0m\u001b[0m\n\u001b[1;32m      3\u001b[0m \u001b[0mspec\u001b[0m \u001b[0;34m=\u001b[0m \u001b[0mSpectrum1D\u001b[0m\u001b[0;34m(\u001b[0m\u001b[0mspectral_axis\u001b[0m\u001b[0;34m=\u001b[0m\u001b[0msol_lams\u001b[0m\u001b[0;34m[\u001b[0m\u001b[0;36m0\u001b[0m\u001b[0;34m]\u001b[0m\u001b[0;34m,\u001b[0m \u001b[0mflux\u001b[0m\u001b[0;34m=\u001b[0m\u001b[0msol_fluxes\u001b[0m\u001b[0;34m[\u001b[0m\u001b[0;36m0\u001b[0m\u001b[0;34m]\u001b[0m\u001b[0;34m)\u001b[0m\u001b[0;34m\u001b[0m\u001b[0;34m\u001b[0m\u001b[0m\n",
      "\u001b[0;31mModuleNotFoundError\u001b[0m: No module named 'specutils'"
     ]
    }
   ],
   "metadata": {}
  },
  {
   "cell_type": "code",
   "execution_count": null,
   "source": [],
   "outputs": [],
   "metadata": {}
  }
 ],
 "metadata": {
  "orig_nbformat": 4,
  "language_info": {
   "name": "python",
   "version": "3.8.5",
   "mimetype": "text/x-python",
   "codemirror_mode": {
    "name": "ipython",
    "version": 3
   },
   "pygments_lexer": "ipython3",
   "nbconvert_exporter": "python",
   "file_extension": ".py"
  },
  "kernelspec": {
   "name": "python3",
   "display_name": "Python 3.8.5 64-bit ('base': conda)"
  },
  "interpreter": {
   "hash": "07ab4a33c660deddbe7ff2692f08a2b6f289a093de5d5fb4b9f3973e1f52eaf0"
  }
 },
 "nbformat": 4,
 "nbformat_minor": 2
}