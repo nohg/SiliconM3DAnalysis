{
 "cells": [
  {
   "cell_type": "code",
   "execution_count": 1,
   "metadata": {},
   "outputs": [],
   "source": [
    "import matplotlib.pyplot as plt\n",
    "import sys\n",
    "sys.path.append('../main/')\n",
    "from multi_py.multi import *\n",
    "import numpy as np\n",
    "import sys  \n",
    "from os.path import dirname, join as pjoin\n",
    "import scipy.io as sio\n",
    "from scipy.io import readsav\n",
    "import copy\n",
    "import pandas as pd\n",
    "import os\n",
    "from scipy import integrate\n",
    "from scipy.signal import argrelextrema\n",
    "from scipy import interpolate\n",
    "from scipy import optimize\n",
    "import pickle\n",
    "from itertools import product\n",
    "from matplotlib.ticker import FormatStrFormatter\n",
    "# from shapely.geometry import LineString\n",
    "import scipy.constants\n",
    "\n",
    "\n",
    "%config InlineBackend.figure_format='svg'\n",
    "plt.style.use('default')\n",
    "plt.style.use('../main/multi_py/Bergemann2020.mplstyle')"
   ]
  },
  {
   "cell_type": "code",
   "execution_count": 2,
   "metadata": {},
   "outputs": [],
   "source": [
    "major_krs = [286, 291, 293, 299, 427] # 292 and 302 removed - empty gaps; 457 removed - does not appear in the ref paper\n",
    "sol_mus = [1.0, 0.9, 0.8, 0.6, 0.4, 0.2]\n"
   ]
  },
  {
   "cell_type": "markdown",
   "metadata": {},
   "source": [
    "## Read in observed spectrum"
   ]
  },
  {
   "cell_type": "code",
   "execution_count": 3,
   "metadata": {},
   "outputs": [],
   "source": [
    "sav_fname = pjoin('../../data/spectra/1631885174310_iag_sun_Si.sav')\n",
    "sav_data = readsav(sav_fname)\n",
    "# f = open('../../data/spectra/sun_kpnomu1_6000_8000A.txt')\n",
    "# obs_spec2 = np.loadtxt(fname=f)\n",
    "# f.close()"
   ]
  },
  {
   "cell_type": "code",
   "execution_count": 4,
   "metadata": {},
   "outputs": [],
   "source": [
    "# simulation has been run with mus: 1, 0.9, 0.8, 0.6, 0.4, 0.2\n",
    "# specify the indecies corresponding to these angles in the solar data\n",
    "sol_mu_ind = [0, 4, 5, 7, 9, 11]\n",
    "# get the flux(intensity) and wavelengths corresponding to these angles\n",
    "sol_fluxes = [sav_data['iag_sun'].flux[0][ang] for ang in sol_mu_ind]\n",
    "sol_lams = [sav_data['iag_sun'].wave[0][ang] for ang in sol_mu_ind]\n",
    "sol_mus = [sav_data['iag_sun'].mu[0][ang] for ang in sol_mu_ind]"
   ]
  },
  {
   "cell_type": "code",
   "execution_count": 5,
   "metadata": {},
   "outputs": [],
   "source": [
    "with open('../mdata/sol_int_renorm', \"rb\") as f:\n",
    "    sol_int_renorm = pickle.load(f)\n",
    "    \n",
    "with open('../mdata/sol_lam_range_list', \"rb\") as f:\n",
    "    sol_lam_range_list = pickle.load(f)\n",
    "\n",
    "with open('../mdata/new_eq_iag', \"rb\") as f:\n",
    "    new_eq_iag = pickle.load(f)\n"
   ]
  },
  {
   "cell_type": "markdown",
   "metadata": {},
   "source": [
    "## Read in simulated spectrum"
   ]
  },
  {
   "cell_type": "code",
   "execution_count": 6,
   "metadata": {},
   "outputs": [],
   "source": [
    "m3d_centre_wavelengths = [5645.613, 5684.484, 5701.104, 5772.146, 7034.901]"
   ]
  },
  {
   "cell_type": "code",
   "execution_count": 7,
   "metadata": {},
   "outputs": [],
   "source": [
    "# define new qmax for integrations based on +- 2 Å range used in the observed spectra\n",
    "qmax_array=10\n",
    "qmax_array = [4,10,10,10,10]\n",
    "max_int_lims = []\n",
    "for cw_i, cw in enumerate(m3d_centre_wavelengths):\n",
    "    wav_max = cw * qmax_array[cw_i] / (scipy.constants.c / 1e3)\n",
    "    # wav_mask =  np.abs(sol_lams[0]) < wav_max\n",
    "    # masked_lams = (sol_lams[0])[wav_mask]\n",
    "    max_int_lims.append([cw-wav_max, cw+wav_max]) \n",
    "max_int_lims = np.array(max_int_lims)"
   ]
  },
  {
   "cell_type": "code",
   "execution_count": 8,
   "metadata": {},
   "outputs": [],
   "source": [
    "def get_lines(thisrun, krs):\n",
    "    lines = []\n",
    "    for kr in krs:\n",
    "        lines.append(thisrun.line[kr])\n",
    "    return lines"
   ]
  },
  {
   "cell_type": "code",
   "execution_count": 9,
   "metadata": {},
   "outputs": [
    {
     "name": "stdout",
     "output_type": "stream",
     "text": [
      "Completed reading parameters from ../runs/SiStagNLTE_30_f3Dold/output//\n"
     ]
    }
   ],
   "source": [
    "# runfiles = ['../runs/Si_marcs_LTE_mus/output/', '../runs/Si_stag_NLTE_5x5x230_mus/output/', '../runs/Si_stag_NLTE_10x230_mu_iter/output','../runs/SiStagNLTE_10_f3Dold/output','../runs/Si_stag_NLTE_30_old/output']\n",
    "runfiles = ['../runs/Si_marcs_LTE_mus/output/', '../runs/SiStagNLTE_30_f3Dold/output/']\n",
    "# runfiles = ['../runs/Si_marcs_LTE_mus/output/', '../runs/Amarsi2017_F/SiMarcsLTE/output/']\n",
    "\n",
    "# runfiles = ['../runs/iosmet_runs/SiMarcsLTE/output/', '../runs/iosmet_runs/SiStagNLTE30_full3D/output/']\n",
    "\n",
    "labels=['1D LTE', '3D NLTE']\n",
    "# labels = [ '1D LTE', 'stag5old1.5D', 'stag10old1.5D', 'stag5oldf3D', 'stag30old1.5D']\n",
    "runobjects = [m3d(thisrun, lines=major_krs, conts=[]) for thisrun in runfiles]\n",
    "linesobj = [get_lines(thisrunobj, major_krs) for thisrunobj in runobjects]"
   ]
  },
  {
   "cell_type": "code",
   "execution_count": 10,
   "metadata": {},
   "outputs": [
    {
     "name": "stdout",
     "output_type": "stream",
     "text": [
      "Completed reading parameters from ../runs/Si_stag_LTE30_f3D/output/\n"
     ]
    }
   ],
   "source": [
    "# Read in 1D NLTE spectra for plotting\n",
    "run_1DNLTE = '../runs/SiMarcs1DNLTE/output/'\n",
    "runobj_1DNLTE = m3d(run_1DNLTE, lines=major_krs, conts=[])\n",
    "line_obj_1DNLTE = get_lines(runobj_1DNLTE, major_krs)\n",
    "# Read in 3D LTE spectra\n",
    "run_3DLTE = '../runs/Si_stag_LTE30_f3D/output'\n",
    "runobj_3DLTE = m3d(run_3DLTE, lines=major_krs, conts=[])\n",
    "lines_obj_3DLTE = get_lines(runobj_3DLTE, major_krs)"
   ]
  },
  {
   "cell_type": "code",
   "execution_count": 11,
   "metadata": {},
   "outputs": [],
   "source": [
    "wavelengths = [line.lam0 for line in linesobj[0]]\n"
   ]
  },
  {
   "cell_type": "code",
   "execution_count": 12,
   "metadata": {},
   "outputs": [],
   "source": [
    "def get_ang_intensity(run, kr):\n",
    "    sim_fluxes = [run.line[kr].i3[:,1]]\n",
    "    for i, _ in enumerate(sol_mu_ind[1:]):\n",
    "        ang=i+1\n",
    "        ang_idx = (ang-1)*4+1\n",
    "        sim_fluxes.append(np.mean(run.line[kr].i3[:, ang_idx:ang_idx+4], axis=-1))\n",
    "    return sim_fluxes"
   ]
  },
  {
   "cell_type": "markdown",
   "metadata": {},
   "source": [
    "## Plot input line profiles"
   ]
  },
  {
   "cell_type": "code",
   "execution_count": 13,
   "metadata": {},
   "outputs": [],
   "source": [
    "# def plot_mu_intensities(line_ind):\n",
    "#     # define the wavelength range for this line with the m3d central wavelenght:\n",
    "#     line_lam = copy.deepcopy(linesobj[0][line_ind].lam)\n",
    "#     line_lam += m3d_centre_wavelengths[line_ind] - linesobj[0][line_ind].lam0\n",
    "\n",
    "#     sim_int_1d = get_ang_intensity(runobjects[0], kr=major_krs[line_ind])\n",
    "#     sim_int_1d_norm = sim_int_1d/continuum(line_lam, np.array(sim_int_1d))\n",
    "#     sim_int_3d = get_ang_intensity(runobjects[1], kr=major_krs[line_ind])\n",
    "#     sim_int_3d_norm = sim_int_3d/continuum(line_lam, np.array(sim_int_3d))\n",
    "\n",
    "#     fig, ax = plt.subplots(len(sol_mu_ind), 1, figsize=(17,25))\n",
    "\n",
    "#     for i, mu in enumerate(sol_mu_ind):\n",
    "#         # plot 1D LTE with cmacroturbulence onvolution Vmac = 3km\n",
    "#         ax[i].plot(line_lam, sim_int_1d_norm[i], label=f'1D LTE')\n",
    "#         ax[i].plot(*convol(line_lam, sim_int_1d_norm[i], zeta_rt=3), label=f'1D LTE conv')\n",
    "\n",
    "#         ax[i].plot(line_lam, sim_int_3d_norm[i], label=f'3D NLTE') \n",
    "\n",
    "        \n",
    "#         ax[i].plot(sol_lams[i], sol_fluxes[i], linestyle='none', marker='.', zorder=100, label=f'IAG solar spec')\n",
    "\n",
    "        \n",
    "#         plt.sca(ax[i])\n",
    "#         plt.title(f'Line = {m3d_centre_wavelengths[line_ind]}, mu = {sol_mus[i]:.2f}')\n",
    "#         plt.xlim((m3d_centre_wavelengths[line_ind]-0.35), (m3d_centre_wavelengths[line_ind]+0.35))\n",
    "#         plt.ylim(0.35,1.05)\n",
    "#         plt.ylabel('Normalised Intensity')\n",
    "#         plt.xlabel('λ (Å)')\n",
    "#         plt.legend()\n",
    "# #     fig.savefig('../plots/kr5645_1.5D.pdf')"
   ]
  },
  {
   "cell_type": "code",
   "execution_count": 14,
   "metadata": {},
   "outputs": [],
   "source": [
    "# def plot_mu_intensities(line_ind):\n",
    "#     # define the wavelength range for this line with the m3d central wavelenght:\n",
    "#     line_lam = copy.deepcopy(linesobj[0][line_ind].lam)\n",
    "#     line_lam += m3d_centre_wavelengths[line_ind] - linesobj[0][line_ind].lam0\n",
    "\n",
    "#     # get the resolved intensities for the simulated spectra\n",
    "#     sim_ints_norm_list = []\n",
    "#     for i,run in enumerate(runobjects):\n",
    "#         sim_int = get_ang_intensity(runobjects[i], kr=major_krs[line_ind])\n",
    "#         sim_ints_norm = sim_int/continuum(line_lam, np.array(sim_int))\n",
    "#         sim_ints_norm_list.append(sim_ints_norm)\n",
    "\n",
    "\n",
    "#     # sim_int_1d = get_ang_intensity(runobjects[0], kr=major_krs[line_ind])\n",
    "#     # sim_int_1d_norm = sim_int_1d/continuum(line_lam, np.array(sim_int_1d))\n",
    "#     # sim_int_3d = get_ang_intensity(runobjects[1], kr=major_krs[line_ind])\n",
    "#     # sim_int_3d_norm = sim_int_3d/continuum(line_lam, np.array(sim_int_3d))\n",
    "\n",
    "#     fig, ax = plt.subplots(len(sol_mu_ind), 1, figsize=(17,25))\n",
    "\n",
    "#     for i, mu in enumerate(sol_mu_ind):\n",
    "#         for j, run in enumerate(sim_ints_norm_list):\n",
    "#             ax[i].plot(line_lam, sim_ints_norm_list[j][i], label=labels[j])\n",
    "#             if j==0:\n",
    "#             # plot 1D LTE with cmacroturbulence onvolution Vmac = 3km\n",
    "#              ax[i].plot(*convol(line_lam, sim_ints_norm_list[j][i], zeta_rt=3), label=f'1D LTE conv')\n",
    "\n",
    "\n",
    "        \n",
    "#         ax[i].plot(sol_lams[i], sol_fluxes[i], linestyle='none', marker='.', zorder=100, label=f'IAG solar spec')\n",
    "\n",
    "        \n",
    "#         plt.sca(ax[i])\n",
    "#         plt.title(f'Line = {m3d_centre_wavelengths[line_ind]}, mu = {sol_mus[i]:.2f}')\n",
    "#         plt.xlim((m3d_centre_wavelengths[line_ind]-0.35), (m3d_centre_wavelengths[line_ind]+0.35))\n",
    "#         plt.ylim(0.35,1.05)\n",
    "#         plt.ylabel('Normalised Intensity')\n",
    "#         plt.xlabel('λ (Å)')\n",
    "#         plt.legend()\n",
    "#     # fig.savefig('line1_mudep.pdf')"
   ]
  },
  {
   "cell_type": "markdown",
   "metadata": {},
   "source": [
    "## Normalise Simulated Spectra"
   ]
  },
  {
   "cell_type": "code",
   "execution_count": 15,
   "metadata": {},
   "outputs": [],
   "source": [
    "# sim_int_1d_norm_ar = np.zeros((len(major_krs), len(sol_mus)))\n",
    "sim_int_1d_norm_ar = {}\n",
    "sim_int_3d_norm_ar = {}\n",
    "line_lams = {}\n",
    "# sim_int_3d_norm_ar = np.zeros((len(major_krs), len(sol_mus)))\n",
    "sim_int_1dnlte_norm_ar = {}\n",
    "sim_int_3dlte_norm_ar = {}\n",
    "sim_int_1d_dict = {}\n",
    "sim_int_3dnlte_dict = {}\n",
    "sim_int_3dlte_dict = {}\n",
    "\n",
    "\n",
    "for k, _ in enumerate(major_krs):\n",
    "        line_lam = copy.deepcopy(linesobj[0][k].lam)\n",
    "        line_lam += m3d_centre_wavelengths[k] - linesobj[0][k].lam0\n",
    "        line_lams[k] = line_lam\n",
    "\n",
    "        sim_int_1d = get_ang_intensity(runobjects[0], kr=major_krs[k])\n",
    "        sim_int_1d_dict[k] = sim_int_1d\n",
    "        # sim_int_1d_norm_ar[k].append(sim_int_1d/continuum(line_lam, np.array(sim_int_1d))\n",
    "        sim_int_1d_norm_ar[k] = sim_int_1d/continuum(line_lam, np.array(sim_int_1d))\n",
    "        # sim_int_1d_norm_ar = np.stack((sim_int_1d/continuum(line_lam, np.array(sim_int_1d)),sim_int_1d_norm_ar))\n",
    "        sim_int_3dnlte = get_ang_intensity(runobjects[1], kr=major_krs[k])\n",
    "        sim_int_3dnlte_dict[k] = sim_int_3dnlte\n",
    "        # sim_int_3d_norm_ar[k,:] = sim_int_3d/continuum(line_lam, np.array(sim_int_3d))\n",
    "        sim_int_3d_norm_ar[k] = sim_int_3dnlte/continuum(line_lam, np.array(sim_int_3dnlte))\n",
    "\n",
    "        # 1D NLTE\n",
    "        sim_int_1dnlte = get_ang_intensity(runobj_1DNLTE, kr=major_krs[k])\n",
    "        sim_int_1dnlte_norm_ar[k] = sim_int_1dnlte/continuum(line_lam, np.array(sim_int_1dnlte))\n",
    "\n",
    "        # 3D LTE\n",
    "        sim_int_3dlte = get_ang_intensity(runobj_3DLTE, kr=major_krs[k])\n",
    "        sim_int_3dlte_dict[k] = sim_int_3dlte\n",
    "        sim_int_3dlte_norm_ar[k] = sim_int_3dlte/continuum(line_lam, np.array(sim_int_3dlte))\n",
    "\n"
   ]
  },
  {
   "cell_type": "code",
   "execution_count": 16,
   "metadata": {},
   "outputs": [],
   "source": [
    "# with open('../mdata/normalised_intensities/1DLTE', 'wb') as f:\n",
    "#     pickle.dump(sim_int_1d_norm_ar, f)\n",
    "# with open('../mdata/normalised_intensities/1DNLTE', 'wb') as f:\n",
    "#     pickle.dump(sim_int_1dnlte_norm_ar, f)\n",
    "# with open('../mdata/normalised_intensities/3DLTE', 'wb') as f:\n",
    "#     pickle.dump(sim_int_3d_norm_ar, f)\n",
    "# with open('../mdata/normalised_intensities/3DNLTE', 'wb') as f:\n",
    "#     pickle.dump(sim_int_3dlte_norm_ar, f)\n",
    "# with open('../mdata/line_lams', 'wb') as f:\n",
    "#     pickle.dump(line_lams, f)\n",
    "# with open('../mdata/sol_mus', 'wb') as f:\n",
    "#     pickle.dump(sol_mus, f)b"
   ]
  },
  {
   "cell_type": "code",
   "execution_count": null,
   "metadata": {},
   "outputs": [],
   "source": [
    "qmax_int_lims = []"
   ]
  },
  {
   "cell_type": "markdown",
   "metadata": {},
   "source": [
    "## B&W profile grid plot"
   ]
  },
  {
   "cell_type": "code",
   "execution_count": null,
   "metadata": {},
   "outputs": [],
   "source": [
    "# plot line profiles for 1D LTE, 3D NLTE and IAG\n",
    "if plot==True:\n",
    "    plt.rcParams.update({'font.size': 13})\n",
    "\n",
    "    fig, ax = plt.subplots(len(sol_mus), len(major_krs), figsize=(13,15), sharex='col', sharey='row')\n",
    "\n",
    "\n",
    "    for i, thismu in enumerate(sol_mus):\n",
    "\n",
    "        for j, line_i in enumerate(major_krs):\n",
    "\n",
    "            ax[i,j].scatter(sol_lam_range_list[j,i], sol_int_renorm[j,i],marker='.',s=65,zorder=1, color='lightgray', label='IAG')\n",
    "            ax[i,j].plot(*convol(line_lams[j], sim_int_1d_norm_ar[j][i], zeta_rt=3), label='1D LTE', color='k', linestyle=':',linewidth='2')\n",
    "            ax[i,j].plot(line_lams[j], sim_int_3d_norm_ar[j][i], label='3D NLTE', color='k', linestyle='-',linewidth='2')\n",
    "            \n",
    "            ax[i,j].set_xlim((m3d_centre_wavelengths[j]-0.3), (m3d_centre_wavelengths[j]+0.3))\n",
    "            ax[i,j].set_xticks(ticks=np.linspace(m3d_centre_wavelengths[j]-0.25, m3d_centre_wavelengths[j]+0.25,3) ,labels=np.linspace(-0.25,0.25,3))\n",
    "            for lim in max_int_lims[j,:]:\n",
    "                ax[i,j].axvline(lim, color='silver')\n",
    "            # ax[i,j].legend(fontsize=10)\n",
    "            plt.sca(ax[i,j])\n",
    "            plt.ylim(0.35,1.03) \n",
    "            if i == 0:\n",
    "                ax[i,j].set_title(f'{m3d_centre_wavelengths[j]:.2f} Å')\n",
    "            if i == len(sol_mus)-1:\n",
    "                ax[i,j].set_xlabel('$\\Delta \\lambda$ Å')\n",
    "            if j == 0:\n",
    "                ax[i,j].set_ylabel(f'$\\mu = {thismu:.1f}$')\n",
    "                ax[i,j].legend(fontsize=10)\n",
    "    # [fig.delaxes(ax[b,1]) for b in [0,1,2,3,4,5]]\n",
    "    fig.supylabel('Normalised Intensity', fontsize=15)\n",
    "    plt.tight_layout()\n",
    "    plt.subplots_adjust(left=None, bottom=None, right=None, top=None, wspace=0.1, hspace=None)\n",
    "\n",
    "    # fig.savefig('../plots/prof_grid_sim_supy.pdf')"
   ]
  },
  {
   "cell_type": "code",
   "execution_count": null,
   "metadata": {},
   "outputs": [],
   "source": [
    "# plot line profiles with before and after normalisation REDUCED PLOT \n",
    "\n",
    "plot=True\n",
    "if plot==True:\n",
    "    # major_krs_red = [286, 293, 299, 427]\n",
    "    # sol_mus_red = [1.0, 0.8, 0.4, 0.2]\n",
    "    \n",
    "    plt.rcParams.update({'font.size': 13})\n",
    "\n",
    "    fig, ax = plt.subplots(4,3, figsize=(13,15), sharex='col', sharey='row')\n",
    "\n",
    "    iax=0\n",
    "    for i, thismu in enumerate(sol_mus):\n",
    "        if i not in [1,3]:\n",
    "            print(thismu)\n",
    "            jax=0\n",
    "            for j, line_i in enumerate(major_krs):\n",
    "                if j not in [1,4]:\n",
    "                    ax[iax,jax].scatter(sol_lam_range_list[j,i], sol_int_renorm[j,i],marker='.',s=65,zorder=1, color='lightgray', label='IAG')\n",
    "                    ax[iax,jax].plot(*convol(line_lams[j], sim_int_1d_norm_ar[j][i], zeta_rt=3), label='1D LTE', color='k', linestyle=':',linewidth='2')\n",
    "                    ax[iax,jax].plot(line_lams[j], sim_int_3d_norm_ar[j][i], label='3D NLTE', color='k', linestyle='-',linewidth='2')\n",
    "                    \n",
    "                    lmax= 0.2\n",
    "                    ax[iax,jax].set_xlim((m3d_centre_wavelengths[j]-lmax), (m3d_centre_wavelengths[j]+lmax))\n",
    "                    ax[iax,jax].set_xticks(ticks=np.linspace(m3d_centre_wavelengths[j]-lmax, m3d_centre_wavelengths[j]+lmax,3) ,labels=np.linspace(-lmax,lmax,3))\n",
    "                    # for lim in max_int_lims[j,:]:\n",
    "                    #     ax[iax,jax].axvline(lim, color='silver')\n",
    "                    # ax[i,j].legend(fontsize=10)\n",
    "                    plt.sca(ax[iax,jax])\n",
    "                    plt.ylim(0.45,1.03) \n",
    "                    if iax == 0:\n",
    "                        ax[iax,jax].set_title(f'{m3d_centre_wavelengths[j]:.2f} Å')\n",
    "                    if iax == 3:\n",
    "                        ax[iax,jax].set_xlabel('$\\Delta \\lambda$ Å')\n",
    "                    if jax == 0:\n",
    "                        ax[iax,jax].set_ylabel(f'$\\mu = {thismu:.1f}$')\n",
    "                        ax[iax,jax].legend(fontsize=10)\n",
    "                    \n",
    "                    jax+=1\n",
    "                    \n",
    "            iax+=1\n",
    "            if iax==4:\n",
    "                break\n",
    "            \n",
    "    fig.supylabel('Normalised Intensity', fontsize=15)\n",
    "    plt.tight_layout()\n",
    "    plt.subplots_adjust(left=None, bottom=None, right=None, top=None, wspace=0.1, hspace=None)\n",
    "\n",
    "    # fig.savefig('../plots/prof_grid_REDUCED_FURTHER.pdf')"
   ]
  },
  {
   "cell_type": "markdown",
   "metadata": {},
   "source": [
    "## Read in CoG simulated spectra and calculate EWs"
   ]
  },
  {
   "cell_type": "code",
   "execution_count": null,
   "metadata": {},
   "outputs": [],
   "source": [
    "LTE_runs = '../runs/Si_marcs_LTE_dir/'\n",
    "# LTE_runs = '../runs/iosmet_runs/SiMarcsLTEdir/'\n",
    "# LTE_runs = '../runs/Amarsi2017_F/SiMarcsLTEdir/'\n",
    "\n",
    "LTE1d_cog = CoG(runs=LTE_runs, lines=major_krs)"
   ]
  },
  {
   "cell_type": "code",
   "execution_count": null,
   "metadata": {},
   "outputs": [],
   "source": [
    "def get_cog_eqw(cogobj, kr, qmax):\n",
    "    all_eqws =  [cogobj.calc_weq(kr=kr, qmax=qmax, ang=ang, norm=True) for ang in range((4*len(sol_mus[1:])+1))]\n",
    "    # print(all_eqws)\n",
    "    kr_eqws = [all_eqws[0]]\n",
    "    # print(kr_eqws)\n",
    "    for mu, _ in enumerate(sol_mus[1:]):\n",
    "        ang_start = mu*4+1\n",
    "        ang_end = ang_start+4\n",
    "        kr_eqws.append(np.mean(all_eqws[ang_start:ang_end], axis=0))\n",
    "        # print(f'{ang_start}:{ang_end}')\n",
    "        # print(f'range-{all_eqws[ang_start]}:{all_eqws[ang_end-1]}')\n",
    "    return kr_eqws"
   ]
  },
  {
   "cell_type": "code",
   "execution_count": null,
   "metadata": {},
   "outputs": [],
   "source": [
    "def get_line_eqw(linesobject, line, qmax):\n",
    "    all_eqws =  [linesobject[line].calc_weq(qmax=qmax, ang=ang, norm=True) for ang in range((4*len(sol_mus[1:])+1))]\n",
    "    # print(all_eqws)\n",
    "    line_eqws = [all_eqws[0]]\n",
    "    for mu, _ in enumerate(sol_mus[1:]):\n",
    "        ang_start = mu*4+1\n",
    "        ang_end = ang_start+4\n",
    "        line_eqws.append(np.mean(all_eqws[ang_start:ang_end]))\n",
    "        # print(f'{all_corrs[ang_start]}:{all_corrs[ang_end-1]}')\n",
    "    return line_eqws"
   ]
  },
  {
   "cell_type": "code",
   "execution_count": null,
   "metadata": {},
   "outputs": [],
   "source": [
    "# eqwidths_1dlte = np.array([[test_cog.calc_weq(kr=kr, ang=ang, qmax=qmax_array[thisline], norm=True) for ang in range(len(mu_zs))] for kr in major_krs])\n",
    "eqwidths_1dlte = np.array([get_cog_eqw(cogobj=LTE1d_cog, kr=thiskr, qmax=qmax_array[tk]) for tk, thiskr in enumerate(major_krs)])"
   ]
  },
  {
   "cell_type": "markdown",
   "metadata": {},
   "source": [
    "## 1D LTE run using Amarsi 2017 atom file changes"
   ]
  },
  {
   "cell_type": "code",
   "execution_count": null,
   "metadata": {},
   "outputs": [],
   "source": [
    "Ama_1DLTE_runfile = '../runs/Amarsi2017_F/SiMarcsLTE/output/'\n",
    "Ama_1DLTE_runobj = m3d(Ama_1DLTE_runfile, lines=major_krs, conts=[])\n",
    "Ama_1DLTE_lines = get_lines(Ama_1DLTE_runobj, major_krs)"
   ]
  },
  {
   "cell_type": "code",
   "execution_count": null,
   "metadata": {},
   "outputs": [],
   "source": [
    "Ama_1DLTE_EWs = [get_line_eqw(linesobject=Ama_1DLTE_lines, line=thisline, qmax=qmax_array[thisline]) for thisline in range(len((Ama_1DLTE_lines)))]"
   ]
  },
  {
   "cell_type": "code",
   "execution_count": null,
   "metadata": {},
   "outputs": [],
   "source": [
    "Ama_1DLTE_EWs[0]"
   ]
  },
  {
   "cell_type": "markdown",
   "metadata": {},
   "source": [
    "## Plot EWs vs mu angles for CoG 1D LTE, 3D NLTE and observed spectra\n"
   ]
  },
  {
   "cell_type": "code",
   "execution_count": null,
   "metadata": {},
   "outputs": [],
   "source": [
    "NLTE3d_runfile = '../runs/SiStagNLTE_30_f3Dold/output/'\n",
    "NLTE3d_runobj = m3d(NLTE3d_runfile, lines=major_krs, conts=[])\n",
    "NLTE3d_lines = get_lines(NLTE3d_runobj, major_krs)"
   ]
  },
  {
   "cell_type": "code",
   "execution_count": null,
   "metadata": {},
   "outputs": [],
   "source": [
    "LTE1d_runfile = '../runs/Si_marcs_LTE_mus/output/'\n",
    "LTE1d_runobj = m3d(LTE1d_runfile, lines=major_krs, conts=[])\n",
    "LTE1d_lines = get_lines(LTE1d_runobj, major_krs)"
   ]
  },
  {
   "cell_type": "code",
   "execution_count": null,
   "metadata": {},
   "outputs": [],
   "source": [
    "NLTE3d_EWs = [get_line_eqw(linesobject=NLTE3d_lines, line=thisline, qmax=qmax_array[thisline]) for thisline in range(len((NLTE3d_lines)))]\n",
    "LTE1D_EWs = [get_line_eqw(linesobject=LTE1d_lines, line=thisline, qmax=qmax_array[thisline]) for thisline in range(len((LTE1d_lines)))]"
   ]
  },
  {
   "cell_type": "markdown",
   "metadata": {},
   "source": [
    "## Test qmax for line 0"
   ]
  },
  {
   "cell_type": "code",
   "execution_count": null,
   "metadata": {},
   "outputs": [],
   "source": [
    "fig,ax = plt.subplots(1)\n",
    "qmax_range = np.arange(4,6,0.5)\n",
    "test_ews = []\n",
    "for this_qmax in qmax_range:\n",
    "    this_ew = NLTE3d_lines[0].calc_weq(qmax=this_qmax, ang=0, norm=True)\n",
    "    test_ews.append(this_ew)\n",
    "ax.scatter(qmax_range, test_ews)\n",
    "ax.set_xlabel('qmax')\n",
    "ax.set_ylabel('EW')\n"
   ]
  },
  {
   "cell_type": "code",
   "execution_count": null,
   "metadata": {},
   "outputs": [],
   "source": [
    "LTE1d_lines[0].plot()"
   ]
  },
  {
   "cell_type": "code",
   "execution_count": null,
   "metadata": {},
   "outputs": [],
   "source": [
    "# fig, axs = plt.subplots(2,3, figsize=(15,8),squeeze=True)\n",
    "\n",
    "# # for i, run in enumerate(ex_1d_eqw):\n",
    "# #     axs[1,1].plot(sol_mus, ex_1d_eqw[:,i], '--o', label=round(test_cog.abnds[i],2))\n",
    "# count = 0\n",
    "# for col, ax in zip(range(len(major_krs)), axs.flatten()):\n",
    "\n",
    "#     # ax.plot(sol_mus, eq_iag[col],'r--x', label='IAG')\n",
    "#     # ax.set_xlabel('mu')\n",
    "#     # ax.set_ylabel('Eq. width, mÅ')\n",
    "#     # ax.set_title(f'IAG & 1D LTE eq. widths, λ={m3d_centre_wavelengths[col]}')\n",
    "#     # for i, run in enumerate(LTE1d_cog.abnds):\n",
    "#     #     ax.plot(sol_mus, eqwidths_1dlte[col,:,i], '--o', label=f'1D LTE {round(LTE1d_cog.abnds[i],2)}')\n",
    "\n",
    "#     # plot the 3D NLTE EWs\n",
    "    \n",
    "#     if col==0 or col==3 or col==4:\n",
    "\n",
    "\n",
    "#         ax.plot(sol_mus, eq_iag[col],'r--x', label='IAG')\n",
    "#         ax.set_xlabel('mu')\n",
    "#         ax.set_ylabel('Eq. width, mÅ')\n",
    "#         ax.set_title(f'IAG & 1D LTE eq. widths, λ={m3d_centre_wavelengths[col]}')\n",
    "#         for i, run in enumerate(LTE1d_cog.abnds):\n",
    "#             ax.plot(sol_mus, eqwidths_1dlte[col,:,i], '--o', label=f'1D LTE {round(LTE1d_cog.abnds[i],2)}')\n",
    "\n",
    "#         # plot the 3D NLTE EWs\n",
    "#         ax.plot(sol_mus, eq_3DNLTE[count], label='NLTE')\n",
    "\n",
    "\n",
    "#         count +=1\n",
    "#     if col==4:\n",
    "#         handles, labels = ax.get_legend_handles_labels()\n",
    "#         fig.legend(handles, labels, loc=(0.8,0.1))\n",
    "\n",
    "\n",
    "# plt.tight_layout()\n",
    "# # plt.savefig('../plots/EWs_mus_IOSMET_withNLTE.pdf')"
   ]
  },
  {
   "cell_type": "markdown",
   "metadata": {},
   "source": [
    "## Plot EWs after observed spectra processing"
   ]
  },
  {
   "cell_type": "code",
   "execution_count": null,
   "metadata": {},
   "outputs": [],
   "source": [
    "# fig, axs = plt.subplots(2,3, figsize=(15,10),squeeze=True)\n",
    "\n",
    "# # for i, run in enumerate(ex_1d_eqw):\n",
    "# #     axs[1,1].plot(sol_mus, ex_1d_eqw[:,i], '--o', label=round(test_cog.abnds[i],2))\n",
    "\n",
    "# for col, ax in zip(range(len(major_krs)), axs.flatten()):\n",
    "\n",
    "#     ax.plot(sol_mus, new_eq_iag[col],'r--x', label='IAG')\n",
    "#     ax.set_xlabel('mu')\n",
    "#     ax.set_ylabel('Eq. width, mÅ')\n",
    "#     ax.set_title(f'IAG & 1D LTE eq. widths, λ={m3d_centre_wavelengths[col]}')\n",
    "#     for i, run in enumerate(LTE1d_cog.abnds):\n",
    "#         ax.plot(sol_mus, eqwidths_1dlte[col,:,i], '--o', label=round(LTE1d_cog.abnds[i],2))\n",
    "#     ax.legend()\n",
    "\n",
    "\n",
    "# plt.tight_layout()\n",
    "# # plt.savefig('plots/IAG_ewq.pdf')"
   ]
  },
  {
   "cell_type": "code",
   "execution_count": null,
   "metadata": {},
   "outputs": [],
   "source": [
    "# fig, axs = plt.subplots(2,3, figsize=(15,8),squeeze=True)\n",
    "\n",
    "# # for i, run in enumerate(ex_1d_eqw):\n",
    "# #     axs[1,1].plot(sol_mus, ex_1d_eqw[:,i], '--o', label=round(test_cog.abnds[i],2))\n",
    "# count = 0\n",
    "# for col, ax in zip(range(len(major_krs)), axs.flatten()):\n",
    "\n",
    "#     # ax.plot(sol_mus, eq_iag[col],'r--x', label='IAG')\n",
    "#     # ax.set_xlabel('mu')\n",
    "#     # ax.set_ylabel('Eq. width, mÅ')\n",
    "#     # ax.set_title(f'IAG & 1D LTE eq. widths, λ={m3d_centre_wavelengths[col]}')\n",
    "#     # for i, run in enumerate(LTE1d_cog.abnds):\n",
    "#     #     ax.plot(sol_mus, eqwidths_1dlte[col,:,i], '--o', label=f'1D LTE {round(LTE1d_cog.abnds[i],2)}')\n",
    "\n",
    "#     # plot the 3D NLTE EWs\n",
    "    \n",
    "#     if col==0 or col==3 or col==4:\n",
    "\n",
    "\n",
    "#         ax.plot(sol_mus, new_eq_iag[col],'r--x', label='IAG')\n",
    "#         ax.set_xlabel('mu')\n",
    "#         ax.set_ylabel('Eq. width, mÅ')\n",
    "#         ax.set_title(f'IAG & 1D LTE eq. widths, λ={m3d_centre_wavelengths[col]}')\n",
    "#         for i, run in enumerate(LTE1d_cog.abnds):\n",
    "#             ax.plot(sol_mus, eqwidths_1dlte[col,:,i], '--o', label=f'1D LTE {round(LTE1d_cog.abnds[i],2)}')\n",
    "\n",
    "#         # plot the 3D NLTE EWs\n",
    "#         ax.plot(sol_mus, NLTE3d_EWs[count], label='NLTE')\n",
    "\n",
    "\n",
    "#         count +=1\n",
    "#     if col==4:\n",
    "#         handles, labels = ax.get_legend_handles_labels()\n",
    "#         fig.legend(handles, labels, loc=(0.8,0.1))\n",
    "\n",
    "\n",
    "# plt.tight_layout()\n",
    "# # plt.savefig('../plots/EWs_mus_IOSMET_withNLTE_renormed.pdf')"
   ]
  },
  {
   "cell_type": "code",
   "execution_count": null,
   "metadata": {},
   "outputs": [],
   "source": [
    "# M: make EWs vs mu plot with only one 1D LTE line\n",
    "fig=plt.figure(figsize=(13,7))\n",
    "for i in range(1, 6):\n",
    "    fig.add_subplot(2, 3, i)\n",
    "    # plot observed spectra EWs\n",
    "    plt.plot(sol_mus, new_eq_iag[i-1],'r--x', label='IAG observed spectrum')\n",
    "    # plot the 3D NLTE EWs\n",
    "    plt.plot(sol_mus, NLTE3d_EWs[i-1], '--s', label='3D NLTE')\n",
    "    # plot 1D LTE EWs for abund=7.56 from CoG array of runs\n",
    "    # central_abund_ind=4\n",
    "    # plt.plot(sol_mus, eqwidths_1dlte[i-1,:,central_abund_ind], '--o', label=f'1D LTE (abund={round(LTE1d_cog.abnds[central_abund_ind],2)})')\n",
    "    \n",
    "    for j, abd in enumerate(LTE1d_cog.abnds):\n",
    "        plt.plot(sol_mus, eqwidths_1dlte[i-1,:,j], '--o', label=f'1D LTE (abund={round(LTE1d_cog.abnds[j],2)})')\n",
    "\n",
    "    \n",
    "    plt.xlabel('mu')\n",
    "    plt.ylabel('Eq. width, mÅ')\n",
    "    plt.title(f'IAG & 1D LTE eq. widths, λ={m3d_centre_wavelengths[i-1]}')\n",
    "    # if i==5:\n",
    "        # handles, labels = ax.get_legend_handles_labels()\n",
    "        # fig.legend(handles, labels, loc=(0.8,0.1))\n",
    "handles, labels = plt.gca().get_legend_handles_labels()\n",
    "fig.legend(handles, labels, loc=(0.75,0.10), fontsize='large')\n",
    "\n",
    "plt.tight_layout()\n",
    "# plt.savefig('../plots/EWs_renorm_allabs.pdf')"
   ]
  },
  {
   "cell_type": "code",
   "execution_count": null,
   "metadata": {},
   "outputs": [],
   "source": [
    "LTE1d_cog.abnds"
   ]
  },
  {
   "cell_type": "code",
   "execution_count": null,
   "metadata": {},
   "outputs": [],
   "source": [
    "# EWs vs mu plot with Amarsi atom file 1D LTE\n",
    "fig=plt.figure(figsize=(13,7))\n",
    "for i in range(1, 6):\n",
    "    fig.add_subplot(2, 3, i)\n",
    "    # plot observed spectra EWs\n",
    "    plt.plot(sol_mus, new_eq_iag[i-1],'r--x', label='IAG observed spectrum')\n",
    "    # plot the 3D NLTE EWs\n",
    "    plt.plot(sol_mus, NLTE3d_EWs[i-1], '--s', label='3D NLTE')\n",
    "    # plot 1D LTE EWs for abund=7.56 from CoG array of runs\n",
    "    # plt.plot(sol_mus, Ama_1DLTE_EWs[i-1], '--o', label=f'1D LTE Amarsi F')\n",
    "    plt.plot(sol_mus, LTE1D_EWs[i-1], '--o', label=f'1D LTE')\n",
    "\n",
    "    \n",
    "    plt.xlabel('mu')\n",
    "    plt.ylabel('Eq. width, mÅ')\n",
    "    plt.title(f'IAG & 1D LTE eq. widths, λ={m3d_centre_wavelengths[i-1]}')\n",
    "    # if i==5:\n",
    "        # handles, labels = ax.get_legend_handles_labels()\n",
    "        # fig.legend(handles, labels, loc=(0.8,0.1))\n",
    "handles, labels = plt.gca().get_legend_handles_labels()\n",
    "fig.legend(handles, labels, loc=(0.75,0.17), fontsize='large')\n",
    "# plt.savefig('../plots/EWs_renorm_3linesAmarsi.pdf')\n",
    "# plt.savefig('../plots/EWs_renorm_3lines.pdf')\n",
    "\n",
    "\n",
    "plt.tight_layout()"
   ]
  },
  {
   "cell_type": "code",
   "execution_count": null,
   "metadata": {},
   "outputs": [],
   "source": [
    "# EWs vs mu plot with Amarsi atom file 1D LTE\n",
    "fig, ax = plt.subplots(1,3, figsize=(15,5))\n",
    "# v = product(range(2),range(3))\n",
    "plt.rcParams.update({'font.size': 13})\n",
    "\n",
    "for i, line in enumerate([0,2,3]):\n",
    "    ax[i].plot(sol_mus, new_eq_iag[line],'--o', label='IAG observed spectrum', color='k')\n",
    "    # ax[i].plot(sol_mus, iag_3DNLTE_corrected_abund[i], 'x', label='1D LTE + $\\Delta$ 3D NLTE')\n",
    "    ax[i].plot(sol_mus, NLTE3d_EWs[line], '--o', label='3D NLTE', color='darkred')\n",
    "    ax[i].plot(sol_mus, LTE1D_EWs[line], '--o', label=f'1D LTE', color='lightcoral')\n",
    "    ax[i].set_xlabel('$\\mu$')\n",
    "    ax[i].set_ylabel('EW, mÅ')\n",
    "    # a[i].set_title(f' IAG spectrum, λ={np.take(m3d_centre_wavelengths,[0,3,4])[i]}')\n",
    "    ax[i].set_title(f'{m3d_centre_wavelengths[line]} Å')\n",
    "    # ax[i].set_ylim(7.26, 7.85)\n",
    "    # ax[line].legend(loc='best',frameon=1, fontsize='small')\n",
    "handles, labels = plt.gca().get_legend_handles_labels()\n",
    "fig.legend(handles, labels, loc=(0.78,0.15), fontsize='medium',frameon=False)\n",
    "\n",
    "plt.tight_layout()\n",
    "plt.subplots_adjust(left=None, bottom=None, right=None, top=None, wspace=0.27, hspace=None)\n",
    "# fig.savefig('../plots/EW_mu_1005.pdf')"
   ]
  },
  {
   "cell_type": "code",
   "execution_count": null,
   "metadata": {},
   "outputs": [],
   "source": [
    "# plt.scatter(eqwidths_1dlte[0,0,:], LTE1d_cog.abnds)\n",
    "# plt.vlines(new_eq_iag[0,0], 7.3, 7.8)"
   ]
  },
  {
   "cell_type": "markdown",
   "metadata": {},
   "source": [
    "## Interpolate  and plot abundances for observed spectra"
   ]
  },
  {
   "cell_type": "markdown",
   "metadata": {},
   "source": [
    "### Interpolate and save abundances \n",
    "(commented out now as to just read in only pre-calculted abunds - uncomment to run again)"
   ]
  },
  {
   "cell_type": "code",
   "execution_count": null,
   "metadata": {},
   "outputs": [],
   "source": [
    "def interp_abund(lte1d_lines_eq, lte1d_abundances, iag_eq):\n",
    "    interpd_sol_abunds = np.zeros((len(lte1d_lines_eq), len(sol_mus)), dtype=object)\n",
    "    for i, line_eq in enumerate(lte1d_lines_eq):\n",
    "        for j, mu in enumerate(sol_mus):\n",
    "            x = lte1d_lines_eq[i,j,:]\n",
    "            y = lte1d_abundances\n",
    "            f = interpolate.interp1d(x,y,fill_value='extrapolate')\n",
    "\n",
    "            interpd_sol_abunds[i,j] = f(iag_eq[i,j])\n",
    "    return interpd_sol_abunds"
   ]
  },
  {
   "cell_type": "code",
   "execution_count": null,
   "metadata": {},
   "outputs": [],
   "source": [
    "iag_1dlte_abunds = interp_abund(np.take(eqwidths_1dlte, [0,2,3,4], axis=0), LTE1d_cog.abnds, np.take(new_eq_iag, [0,2,3,4], axis=0))\n",
    "iag_1dlte_abunds = interp_abund(eqwidths_1dlte,  LTE1d_cog.abnds, new_eq_iag)"
   ]
  },
  {
   "cell_type": "code",
   "execution_count": null,
   "metadata": {},
   "outputs": [],
   "source": [
    "# # NLTE3Dcorrections = np.load('../mdata/3DNLTE_abund_corr_old30_newang.npy')\n",
    "NLTE3Dcorrections = np.load('../mdata/3DNLTE_abund_corr_no_iosmet_5wls.npy')\n",
    "NLTE1Dcorrections = np.load('../mdata/1DNLTE_abund_corr_no_iosmet_5wls.npy')\n",
    "LTE3Dcorrections = np.load('../mdata/3DLTE_abund_corr_2404.npy')\n",
    "\n"
   ]
  },
  {
   "cell_type": "code",
   "execution_count": null,
   "metadata": {},
   "outputs": [],
   "source": [
    "# # iag_3DNLTE_corrected_abund = np.add(iag_1dlte_abunds, NLTE3Dcorrections.reshape(3,6))\n",
    "iag_3DNLTE_corrected_abund = np.add(iag_1dlte_abunds, NLTE3Dcorrections)\n",
    "iag_1DNLTE_corrected_abund = np.add(iag_1dlte_abunds, NLTE1Dcorrections)\n",
    "iag_3DLTE_corrected_abund = np.add(iag_1dlte_abunds, LTE3Dcorrections)"
   ]
  },
  {
   "cell_type": "code",
   "execution_count": null,
   "metadata": {},
   "outputs": [],
   "source": [
    "# # # # save calculated abundances\n",
    "# with open('../mdata/1d_lte_abunds', 'wb') as f:\n",
    "#     pickle.dump(iag_1dlte_abunds, f)\n",
    "# with open('../mdata/3DNLTE_corrected_abunds', 'wb') as f:\n",
    "#     pickle.dump(iag_3DNLTE_corrected_abund, f)\n",
    "\n",
    "# with open('../mdata/1DNLTE_corrected_abunds', 'wb') as f:\n",
    "#     pickle.dump(iag_1DNLTE_corrected_abund, f)\n",
    "\n",
    "# with open('../mdata/3DLTE_corrected_abunds', 'wb') as f:\n",
    "#     pickle.dump(iag_3DLTE_corrected_abund, f)\n"
   ]
  },
  {
   "cell_type": "code",
   "execution_count": null,
   "metadata": {},
   "outputs": [],
   "source": [
    "with open('../mdata/3DNLTE_corrected_abunds', \"rb\") as f:\n",
    "    iag_3DNLTE_corrected_abund = pickle.load(f)\n",
    "with open('../mdata/1DNLTE_corrected_abunds', \"rb\") as f:\n",
    "    iag_1DNLTE_corrected_abund = pickle.load(f)\n",
    "with open('../mdata/3DLTE_corrected_abunds', \"rb\") as f:\n",
    "    iag_3DLTE_corrected_abund = pickle.load(f)\n",
    "with open('../mdata/1d_lte_abunds', \"rb\") as f:\n",
    "    iag_1DLTE_abunds = pickle.load(f)\n"
   ]
  },
  {
   "cell_type": "markdown",
   "metadata": {},
   "source": [
    "### Plot 1D LTE abundances and added corrections"
   ]
  },
  {
   "cell_type": "markdown",
   "metadata": {},
   "source": [
    "#### 1D NLTE"
   ]
  },
  {
   "cell_type": "code",
   "execution_count": null,
   "metadata": {},
   "outputs": [],
   "source": [
    "fig, ax = plt.subplots(1,len(iag_1DLTE_abunds), figsize=(18,5))\n",
    "\n",
    "for i, line in enumerate(iag_1DLTE_abunds):\n",
    "    ax[i].plot(sol_mus, iag_1DLTE_abunds[i], 'o', label='1D LTE')\n",
    "    # ax[i].plot(sol_mus, iag_3DNLTE_corrected_abund[i], 'x', label='1D LTE + $\\Delta$ 3D NLTE')\n",
    "    ax[i].plot(sol_mus, iag_1DNLTE_corrected_abund[i], 'x', label='1D LTE + $\\Delta$ 1D NLTE', color='r')\n",
    "\n",
    "\n",
    "    ax[i].set_xlabel('mu')\n",
    "    ax[i].set_ylabel('Rel. abundance, dex')\n",
    "    # ax[i].set_title(f' IAG spectrum, λ={np.take(m3d_centre_wavelengths,[0,3,4])[i]}')\n",
    "    ax[i].set_title(f' IAG spectrum, λ={m3d_centre_wavelengths[i]}')\n",
    "\n",
    "    # ax[i].set_ylim(7.46, 7.65)\n",
    "    ax[i].legend(loc='best',frameon=1, fontsize='small')\n",
    "plt.tight_layout()\n",
    "plt.subplots_adjust(left=None, bottom=None, right=None, top=None, wspace=0.27, hspace=None)\n",
    "# fig.savefig('../plots/abnd_calc_1dNLTE.pdf')"
   ]
  },
  {
   "cell_type": "code",
   "execution_count": null,
   "metadata": {},
   "outputs": [],
   "source": [
    "fig, ax = plt.subplots(2,3, figsize=(14,9))\n",
    "v = product(range(2),range(3))\n",
    "plt.rcParams.update({'font.size': 13})\n",
    "\n",
    "for i, line in enumerate(v):\n",
    "    if i==len(iag_1DLTE_abunds):\n",
    "        fig.delaxes(ax[line])\n",
    "        break\n",
    "    ax[line].plot(sol_mus, iag_1DLTE_abunds[i], 'o', label='1D LTE')\n",
    "    # ax[i].plot(sol_mus, iag_3DNLTE_corrected_abund[i], 'x', label='1D LTE + $\\Delta$ 3D NLTE')\n",
    "    ax[line].plot(sol_mus, iag_1DNLTE_corrected_abund[i], 'x', label='1D LTE + $\\Delta$ 1D NLTE', color='r')\n",
    "\n",
    "    ax[line].set_xlabel('mu')\n",
    "    ax[line].set_ylabel('Rel. abundance, dex')\n",
    "    # a[i].set_title(f' IAG spectrum, λ={np.take(m3d_centre_wavelengths,[0,3,4])[i]}')\n",
    "    ax[line].set_title(f'{m3d_centre_wavelengths[i]} Å')\n",
    "    # a[i].set_ylim(7.46, 7.65)\n",
    "    # ax[line].legend(loc='best',frameon=1, fontsize='small')\n",
    "handles, labels = plt.gca().get_legend_handles_labels()\n",
    "fig.legend(handles, labels, loc=(0.75,0.20), fontsize='large')\n",
    "\n",
    "plt.tight_layout()\n",
    "plt.subplots_adjust(left=None, bottom=None, right=None, top=None, wspace=0.27, hspace=None)\n",
    "# fig.savefig('../plots/abnd_calc_3dNLTE_3x2.pdf')"
   ]
  },
  {
   "cell_type": "code",
   "execution_count": null,
   "metadata": {},
   "outputs": [],
   "source": [
    "fig, ax = plt.subplots(1,4, figsize=(15,5))\n",
    "# v = product(range(2),range(3))\n",
    "plt.rcParams.update({'font.size': 13})\n",
    "\n",
    "for i, line in enumerate([0,2,3,4]):\n",
    "    ax[i].plot(sol_mus, iag_1DLTE_abunds[line], 'o', label='1D LTE')\n",
    "    # ax[i].plot(sol_mus, iag_3DNLTE_corrected_abund[i], 'x', label='1D LTE + $\\Delta$ 3D NLTE')\n",
    "    ax[i].plot(sol_mus, iag_1DNLTE_corrected_abund[line], 'x', label='1D LTE + $\\Delta$ 1D NLTE', color='r')\n",
    "\n",
    "    ax[i].set_xlabel('mu')\n",
    "    ax[i].set_ylabel('Rel. abundance, dex')\n",
    "    # a[i].set_title(f' IAG spectrum, λ={np.take(m3d_centre_wavelengths,[0,3,4])[i]}')\n",
    "    ax[i].set_title(f'{m3d_centre_wavelengths[line]} Å')\n",
    "    ax[i].set_ylim(7.26, 7.85)\n",
    "    # ax[line].legend(loc='best',frameon=1, fontsize='small')\n",
    "handles, labels = plt.gca().get_legend_handles_labels()\n",
    "fig.legend(handles, labels, loc=(0.78,0.75), fontsize='large',frameon='True')\n",
    "\n",
    "plt.tight_layout()\n",
    "plt.subplots_adjust(left=None, bottom=None, right=None, top=None, wspace=0.27, hspace=None)\n",
    "# fig.savefig('../plots/abnd_calc_1dNLTE_4lines_zoomout.pdf')"
   ]
  },
  {
   "cell_type": "markdown",
   "metadata": {},
   "source": [
    "#### 3D NLTE"
   ]
  },
  {
   "cell_type": "code",
   "execution_count": null,
   "metadata": {},
   "outputs": [],
   "source": [
    "fig, ax = plt.subplots(1,4, figsize=(15,5))\n",
    "# v = product(range(2),range(3))\n",
    "plt.rcParams.update({'font.size': 13})\n",
    "\n",
    "for i, line in enumerate([0,2,3,4]):\n",
    "    ax[i].plot(sol_mus, iag_1DLTE_abunds[line], 'o', label='1D LTE')\n",
    "    ax[i].plot(sol_mus, iag_3DNLTE_corrected_abund[line], 'x', label='1D LTE + $\\Delta$ 3D NLTE', color='r')\n",
    "\n",
    "    ax[i].set_xlabel('mu')\n",
    "    ax[i].set_ylabel('Rel. abundance, dex')\n",
    "    ax[i].set_title(f'{m3d_centre_wavelengths[line]} Å')\n",
    "    ax[i].set_ylim(7.26, 7.85)\n",
    "\n",
    "handles, labels = plt.gca().get_legend_handles_labels()\n",
    "fig.legend(handles, labels, loc=(0.78,0.75), fontsize='large',frameon='True')\n",
    "\n",
    "plt.tight_layout()\n",
    "plt.subplots_adjust(left=None, bottom=None, right=None, top=None, wspace=0.27, hspace=None)\n",
    "# fig.savefig('../plots/abnd_calc_3dNLTE_4lines_zoomout.pdf')"
   ]
  },
  {
   "cell_type": "markdown",
   "metadata": {},
   "source": [
    "#### 3D LTE"
   ]
  },
  {
   "cell_type": "code",
   "execution_count": null,
   "metadata": {},
   "outputs": [],
   "source": [
    "fig, ax = plt.subplots(1,4, figsize=(15,5))\n",
    "# v = product(range(2),range(3))\n",
    "plt.rcParams.update({'font.size': 13})\n",
    "\n",
    "for i, line in enumerate([0,2,3,4]):\n",
    "    ax[i].plot(sol_mus, iag_1DLTE_abunds[line], 'o', label='1D LTE')\n",
    "    ax[i].plot(sol_mus, iag_3DLTE_corrected_abund[line], 'x', label='1D LTE + $\\Delta$ 3D LTE', color='r')\n",
    "\n",
    "    ax[i].set_xlabel('mu')\n",
    "    ax[i].set_ylabel('Rel. abundance, dex')\n",
    "    ax[i].set_title(f'{m3d_centre_wavelengths[line]} Å')\n",
    "    ax[i].set_ylim(7.26, 7.85)\n",
    "\n",
    "handles, labels = plt.gca().get_legend_handles_labels()\n",
    "fig.legend(handles, labels, loc=(0.78,0.75), fontsize='large',frameon='True')\n",
    "\n",
    "plt.tight_layout()\n",
    "plt.subplots_adjust(left=None, bottom=None, right=None, top=None, wspace=0.27, hspace=None)"
   ]
  },
  {
   "cell_type": "markdown",
   "metadata": {},
   "source": [
    "#### Plot per spectral line"
   ]
  },
  {
   "cell_type": "code",
   "execution_count": null,
   "metadata": {},
   "outputs": [],
   "source": [
    "fig, ax = plt.subplots(1, figsize=(10,7))\n",
    "\n",
    "plt.rcParams.update({'font.size': 15})\n",
    "line = 0\n",
    "\n",
    "\n",
    "poly1d_fn_1DLTE = np.poly1d(np.polyfit(sol_mus,np.array([i for i in iag_1DLTE_abunds[line]]),1))\n",
    "poly1d_fn_1DNLTE = np.poly1d(np.polyfit(sol_mus,np.array([i for i in iag_1DNLTE_corrected_abund[line]]),1))\n",
    "poly1d_fn_3DLTE = np.poly1d(np.polyfit(sol_mus,np.array([i for i in iag_3DLTE_corrected_abund[line]]),1)) \n",
    "poly1d_fn_3DNLTE = np.poly1d(np.polyfit(sol_mus,np.array([i for i in iag_3DNLTE_corrected_abund[line]]),1)) \n",
    "\n",
    "ax.plot(sol_mus, iag_1DLTE_abunds[line], 'o', markerfacecolor='white', color='b', markersize=13, zorder=10,label='1D LTE')\n",
    "ax.plot(sol_mus, iag_1DNLTE_corrected_abund[line], 'v', markerfacecolor='white', markersize=9,zorder=100, label='1D NLTE', color='k')\n",
    "ax.plot(sol_mus, iag_3DLTE_corrected_abund[line], 's', markerfacecolor='white', markersize=10,zorder=1000, label='3D LTE', color='g')\n",
    "ax.plot(sol_mus, iag_3DNLTE_corrected_abund[line], 'D', markerfacecolor='white', markersize=10,zorder=10000, label='3D NLTE', color='r')\n",
    "\n",
    "ax.plot(sol_mus, poly1d_fn_1DLTE(sol_mus), '--', color='b')\n",
    "ax.plot(sol_mus, poly1d_fn_1DNLTE(sol_mus), '--', color='k')\n",
    "ax.plot(sol_mus, poly1d_fn_3DLTE(sol_mus), '--', color='g')\n",
    "ax.plot(sol_mus, poly1d_fn_3DNLTE(sol_mus), '--', color='r')\n",
    "\n",
    "\n",
    "\n",
    "ax.set_xlabel('$\\mu$', fontsize=15)\n",
    "ax.set_ylabel('A(Si)', fontsize=15)\n",
    "ax.set_title(f'{m3d_centre_wavelengths[line]} Å')\n",
    "# ax.set_ylim(7.5, 7.85)\n",
    "\n",
    "\n",
    "# handles, labels = plt.gca().get_legend_handles_labels()\n",
    "fig.legend(fontsize='large', loc=(0.75,0.69))\n",
    "\n",
    "plt.tight_layout()\n",
    "# fig.savefig('../plots/abnd_calc_5645.pdf')"
   ]
  },
  {
   "cell_type": "code",
   "execution_count": null,
   "metadata": {},
   "outputs": [],
   "source": [
    "fig, ax = plt.subplots(1, figsize=(10,7))\n",
    "\n",
    "plt.rcParams.update({'font.size': 15})\n",
    "line = 2\n",
    "\n",
    "\n",
    "poly1d_fn_1DLTE = np.poly1d(np.polyfit(sol_mus,np.array([i for i in iag_1DLTE_abunds[line]]),1))\n",
    "poly1d_fn_1DNLTE = np.poly1d(np.polyfit(sol_mus,np.array([i for i in iag_1DNLTE_corrected_abund[line]]),1))\n",
    "poly1d_fn_3DLTE = np.poly1d(np.polyfit(sol_mus,np.array([i for i in iag_3DLTE_corrected_abund[line]]),1)) \n",
    "poly1d_fn_3DNLTE = np.poly1d(np.polyfit(sol_mus,np.array([i for i in iag_3DNLTE_corrected_abund[line]]),1)) \n",
    "\n",
    "ax.plot(sol_mus, iag_1DLTE_abunds[line], 'o', markerfacecolor='white', color='b', markersize=13, zorder=10,label='1D LTE')\n",
    "ax.plot(sol_mus, iag_1DNLTE_corrected_abund[line], 'v', markerfacecolor='white', markersize=9,zorder=100, label='1D NLTE', color='k')\n",
    "ax.plot(sol_mus, iag_3DLTE_corrected_abund[line], 's', markerfacecolor='white', markersize=10,zorder=1000, label='3D LTE', color='g')\n",
    "ax.plot(sol_mus, iag_3DNLTE_corrected_abund[line], 'D', markerfacecolor='white', markersize=10,zorder=10000, label='3D NLTE', color='r')\n",
    "\n",
    "ax.plot(sol_mus, poly1d_fn_1DLTE(sol_mus), '--', color='b')\n",
    "ax.plot(sol_mus, poly1d_fn_1DNLTE(sol_mus), '--', color='k')\n",
    "ax.plot(sol_mus, poly1d_fn_3DLTE(sol_mus), '--', color='g')\n",
    "ax.plot(sol_mus, poly1d_fn_3DNLTE(sol_mus), '--', color='r')\n",
    "\n",
    "\n",
    "\n",
    "ax.set_xlabel('$\\mu$', fontsize=15)\n",
    "ax.set_ylabel('A(Si)', fontsize=15)\n",
    "ax.set_title(f'{m3d_centre_wavelengths[line]} Å')\n",
    "ax.set_ylim(7.45, 7.75)\n",
    "\n",
    "\n",
    "# handles, labels = plt.gca().get_legend_handles_labels()\n",
    "fig.legend(fontsize='large', loc=(0.75,0.69))\n",
    "\n",
    "plt.tight_layout()\n",
    "# fig.savefig('../plots/abnd_calc_5701.pdf')"
   ]
  },
  {
   "cell_type": "code",
   "execution_count": null,
   "metadata": {},
   "outputs": [],
   "source": [
    "fig, ax = plt.subplots(1, figsize=(10,7))\n",
    "\n",
    "plt.rcParams.update({'font.size': 15})\n",
    "line = 3\n",
    "\n",
    "\n",
    "poly1d_fn_1DLTE = np.poly1d(np.polyfit(sol_mus,np.array([i for i in iag_1DLTE_abunds[line]]),1))\n",
    "poly1d_fn_1DNLTE = np.poly1d(np.polyfit(sol_mus,np.array([i for i in iag_1DNLTE_corrected_abund[line]]),1))\n",
    "poly1d_fn_3DLTE = np.poly1d(np.polyfit(sol_mus,np.array([i for i in iag_3DLTE_corrected_abund[line]]),1)) \n",
    "poly1d_fn_3DNLTE = np.poly1d(np.polyfit(sol_mus,np.array([i for i in iag_3DNLTE_corrected_abund[line]]),1)) \n",
    "\n",
    "ax.plot(sol_mus, iag_1DLTE_abunds[line], 'o', markerfacecolor='white', color='b', markersize=13, zorder=10,label='1D LTE')\n",
    "ax.plot(sol_mus, iag_1DNLTE_corrected_abund[line], 'v', markerfacecolor='white', markersize=9,zorder=100, label='1D NLTE', color='k')\n",
    "ax.plot(sol_mus, iag_3DLTE_corrected_abund[line], 's', markerfacecolor='white', markersize=10,zorder=1000, label='3D LTE', color='g')\n",
    "ax.plot(sol_mus, iag_3DNLTE_corrected_abund[line], 'D', markerfacecolor='white', markersize=10,zorder=10000, label='3D NLTE', color='r')\n",
    "\n",
    "ax.plot(sol_mus, poly1d_fn_1DLTE(sol_mus), '--', color='b')\n",
    "ax.plot(sol_mus, poly1d_fn_1DNLTE(sol_mus), '--', color='k')\n",
    "ax.plot(sol_mus, poly1d_fn_3DLTE(sol_mus), '--', color='g')\n",
    "ax.plot(sol_mus, poly1d_fn_3DNLTE(sol_mus), '--', color='r')\n",
    "\n",
    "\n",
    "\n",
    "ax.set_xlabel('$\\mu$', fontsize=15)\n",
    "ax.set_ylabel('A(Si)', fontsize=15)\n",
    "ax.set_title(f'{m3d_centre_wavelengths[line]} Å')\n",
    "ax.set_ylim(7.5, 7.85)\n",
    "\n",
    "\n",
    "# handles, labels = plt.gca().get_legend_handles_labels()\n",
    "fig.legend(fontsize='large', loc=(0.75,0.69))\n",
    "\n",
    "plt.tight_layout()\n",
    "# fig.savefig('../plots/abnd_calc_5772.pdf')"
   ]
  },
  {
   "cell_type": "code",
   "execution_count": null,
   "metadata": {},
   "outputs": [],
   "source": [
    "fig, ax = plt.subplots(1, figsize=(10,7))\n",
    "\n",
    "plt.rcParams.update({'font.size': 15})\n",
    "line = 4\n",
    "\n",
    "\n",
    "poly1d_fn_1DLTE = np.poly1d(np.polyfit(sol_mus,np.array([i for i in iag_1DLTE_abunds[line]]),1))\n",
    "poly1d_fn_1DNLTE = np.poly1d(np.polyfit(sol_mus,np.array([i for i in iag_1DNLTE_corrected_abund[line]]),1))\n",
    "poly1d_fn_3DLTE = np.poly1d(np.polyfit(sol_mus,np.array([i for i in iag_3DLTE_corrected_abund[line]]),1)) \n",
    "poly1d_fn_3DNLTE = np.poly1d(np.polyfit(sol_mus,np.array([i for i in iag_3DNLTE_corrected_abund[line]]),1)) \n",
    "\n",
    "ax.plot(sol_mus, iag_1DLTE_abunds[line], 'o', markerfacecolor='white', color='b', markersize=13, zorder=10,label='1D LTE')\n",
    "ax.plot(sol_mus, iag_1DNLTE_corrected_abund[line], 'v', markerfacecolor='white', markersize=9,zorder=100, label='1D NLTE', color='k')\n",
    "ax.plot(sol_mus, iag_3DLTE_corrected_abund[line], 's', markerfacecolor='white', markersize=10,zorder=1000, label='3D LTE', color='g')\n",
    "ax.plot(sol_mus, iag_3DNLTE_corrected_abund[line], 'D', markerfacecolor='white', markersize=10,zorder=10000, label='3D NLTE', color='r')\n",
    "\n",
    "ax.plot(sol_mus, poly1d_fn_1DLTE(sol_mus), '--', color='b')\n",
    "ax.plot(sol_mus, poly1d_fn_1DNLTE(sol_mus), '--', color='k')\n",
    "ax.plot(sol_mus, poly1d_fn_3DLTE(sol_mus), '--', color='g')\n",
    "ax.plot(sol_mus, poly1d_fn_3DNLTE(sol_mus), '--', color='r')\n",
    "\n",
    "\n",
    "\n",
    "ax.set_xlabel('$\\mu$', fontsize=15)\n",
    "ax.set_ylabel('A(Si)', fontsize=15)\n",
    "ax.set_title(f'{m3d_centre_wavelengths[line]} Å')\n",
    "# ax.set_ylim(7.5, 7.85)\n",
    "\n",
    "\n",
    "# handles, labels = plt.gca().get_legend_handles_labels()\n",
    "fig.legend(fontsize='large', loc=(0.75,0.69))\n",
    "\n",
    "plt.tight_layout()\n",
    "# fig.savefig('../plots/abnd_calc_7034.pdf')"
   ]
  },
  {
   "cell_type": "markdown",
   "metadata": {},
   "source": [
    "## Plot centre-limb difference in line profiles for 1D and 3D NLTE relative to 1D LTE"
   ]
  },
  {
   "cell_type": "code",
   "execution_count": null,
   "metadata": {},
   "outputs": [],
   "source": [
    "# Top one here defined above\n",
    "# NLTE3d_EWs = [get_line_eqw(linesobject=NLTE3d_lines, line=thisline, qmax=qmax_array[thisline]) for thisline in range(len((NLTE3d_lines)))]\n",
    "LTE1D_EWs = [get_line_eqw(linesobject=linesobj[0], line=thisline, qmax=qmax_array[thisline]) for thisline in range(len((linesobj[0])))] ### ADD LTE 1D EWs (problem where linesobj is defined twice differently in this script) - then add line ew to the legend for the line profile plot\n",
    "NLTE1D_EWs = [get_line_eqw(linesobject=line_obj_1DNLTE, line=thisline, qmax=qmax_array[thisline]) for thisline in range(len((line_obj_1DNLTE)))]\n",
    "LTE3D_EWs = [get_line_eqw(linesobject=lines_obj_3DLTE, line=thisline, qmax=qmax_array[thisline]) for thisline in range(len((lines_obj_3DLTE)))]"
   ]
  },
  {
   "cell_type": "code",
   "execution_count": null,
   "metadata": {},
   "outputs": [],
   "source": [
    "fig, ax = plt.subplots(1,2, figsize=(11,6), sharey='row')\n",
    "line_kr = 2\n",
    "# for i, thismu in enumerate([sol_mus[0], sol_mus[-1]]):\n",
    "for i in [0,-1]:\n",
    "            \n",
    "        # ax[i].plot(*convol(line_lams[line_kr], sim_int_1d_norm_ar[line_kr][i], zeta_rt=3), label=f'1D LTE, EW: {LTE1D_EWs[line_kr][i]:.1f}', color='skyblue', linestyle='-',linewidth='2')\n",
    "        ax[i].plot(line_lams[line_kr], sim_int_1d_norm_ar[line_kr][i], label=f'1D LTE,                      EW: {LTE1D_EWs[line_kr][i]:.1f}', color='skyblue', linestyle='-',linewidth='2')\n",
    "\n",
    "        ax[i].plot(line_lams[line_kr], sim_int_1dnlte_norm_ar[line_kr][i], label=f'1D NLTE,                    EW: {NLTE1D_EWs[line_kr][i]:.1f}', color='r', linestyle=':',linewidth='2')\n",
    "\n",
    "        ax[i].plot(line_lams[line_kr], sim_int_3dlte_norm_ar[line_kr][i], label=f'3D LTE,                      EW: {LTE3D_EWs[line_kr][i]:.1f}', color='darkorange', linestyle='-.',linewidth='2')\n",
    "\n",
    "        ax[i].plot(line_lams[line_kr], sim_int_3d_norm_ar[line_kr][i], label=f'3D NLTE,                    EW: {NLTE3d_EWs[line_kr][i]:.1f}', color='k', linestyle='--',linewidth='2')\n",
    "\n",
    "        ax[i].scatter(sol_lam_range_list[line_kr,i], sol_int_renorm[line_kr,i],  label='Clean', marker='s', s=10)\n",
    "        ax[i].set_title(f'$\\mu = {sol_mus[i]:.1f}$', fontsize=15)\n",
    "        \n",
    "        ax[i].set_xlim((m3d_centre_wavelengths[line_kr]-0.2), (m3d_centre_wavelengths[line_kr]+0.2))\n",
    "        ax[i].set_xticks(ticks=np.linspace(m3d_centre_wavelengths[line_kr]-0.2, m3d_centre_wavelengths[line_kr]+0.2,3) ,labels=np.linspace(-0.2,0.2,3))\n",
    "        ax[i].tick_params(axis='both', which='major', labelsize=12)\n",
    "\n",
    "\n",
    "        ax[i].set_ylim(0.4, 1)\n",
    "        ax[i].set_xlabel('$\\Delta \\lambda$ Å', fontsize=14)\n",
    "        ax[i].legend(fontsize=14, loc=(0.01,0.01))\n",
    "\n",
    "        \n",
    "fig.supylabel('Normalised Intensity', fontsize=15)\n",
    "plt.tight_layout()\n",
    "      \n",
    "# fig.savefig('../plots/OneLineLiProf1D3D.png')"
   ]
  },
  {
   "cell_type": "code",
   "execution_count": null,
   "metadata": {},
   "outputs": [],
   "source": [
    "sol_int_renorm[2,0]"
   ]
  },
  {
   "cell_type": "markdown",
   "metadata": {},
   "source": [
    "### 1D LTE line comparison with mu "
   ]
  },
  {
   "cell_type": "code",
   "execution_count": null,
   "metadata": {},
   "outputs": [],
   "source": [
    "fig, ax = plt.subplots(1, figsize=(10,5))\n",
    "line_kr = 0\n",
    "styles = [':', '--']\n",
    "colours = ['k', 'r']\n",
    "for i in [0,-1]:\n",
    "    ax.plot(line_lams[line_kr], sim_int_1d_dict[line_kr][i], label=fr'$\\mu = {sol_mus[i]:.1f}$', linestyle=styles[i], color=colours[i],linewidth='2')\n",
    "\n",
    "ax.set_xlabel('$\\Delta \\lambda$ Å', fontsize=14)\n",
    "ax.legend(fontsize=14, loc=(0.01,0.01))\n",
    "# ax.set_title(f'$\\mu = {sol_mus[i]:.1f}$', fontsize=15)\n",
    "ax.set_xlim((m3d_centre_wavelengths[line_kr]-0.2), (m3d_centre_wavelengths[line_kr]+0.2))\n",
    "ax.set_xticks(ticks=np.linspace(m3d_centre_wavelengths[line_kr]-0.2, m3d_centre_wavelengths[line_kr]+0.2,3) ,labels=np.linspace(-0.2,0.2,3))\n",
    "# ax.tick_params(axis='both', which='major', labelsize=1)\n",
    "        \n",
    "ax.set_ylabel('Unnormalised Intensity', fontsize=15)\n",
    "plt.tight_layout()\n",
    "      \n",
    "# fig.savefig('../plots/Unnorm1DLTE.png')"
   ]
  },
  {
   "cell_type": "markdown",
   "metadata": {},
   "source": [
    "### 3D NLTE line comparison with mu "
   ]
  },
  {
   "cell_type": "code",
   "execution_count": null,
   "metadata": {},
   "outputs": [],
   "source": [
    "fig, ax = plt.subplots(1, figsize=(10,5))\n",
    "line_kr = 0\n",
    "styles = [':', '--']\n",
    "colours = ['k', 'r']\n",
    "for i in [0,-1]:\n",
    "    ax.plot(line_lams[line_kr], sim_int_3dnlte_dict[line_kr][i], label=fr'$\\mu = {sol_mus[i]:.1f}$', linestyle=styles[i], color=colours[i],linewidth='2')\n",
    "\n",
    "ax.set_xlabel('$\\Delta \\lambda$ Å', fontsize=14)\n",
    "ax.legend(fontsize=14, loc=(0.01,0.01))\n",
    "# ax.set_title(f'$\\mu = {sol_mus[i]:.1f}$', fontsize=15)\n",
    "ax.set_xlim((m3d_centre_wavelengths[line_kr]-0.2), (m3d_centre_wavelengths[line_kr]+0.2))\n",
    "ax.set_xticks(ticks=np.linspace(m3d_centre_wavelengths[line_kr]-0.2, m3d_centre_wavelengths[line_kr]+0.2,3) ,labels=np.linspace(-0.2,0.2,3))\n",
    "# ax.tick_params(axis='both', which='major', labelsize=1)\n",
    "        \n",
    "ax.set_ylabel('Unnormalised Intensity', fontsize=15)\n",
    "plt.tight_layout()\n",
    "      \n",
    "# fig.savefig('../plots/Unnorm3DNLTE.png')"
   ]
  },
  {
   "cell_type": "markdown",
   "metadata": {},
   "source": [
    "### 3D LTE line profile comparison with mu"
   ]
  },
  {
   "cell_type": "code",
   "execution_count": null,
   "metadata": {},
   "outputs": [],
   "source": [
    "fig, ax = plt.subplots(1, figsize=(10,5))\n",
    "line_kr = 0\n",
    "styles = [':', '--']\n",
    "colours = ['k', 'r']\n",
    "for i in [0,-1]:\n",
    "    ax.plot(line_lams[line_kr], sim_int_3dlte_dict[line_kr][i], label=fr'$\\mu = {sol_mus[i]:.1f}$', linestyle=styles[i], color=colours[i],linewidth='2')\n",
    "\n",
    "ax.set_xlabel('$\\Delta \\lambda$ Å', fontsize=14)\n",
    "ax.legend(fontsize=14, loc=(0.01,0.01))\n",
    "# ax.set_title(f'$\\mu = {sol_mus[i]:.1f}$', fontsize=15)\n",
    "ax.set_xlim((m3d_centre_wavelengths[line_kr]-0.2), (m3d_centre_wavelengths[line_kr]+0.2))\n",
    "ax.set_xticks(ticks=np.linspace(m3d_centre_wavelengths[line_kr]-0.2, m3d_centre_wavelengths[line_kr]+0.2,3) ,labels=np.linspace(-0.2,0.2,3))\n",
    "# ax.tick_params(axis='both', which='major', labelsize=1)\n",
    "        \n",
    "ax.set_ylabel('Unnormalised Intensity', fontsize=15)\n",
    "plt.tight_layout()\n",
    "      \n",
    "# fig.savefig('../plots/Unnorm3DLTE.png')"
   ]
  },
  {
   "cell_type": "code",
   "execution_count": null,
   "metadata": {},
   "outputs": [],
   "source": []
  },
  {
   "cell_type": "code",
   "execution_count": null,
   "metadata": {},
   "outputs": [],
   "source": []
  },
  {
   "cell_type": "code",
   "execution_count": null,
   "metadata": {},
   "outputs": [],
   "source": []
  }
 ],
 "metadata": {
  "interpreter": {
   "hash": "926b4a5dfa11be4b7eff4b3e16b0a6c4aba97fdc08a97fde44133418dfd29264"
  },
  "kernelspec": {
   "display_name": "Python 3 (ipykernel)",
   "language": "python",
   "name": "python3"
  },
  "language_info": {
   "codemirror_mode": {
    "name": "ipython",
    "version": 3
   },
   "file_extension": ".py",
   "mimetype": "text/x-python",
   "name": "python",
   "nbconvert_exporter": "python",
   "pygments_lexer": "ipython3",
   "version": "3.8.12"
  }
 },
 "nbformat": 4,
 "nbformat_minor": 4
}
