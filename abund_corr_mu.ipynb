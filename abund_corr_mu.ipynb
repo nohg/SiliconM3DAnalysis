{
 "cells": [
  {
   "cell_type": "code",
   "execution_count": 1,
   "metadata": {},
   "outputs": [],
   "source": [
    "import matplotlib.pyplot as plt\n",
    "\n",
    "import numpy as np\n",
    "import sys  \n",
    "sys.path.append('../main/')\n",
    "from multi_py.multi import *\n",
    "from os.path import dirname, join as pjoin\n",
    "import scipy.io as sio\n",
    "from scipy.io import readsav\n",
    "import copy\n",
    "import pandas as pd\n",
    "import os\n",
    "from scipy import integrate\n",
    "from scipy.signal import argrelextrema\n",
    "\n",
    "\n",
    "\n",
    "%config InlineBackend.figure_format='svg'\n",
    "plt.style.use('default')\n",
    "plt.style.use('../main/multi_py/Bergemann2020.mplstyle')"
   ]
  },
  {
   "cell_type": "code",
   "execution_count": 2,
   "metadata": {},
   "outputs": [],
   "source": [
    "sys.path.append('/lustre/astro/ngray/External_Functions')\n",
    "from ExternalFunctions import nice_string_output, add_text_to_ax # useful functions to print fit results on figure"
   ]
  },
  {
   "cell_type": "markdown",
   "metadata": {},
   "source": [
    "## Read in solar spectrum"
   ]
  },
  {
   "cell_type": "code",
   "execution_count": 3,
   "metadata": {},
   "outputs": [],
   "source": [
    "sav_fname = pjoin('../../data/spectra/1631885174310_iag_sun_Si.sav')\n",
    "sav_data = readsav(sav_fname)\n",
    "f = open('../../data/spectra/sun_kpnomu1_6000_8000A.txt')\n",
    "obs_spec2 = np.loadtxt(fname=f)\n",
    "\n",
    "# simulation has been run with mus: 1, 0.9, 0.8, 0.6, 0.4, 0.2\n",
    "# specify the indecies corresponding to these angles in the solar data\n",
    "sol_mu_ind = [0, 4, 5, 7, 9, 11]\n",
    "\n",
    "# get the flux(intensity) and wavelengths corresponding to these angles\n",
    "# sol_fluxes = [sav_data['iag_sun'].flux[0][ang] for ang in sol_mu_ind]\n",
    "# sol_lams = [sav_data['iag_sun'].wave[0][ang] for ang in sol_mu_ind]\n",
    "sol_mus = [sav_data['iag_sun'].mu[0][ang] for ang in sol_mu_ind]"
   ]
  },
  {
   "cell_type": "markdown",
   "metadata": {},
   "source": [
    "## Read in simulated spectra"
   ]
  },
  {
   "cell_type": "code",
   "execution_count": 4,
   "metadata": {},
   "outputs": [],
   "source": [
    "def get_lines(thisrun, krs):\n",
    "    lines = []\n",
    "    for kr in krs:\n",
    "        lines.append(thisrun.line[kr])\n",
    "    return lines "
   ]
  },
  {
   "cell_type": "code",
   "execution_count": 5,
   "metadata": {},
   "outputs": [
    {
     "name": "stdout",
     "output_type": "stream",
     "text": [
      "Completed reading parameters from ../runs/KuruczF/Si_marcs_LTE_dir//7.76//output//\n"
     ]
    }
   ],
   "source": [
    "## 19-11-21: major krs updated to match correct figues in SolarSpecMuRes notebook\n",
    "major_krs = [286, 291, 293, 299, 427] \n",
    "# wrong major_krs = [286, 299, 427, 292, 302]#, 457]\n",
    "\n",
    "# NLTE3Drunfile = '../runs/SiStagNLTE_30_f3Dold/output/'\n",
    "# NLTE3Drunfile = '../runs/Si_stag_LTE30_f3D/output/'\n",
    "# NLTE3Drunfile = '../runs/SiMarcs1DNLTE/output/'\n",
    "\n",
    "# NLTE3Drunfile = '../runs/KuruczF/SiMarcs1DNLTE/output/'\n",
    "NLTE3Drunfile = '../runs/KuruczF/Si_stag_LTE30_f3D/output/'\n",
    "# NLTE3Drunfile = '../runs/KuruczF/SiStagNLTE_30_f3Dold/output/'\n",
    "\n",
    "# NLTE3Drunfile = '../runs/RhodinF/SiMarcs1DNLTE/output/'\n",
    "# NLTE3Drunfile = '../runs/RhodinF/Si_stag_LTE30_f3D/output/'\n",
    "# NLTE3Drunfile = '../runs/RhodinF/SiStagNLTE_30_f3Dold/output/'\n",
    "\n",
    "\n",
    "## runfiles = ['runs/Si_marcs_LTE_mus/output/', 'runs/Si_stag_NLTE_5x5x230_mus/output/']\n",
    "## NLTE3Drunfile = '../runs/iosmet_runs/SiMarcs1DNLTE/output/'\n",
    "\n",
    "# runobjects = [m3d(thisrun, lines=major_krs, conts=[]) for thisrun in runfiles]\n",
    "# linesobj = [get_lines(thisrunobj, major_krs) for thisrunobj in runobjects]\n",
    "\n",
    "NLTE3Drunobj = m3d(NLTE3Drunfile, lines=major_krs, conts=[])\n",
    "NLTE3Dlines = get_lines(NLTE3Drunobj, major_krs)\n",
    "\n",
    "# LTE_runs = '../runs/Si_marcs_LTE_dir/'\n",
    "LTE_runs = '../runs/KuruczF/Si_marcs_LTE_dir/'\n",
    "\n",
    "# LTE_runs = '../runs/iosmet_runs/SiMarcsLTEdir/'\n",
    "\n",
    "LTE1d_cog = CoG(runs=LTE_runs, lines=major_krs)"
   ]
  },
  {
   "cell_type": "code",
   "execution_count": 6,
   "metadata": {},
   "outputs": [],
   "source": [
    "wavelengths = [line.lam0 for line in NLTE3Dlines]\n",
    "# m3d_centre_wavelengths = [5645.613, 5772.146, 7034.901]\n",
    "m3d_centre_wavelengths = [5645.613, 5684.484, 5701.104, 5772.146, 7034.901]\n"
   ]
  },
  {
   "cell_type": "code",
   "execution_count": 7,
   "metadata": {},
   "outputs": [],
   "source": [
    "# define new qmax for integrations based on +- 2 Å range used in the observed spectra\n",
    "new_qmax=10\n",
    "qmax_array = [4,10,10,10,10]"
   ]
  },
  {
   "cell_type": "code",
   "execution_count": 8,
   "metadata": {},
   "outputs": [],
   "source": [
    "def get_abnds_corr(cogobj, NLTErun, kr, qmax):\n",
    "    all_corrs =  [(cogobj.abnds_corr(NLTE=NLTErun, kr=kr, qmax=qmax, ang=ang)).item() for ang in range((4*len(sol_mus[1:])+1))]\n",
    "    # print(all_corrs)\n",
    "    kr_corrs = [all_corrs[0]]\n",
    "    # print(kr_corrs)\n",
    "    for mu, _ in enumerate(sol_mus[1:]):\n",
    "        ang_start = mu*4+1\n",
    "        ang_end = ang_start+4\n",
    "        kr_corrs.append(np.mean(all_corrs[ang_start:ang_end]))\n",
    "        # print(f'{all_corrs[ang_start]}:{all_corrs[ang_end-1]}')\n",
    "    return kr_corrs"
   ]
  },
  {
   "cell_type": "code",
   "execution_count": 9,
   "metadata": {},
   "outputs": [],
   "source": [
    "def get_cog_eqw(cogobj, kr, qmax):\n",
    "    all_eqws =  [cogobj.calc_weq(kr=kr, qmax=qmax, ang=ang, norm=True) for ang in range((4*len(sol_mus[1:])+1))]\n",
    "    # print(all_eqws)\n",
    "    kr_eqws = [all_eqws[0]]\n",
    "    # print(kr_eqws)\n",
    "    for mu, _ in enumerate(sol_mus[1:]):\n",
    "        ang_start = mu*4+1\n",
    "        ang_end = ang_start+4\n",
    "        kr_eqws.append(np.mean(all_eqws[ang_start:ang_end], axis=0))\n",
    "        # print(f'{ang_start}:{ang_end}')\n",
    "        # print(f'range-{all_eqws[ang_start]}:{all_eqws[ang_end-1]}')\n",
    "    return kr_eqws"
   ]
  },
  {
   "cell_type": "code",
   "execution_count": 10,
   "metadata": {},
   "outputs": [],
   "source": [
    "# get_cog_eqw(LTE1d_cog, major_krs[0], qmax=qmax_array)"
   ]
  },
  {
   "cell_type": "code",
   "execution_count": 11,
   "metadata": {},
   "outputs": [],
   "source": [
    "def get_line_eqw(linesobj, line, qmax):\n",
    "    all_eqws =  [linesobj[line].calc_weq(qmax=qmax, ang=ang, norm=True) for ang in range((4*len(sol_mus[1:])+1))]\n",
    "    line_eqws = [all_eqws[0]]\n",
    "    for mu, _ in enumerate(sol_mus[1:]):\n",
    "        ang_start = mu*4+1\n",
    "        ang_end = ang_start+4\n",
    "        line_eqws.append(np.mean(all_eqws[ang_start:ang_end]))\n",
    "        # print(f'{all_corrs[ang_start]}:{all_corrs[ang_end-1]}')\n",
    "    return line_eqws"
   ]
  },
  {
   "cell_type": "code",
   "execution_count": 12,
   "metadata": {},
   "outputs": [],
   "source": [
    "# def get_line_eqw_new(linesobj, line, qmax, define_mask):\n",
    "#     all_eqws =  [linesobj[line].calc_weq(qmax=qmax, ang=ang, norm=True, define_mask=define_mask) for ang in range((4*len(sol_mus[1:])+1))]\n",
    "#     line_eqws = [all_eqws[0]]\n",
    "#     for mu, _ in enumerate(sol_mus[1:]):\n",
    "#         ang_start = mu*4+1\n",
    "#         ang_end = ang_start+4\n",
    "#         line_eqws.append(np.mean(all_eqws[ang_start:ang_end]))\n",
    "#         # print(f'{all_corrs[ang_start]}:{all_corrs[ang_end-1]}')\n",
    "#     return line_eqws"
   ]
  },
  {
   "cell_type": "code",
   "execution_count": 13,
   "metadata": {},
   "outputs": [],
   "source": [
    "# define the integration limits for the iag observed solar spectrum for each line (keep same across angles)\n",
    "# iag_int_lims = np.array([[5645.4, 5645.8],[5684.31,5684.7],[5700.97,5701.3],[5771.9,5772.35],[7034.55,7035.2]])"
   ]
  },
  {
   "cell_type": "code",
   "execution_count": 14,
   "metadata": {},
   "outputs": [],
   "source": [
    "# NLTE_obj = runobjects[1]\n",
    "# corrections = np.array([[LTE1d_cog.abnds_corr(NLTE3Drunobj, kr=thiskr, qmax=qmax_array, ang=ang) for ang in range(len(sol_mus))] for thiskr in major_krs])\n",
    "corrections = np.array([get_abnds_corr(cogobj=LTE1d_cog, NLTErun=NLTE3Drunobj, kr=thiskr, qmax=qmax_array[tk]) for tk, thiskr in enumerate(major_krs)])\n",
    "# eqwidths_1dlte = np.array([[LTE1d_cog.calc_weq(kr=kr, ang=ang, qmax=qmax_array, norm=True) for ang in range(len(sol_mus))] for kr in major_krs])\n",
    "eqwidths_1dlte = np.array([get_cog_eqw(cogobj=LTE1d_cog, kr=thiskr, qmax=qmax_array[tk]) for tk, thiskr in enumerate(major_krs)])\n",
    "# eqw_NLTE = [[NLTE3Dlines[line].calc_weq(ang=ang, qmax=qmax_array, norm=True) for ang in range(len(sol_mus))] for line in range(len((NLTE3Dlines)))]\n",
    "eqw_NLTE = [get_line_eqw(linesobj=NLTE3Dlines, line=thisline, qmax=qmax_array[thisline]) for thisline in range(len((NLTE3Dlines)))]\n",
    "\n",
    "d = { 'Wavelengths': wavelengths,\n",
    "      'Abundance_cor': corrections,\n",
    "\n",
    "}"
   ]
  },
  {
   "cell_type": "code",
   "execution_count": 15,
   "metadata": {},
   "outputs": [],
   "source": [
    "def ax_text(i,j, ax, posx, posy, color='k'):\n",
    "    \n",
    "    d = {'3D non-LTE Abund. diff.:': np.round(corrections[i,j],4)\n",
    "        }\n",
    "    \n",
    "    add_text_to_ax(posx, posy, nice_string_output(d), ax, fontsize=10, color=color)\n",
    "    return None"
   ]
  },
  {
   "cell_type": "code",
   "execution_count": 16,
   "metadata": {},
   "outputs": [],
   "source": [
    "# fig_ew, ax_ew = plt.subplots(len(major_krs), len(sol_mus), figsize=(22,13))\n",
    "\n",
    "# abundances = LTE1d_cog.abnds\n",
    "\n",
    "# for i, kr in enumerate(major_krs):\n",
    "#     for j, mu in enumerate(sol_mus):\n",
    "#         ax_ew[i,j].plot(LTE1d_cog.abnds, eqwidths_1dlte[i,j], '--x', label='1D LTE')\n",
    "#         ax_ew[i,j].plot(NLTE3Drunobj.abnd, eqw_NLTE[i][j], 'rx', label='3D NLTE')\n",
    "#         ax_ew[i,j].set_title(f'Si {m3d_centre_wavelengths[i]:.2f} Å, $\\mu = {sol_mus[j]:.1f}$')\n",
    "#         ax_ew[i,j].set_ylabel('Eq. width, mÅ', fontsize=10)\n",
    "#         ax_ew[i,j].set_xlabel('Rel. abundance, dex', fontsize=10)\n",
    "#         ax_text(i,j, ax_ew[i,j],  0.24, 0.15)\n",
    "        \n",
    "#         # ax_ew[i,j].grid(which='both')\n",
    "\n",
    "#         ax_ew[i,j].legend(fontsize=10)\n",
    "# fig_ew.suptitle(f'{NLTE3Drunfile}')\n",
    "# # plt.tight_layout()\n",
    "# plt.subplots_adjust(left=0.09, bottom=None, right=None, top=None, wspace=0.3, hspace=0.7)\n",
    "\n",
    "# fig_ew.savefig('../plots/3dabundcorr_IOSMET_5wls.pdf')"
   ]
  },
  {
   "cell_type": "code",
   "execution_count": 17,
   "metadata": {},
   "outputs": [
    {
     "data": {
      "image/svg+xml": "<?xml version=\"1.0\" encoding=\"utf-8\" standalone=\"no\"?>\n<!DOCTYPE svg PUBLIC \"-//W3C//DTD SVG 1.1//EN\"\n  \"http://www.w3.org/Graphics/SVG/1.1/DTD/svg11.dtd\">\n<svg xmlns:xlink=\"http://www.w3.org/1999/xlink\" width=\"490.14125pt\" height=\"345.51625pt\" viewBox=\"0 0 490.14125 345.51625\" xmlns=\"http://www.w3.org/2000/svg\" version=\"1.1\">\n <metadata>\n  <rdf:RDF xmlns:dc=\"http://purl.org/dc/elements/1.1/\" xmlns:cc=\"http://creativecommons.org/ns#\" xmlns:rdf=\"http://www.w3.org/1999/02/22-rdf-syntax-ns#\">\n   <cc:Work>\n    <dc:type rdf:resource=\"http://purl.org/dc/dcmitype/StillImage\"/>\n    <dc:date>2022-06-09T13:58:33.738988</dc:date>\n    <dc:format>image/svg+xml</dc:format>\n    <dc:creator>\n     <cc:Agent>\n      <dc:title>Matplotlib v3.5.1, https://matplotlib.org/</dc:title>\n     </cc:Agent>\n    </dc:creator>\n   </cc:Work>\n  </rdf:RDF>\n </metadata>\n <defs>\n  <style type=\"text/css\">*{stroke-linejoin: round; stroke-linecap: butt}</style>\n </defs>\n <g id=\"figure_1\">\n  <g id=\"patch_1\">\n   <path d=\"M 0 345.51625 \nL 490.14125 345.51625 \nL 490.14125 0 \nL 0 0 \nz\n\" style=\"fill: #ffffff\"/>\n  </g>\n  <g id=\"axes_1\">\n   <g id=\"patch_2\">\n    <path d=\"M 38.7875 311.46 \nL 482.94125 311.46 \nL 482.94125 7.2 \nL 38.7875 7.2 \nz\n\" style=\"fill: #ffffff\"/>\n   </g>\n   <g id=\"matplotlib.axis_1\">\n    <g id=\"xtick_1\">\n     <g id=\"line2d_1\">\n      <defs>\n       <path id=\"m8fe34cbee8\" d=\"M 0 0 \nL 0 -6 \n\" style=\"stroke: #000000; stroke-width: 0.8\"/>\n      </defs>\n      <g>\n       <use xlink:href=\"#m8fe34cbee8\" x=\"48.881771\" y=\"311.46\" style=\"stroke: #000000; stroke-width: 0.8\"/>\n      </g>\n     </g>\n     <g id=\"line2d_2\">\n      <defs>\n       <path id=\"m565461a6de\" d=\"M 0 0 \nL 0 6 \n\" style=\"stroke: #000000; stroke-width: 0.8\"/>\n      </defs>\n      <g>\n       <use xlink:href=\"#m565461a6de\" x=\"48.881771\" y=\"7.2\" style=\"stroke: #000000; stroke-width: 0.8\"/>\n      </g>\n     </g>\n     <g id=\"text_1\">\n      <!-- 7.35 -->\n      <g transform=\"translate(37.748959 322.558437)scale(0.1 -0.1)\">\n       <defs>\n        <path id=\"DejaVuSans-37\" d=\"M 525 4666 \nL 3525 4666 \nL 3525 4397 \nL 1831 0 \nL 1172 0 \nL 2766 4134 \nL 525 4134 \nL 525 4666 \nz\n\" transform=\"scale(0.015625)\"/>\n        <path id=\"DejaVuSans-2e\" d=\"M 684 794 \nL 1344 794 \nL 1344 0 \nL 684 0 \nL 684 794 \nz\n\" transform=\"scale(0.015625)\"/>\n        <path id=\"DejaVuSans-33\" d=\"M 2597 2516 \nQ 3050 2419 3304 2112 \nQ 3559 1806 3559 1356 \nQ 3559 666 3084 287 \nQ 2609 -91 1734 -91 \nQ 1441 -91 1130 -33 \nQ 819 25 488 141 \nL 488 750 \nQ 750 597 1062 519 \nQ 1375 441 1716 441 \nQ 2309 441 2620 675 \nQ 2931 909 2931 1356 \nQ 2931 1769 2642 2001 \nQ 2353 2234 1838 2234 \nL 1294 2234 \nL 1294 2753 \nL 1863 2753 \nQ 2328 2753 2575 2939 \nQ 2822 3125 2822 3475 \nQ 2822 3834 2567 4026 \nQ 2313 4219 1838 4219 \nQ 1578 4219 1281 4162 \nQ 984 4106 628 3988 \nL 628 4550 \nQ 988 4650 1302 4700 \nQ 1616 4750 1894 4750 \nQ 2613 4750 3031 4423 \nQ 3450 4097 3450 3541 \nQ 3450 3153 3228 2886 \nQ 3006 2619 2597 2516 \nz\n\" transform=\"scale(0.015625)\"/>\n        <path id=\"DejaVuSans-35\" d=\"M 691 4666 \nL 3169 4666 \nL 3169 4134 \nL 1269 4134 \nL 1269 2991 \nQ 1406 3038 1543 3061 \nQ 1681 3084 1819 3084 \nQ 2600 3084 3056 2656 \nQ 3513 2228 3513 1497 \nQ 3513 744 3044 326 \nQ 2575 -91 1722 -91 \nQ 1428 -91 1123 -41 \nQ 819 9 494 109 \nL 494 744 \nQ 775 591 1075 516 \nQ 1375 441 1709 441 \nQ 2250 441 2565 725 \nQ 2881 1009 2881 1497 \nQ 2881 1984 2565 2268 \nQ 2250 2553 1709 2553 \nQ 1456 2553 1204 2497 \nQ 953 2441 691 2322 \nL 691 4666 \nz\n\" transform=\"scale(0.015625)\"/>\n       </defs>\n       <use xlink:href=\"#DejaVuSans-37\"/>\n       <use xlink:href=\"#DejaVuSans-2e\" x=\"63.623047\"/>\n       <use xlink:href=\"#DejaVuSans-33\" x=\"95.410156\"/>\n       <use xlink:href=\"#DejaVuSans-35\" x=\"159.033203\"/>\n      </g>\n     </g>\n    </g>\n    <g id=\"xtick_2\">\n     <g id=\"line2d_3\">\n      <g>\n       <use xlink:href=\"#m8fe34cbee8\" x=\"99.353776\" y=\"311.46\" style=\"stroke: #000000; stroke-width: 0.8\"/>\n      </g>\n     </g>\n     <g id=\"line2d_4\">\n      <g>\n       <use xlink:href=\"#m565461a6de\" x=\"99.353776\" y=\"7.2\" style=\"stroke: #000000; stroke-width: 0.8\"/>\n      </g>\n     </g>\n     <g id=\"text_2\">\n      <!-- 7.40 -->\n      <g transform=\"translate(88.220964 322.558437)scale(0.1 -0.1)\">\n       <defs>\n        <path id=\"DejaVuSans-34\" d=\"M 2419 4116 \nL 825 1625 \nL 2419 1625 \nL 2419 4116 \nz\nM 2253 4666 \nL 3047 4666 \nL 3047 1625 \nL 3713 1625 \nL 3713 1100 \nL 3047 1100 \nL 3047 0 \nL 2419 0 \nL 2419 1100 \nL 313 1100 \nL 313 1709 \nL 2253 4666 \nz\n\" transform=\"scale(0.015625)\"/>\n        <path id=\"DejaVuSans-30\" d=\"M 2034 4250 \nQ 1547 4250 1301 3770 \nQ 1056 3291 1056 2328 \nQ 1056 1369 1301 889 \nQ 1547 409 2034 409 \nQ 2525 409 2770 889 \nQ 3016 1369 3016 2328 \nQ 3016 3291 2770 3770 \nQ 2525 4250 2034 4250 \nz\nM 2034 4750 \nQ 2819 4750 3233 4129 \nQ 3647 3509 3647 2328 \nQ 3647 1150 3233 529 \nQ 2819 -91 2034 -91 \nQ 1250 -91 836 529 \nQ 422 1150 422 2328 \nQ 422 3509 836 4129 \nQ 1250 4750 2034 4750 \nz\n\" transform=\"scale(0.015625)\"/>\n       </defs>\n       <use xlink:href=\"#DejaVuSans-37\"/>\n       <use xlink:href=\"#DejaVuSans-2e\" x=\"63.623047\"/>\n       <use xlink:href=\"#DejaVuSans-34\" x=\"95.410156\"/>\n       <use xlink:href=\"#DejaVuSans-30\" x=\"159.033203\"/>\n      </g>\n     </g>\n    </g>\n    <g id=\"xtick_3\">\n     <g id=\"line2d_5\">\n      <g>\n       <use xlink:href=\"#m8fe34cbee8\" x=\"149.825781\" y=\"311.46\" style=\"stroke: #000000; stroke-width: 0.8\"/>\n      </g>\n     </g>\n     <g id=\"line2d_6\">\n      <g>\n       <use xlink:href=\"#m565461a6de\" x=\"149.825781\" y=\"7.2\" style=\"stroke: #000000; stroke-width: 0.8\"/>\n      </g>\n     </g>\n     <g id=\"text_3\">\n      <!-- 7.45 -->\n      <g transform=\"translate(138.692969 322.558437)scale(0.1 -0.1)\">\n       <use xlink:href=\"#DejaVuSans-37\"/>\n       <use xlink:href=\"#DejaVuSans-2e\" x=\"63.623047\"/>\n       <use xlink:href=\"#DejaVuSans-34\" x=\"95.410156\"/>\n       <use xlink:href=\"#DejaVuSans-35\" x=\"159.033203\"/>\n      </g>\n     </g>\n    </g>\n    <g id=\"xtick_4\">\n     <g id=\"line2d_7\">\n      <g>\n       <use xlink:href=\"#m8fe34cbee8\" x=\"200.297786\" y=\"311.46\" style=\"stroke: #000000; stroke-width: 0.8\"/>\n      </g>\n     </g>\n     <g id=\"line2d_8\">\n      <g>\n       <use xlink:href=\"#m565461a6de\" x=\"200.297786\" y=\"7.2\" style=\"stroke: #000000; stroke-width: 0.8\"/>\n      </g>\n     </g>\n     <g id=\"text_4\">\n      <!-- 7.50 -->\n      <g transform=\"translate(189.164974 322.558437)scale(0.1 -0.1)\">\n       <use xlink:href=\"#DejaVuSans-37\"/>\n       <use xlink:href=\"#DejaVuSans-2e\" x=\"63.623047\"/>\n       <use xlink:href=\"#DejaVuSans-35\" x=\"95.410156\"/>\n       <use xlink:href=\"#DejaVuSans-30\" x=\"159.033203\"/>\n      </g>\n     </g>\n    </g>\n    <g id=\"xtick_5\">\n     <g id=\"line2d_9\">\n      <g>\n       <use xlink:href=\"#m8fe34cbee8\" x=\"250.769791\" y=\"311.46\" style=\"stroke: #000000; stroke-width: 0.8\"/>\n      </g>\n     </g>\n     <g id=\"line2d_10\">\n      <g>\n       <use xlink:href=\"#m565461a6de\" x=\"250.769791\" y=\"7.2\" style=\"stroke: #000000; stroke-width: 0.8\"/>\n      </g>\n     </g>\n     <g id=\"text_5\">\n      <!-- 7.55 -->\n      <g transform=\"translate(239.636979 322.558437)scale(0.1 -0.1)\">\n       <use xlink:href=\"#DejaVuSans-37\"/>\n       <use xlink:href=\"#DejaVuSans-2e\" x=\"63.623047\"/>\n       <use xlink:href=\"#DejaVuSans-35\" x=\"95.410156\"/>\n       <use xlink:href=\"#DejaVuSans-35\" x=\"159.033203\"/>\n      </g>\n     </g>\n    </g>\n    <g id=\"xtick_6\">\n     <g id=\"line2d_11\">\n      <g>\n       <use xlink:href=\"#m8fe34cbee8\" x=\"301.241796\" y=\"311.46\" style=\"stroke: #000000; stroke-width: 0.8\"/>\n      </g>\n     </g>\n     <g id=\"line2d_12\">\n      <g>\n       <use xlink:href=\"#m565461a6de\" x=\"301.241796\" y=\"7.2\" style=\"stroke: #000000; stroke-width: 0.8\"/>\n      </g>\n     </g>\n     <g id=\"text_6\">\n      <!-- 7.60 -->\n      <g transform=\"translate(290.108984 322.558437)scale(0.1 -0.1)\">\n       <defs>\n        <path id=\"DejaVuSans-36\" d=\"M 2113 2584 \nQ 1688 2584 1439 2293 \nQ 1191 2003 1191 1497 \nQ 1191 994 1439 701 \nQ 1688 409 2113 409 \nQ 2538 409 2786 701 \nQ 3034 994 3034 1497 \nQ 3034 2003 2786 2293 \nQ 2538 2584 2113 2584 \nz\nM 3366 4563 \nL 3366 3988 \nQ 3128 4100 2886 4159 \nQ 2644 4219 2406 4219 \nQ 1781 4219 1451 3797 \nQ 1122 3375 1075 2522 \nQ 1259 2794 1537 2939 \nQ 1816 3084 2150 3084 \nQ 2853 3084 3261 2657 \nQ 3669 2231 3669 1497 \nQ 3669 778 3244 343 \nQ 2819 -91 2113 -91 \nQ 1303 -91 875 529 \nQ 447 1150 447 2328 \nQ 447 3434 972 4092 \nQ 1497 4750 2381 4750 \nQ 2619 4750 2861 4703 \nQ 3103 4656 3366 4563 \nz\n\" transform=\"scale(0.015625)\"/>\n       </defs>\n       <use xlink:href=\"#DejaVuSans-37\"/>\n       <use xlink:href=\"#DejaVuSans-2e\" x=\"63.623047\"/>\n       <use xlink:href=\"#DejaVuSans-36\" x=\"95.410156\"/>\n       <use xlink:href=\"#DejaVuSans-30\" x=\"159.033203\"/>\n      </g>\n     </g>\n    </g>\n    <g id=\"xtick_7\">\n     <g id=\"line2d_13\">\n      <g>\n       <use xlink:href=\"#m8fe34cbee8\" x=\"351.713801\" y=\"311.46\" style=\"stroke: #000000; stroke-width: 0.8\"/>\n      </g>\n     </g>\n     <g id=\"line2d_14\">\n      <g>\n       <use xlink:href=\"#m565461a6de\" x=\"351.713801\" y=\"7.2\" style=\"stroke: #000000; stroke-width: 0.8\"/>\n      </g>\n     </g>\n     <g id=\"text_7\">\n      <!-- 7.65 -->\n      <g transform=\"translate(340.580989 322.558437)scale(0.1 -0.1)\">\n       <use xlink:href=\"#DejaVuSans-37\"/>\n       <use xlink:href=\"#DejaVuSans-2e\" x=\"63.623047\"/>\n       <use xlink:href=\"#DejaVuSans-36\" x=\"95.410156\"/>\n       <use xlink:href=\"#DejaVuSans-35\" x=\"159.033203\"/>\n      </g>\n     </g>\n    </g>\n    <g id=\"xtick_8\">\n     <g id=\"line2d_15\">\n      <g>\n       <use xlink:href=\"#m8fe34cbee8\" x=\"402.185806\" y=\"311.46\" style=\"stroke: #000000; stroke-width: 0.8\"/>\n      </g>\n     </g>\n     <g id=\"line2d_16\">\n      <g>\n       <use xlink:href=\"#m565461a6de\" x=\"402.185806\" y=\"7.2\" style=\"stroke: #000000; stroke-width: 0.8\"/>\n      </g>\n     </g>\n     <g id=\"text_8\">\n      <!-- 7.70 -->\n      <g transform=\"translate(391.052994 322.558437)scale(0.1 -0.1)\">\n       <use xlink:href=\"#DejaVuSans-37\"/>\n       <use xlink:href=\"#DejaVuSans-2e\" x=\"63.623047\"/>\n       <use xlink:href=\"#DejaVuSans-37\" x=\"95.410156\"/>\n       <use xlink:href=\"#DejaVuSans-30\" x=\"159.033203\"/>\n      </g>\n     </g>\n    </g>\n    <g id=\"xtick_9\">\n     <g id=\"line2d_17\">\n      <g>\n       <use xlink:href=\"#m8fe34cbee8\" x=\"452.657811\" y=\"311.46\" style=\"stroke: #000000; stroke-width: 0.8\"/>\n      </g>\n     </g>\n     <g id=\"line2d_18\">\n      <g>\n       <use xlink:href=\"#m565461a6de\" x=\"452.657811\" y=\"7.2\" style=\"stroke: #000000; stroke-width: 0.8\"/>\n      </g>\n     </g>\n     <g id=\"text_9\">\n      <!-- 7.75 -->\n      <g transform=\"translate(441.524999 322.558437)scale(0.1 -0.1)\">\n       <use xlink:href=\"#DejaVuSans-37\"/>\n       <use xlink:href=\"#DejaVuSans-2e\" x=\"63.623047\"/>\n       <use xlink:href=\"#DejaVuSans-37\" x=\"95.410156\"/>\n       <use xlink:href=\"#DejaVuSans-35\" x=\"159.033203\"/>\n      </g>\n     </g>\n    </g>\n    <g id=\"xtick_10\">\n     <g id=\"line2d_19\">\n      <defs>\n       <path id=\"mf53a1b2da5\" d=\"M 0 0 \nL 0 -3 \n\" style=\"stroke: #000000; stroke-width: 0.6\"/>\n      </defs>\n      <g>\n       <use xlink:href=\"#mf53a1b2da5\" x=\"58.976172\" y=\"311.46\" style=\"stroke: #000000; stroke-width: 0.6\"/>\n      </g>\n     </g>\n     <g id=\"line2d_20\">\n      <defs>\n       <path id=\"me7fbf8421a\" d=\"M 0 0 \nL 0 3 \n\" style=\"stroke: #000000; stroke-width: 0.6\"/>\n      </defs>\n      <g>\n       <use xlink:href=\"#me7fbf8421a\" x=\"58.976172\" y=\"7.2\" style=\"stroke: #000000; stroke-width: 0.6\"/>\n      </g>\n     </g>\n    </g>\n    <g id=\"xtick_11\">\n     <g id=\"line2d_21\">\n      <g>\n       <use xlink:href=\"#mf53a1b2da5\" x=\"69.070573\" y=\"311.46\" style=\"stroke: #000000; stroke-width: 0.6\"/>\n      </g>\n     </g>\n     <g id=\"line2d_22\">\n      <g>\n       <use xlink:href=\"#me7fbf8421a\" x=\"69.070573\" y=\"7.2\" style=\"stroke: #000000; stroke-width: 0.6\"/>\n      </g>\n     </g>\n    </g>\n    <g id=\"xtick_12\">\n     <g id=\"line2d_23\">\n      <g>\n       <use xlink:href=\"#mf53a1b2da5\" x=\"79.164974\" y=\"311.46\" style=\"stroke: #000000; stroke-width: 0.6\"/>\n      </g>\n     </g>\n     <g id=\"line2d_24\">\n      <g>\n       <use xlink:href=\"#me7fbf8421a\" x=\"79.164974\" y=\"7.2\" style=\"stroke: #000000; stroke-width: 0.6\"/>\n      </g>\n     </g>\n    </g>\n    <g id=\"xtick_13\">\n     <g id=\"line2d_25\">\n      <g>\n       <use xlink:href=\"#mf53a1b2da5\" x=\"89.259375\" y=\"311.46\" style=\"stroke: #000000; stroke-width: 0.6\"/>\n      </g>\n     </g>\n     <g id=\"line2d_26\">\n      <g>\n       <use xlink:href=\"#me7fbf8421a\" x=\"89.259375\" y=\"7.2\" style=\"stroke: #000000; stroke-width: 0.6\"/>\n      </g>\n     </g>\n    </g>\n    <g id=\"xtick_14\">\n     <g id=\"line2d_27\">\n      <g>\n       <use xlink:href=\"#mf53a1b2da5\" x=\"109.448177\" y=\"311.46\" style=\"stroke: #000000; stroke-width: 0.6\"/>\n      </g>\n     </g>\n     <g id=\"line2d_28\">\n      <g>\n       <use xlink:href=\"#me7fbf8421a\" x=\"109.448177\" y=\"7.2\" style=\"stroke: #000000; stroke-width: 0.6\"/>\n      </g>\n     </g>\n    </g>\n    <g id=\"xtick_15\">\n     <g id=\"line2d_29\">\n      <g>\n       <use xlink:href=\"#mf53a1b2da5\" x=\"119.542578\" y=\"311.46\" style=\"stroke: #000000; stroke-width: 0.6\"/>\n      </g>\n     </g>\n     <g id=\"line2d_30\">\n      <g>\n       <use xlink:href=\"#me7fbf8421a\" x=\"119.542578\" y=\"7.2\" style=\"stroke: #000000; stroke-width: 0.6\"/>\n      </g>\n     </g>\n    </g>\n    <g id=\"xtick_16\">\n     <g id=\"line2d_31\">\n      <g>\n       <use xlink:href=\"#mf53a1b2da5\" x=\"129.636979\" y=\"311.46\" style=\"stroke: #000000; stroke-width: 0.6\"/>\n      </g>\n     </g>\n     <g id=\"line2d_32\">\n      <g>\n       <use xlink:href=\"#me7fbf8421a\" x=\"129.636979\" y=\"7.2\" style=\"stroke: #000000; stroke-width: 0.6\"/>\n      </g>\n     </g>\n    </g>\n    <g id=\"xtick_17\">\n     <g id=\"line2d_33\">\n      <g>\n       <use xlink:href=\"#mf53a1b2da5\" x=\"139.73138\" y=\"311.46\" style=\"stroke: #000000; stroke-width: 0.6\"/>\n      </g>\n     </g>\n     <g id=\"line2d_34\">\n      <g>\n       <use xlink:href=\"#me7fbf8421a\" x=\"139.73138\" y=\"7.2\" style=\"stroke: #000000; stroke-width: 0.6\"/>\n      </g>\n     </g>\n    </g>\n    <g id=\"xtick_18\">\n     <g id=\"line2d_35\">\n      <g>\n       <use xlink:href=\"#mf53a1b2da5\" x=\"159.920182\" y=\"311.46\" style=\"stroke: #000000; stroke-width: 0.6\"/>\n      </g>\n     </g>\n     <g id=\"line2d_36\">\n      <g>\n       <use xlink:href=\"#me7fbf8421a\" x=\"159.920182\" y=\"7.2\" style=\"stroke: #000000; stroke-width: 0.6\"/>\n      </g>\n     </g>\n    </g>\n    <g id=\"xtick_19\">\n     <g id=\"line2d_37\">\n      <g>\n       <use xlink:href=\"#mf53a1b2da5\" x=\"170.014583\" y=\"311.46\" style=\"stroke: #000000; stroke-width: 0.6\"/>\n      </g>\n     </g>\n     <g id=\"line2d_38\">\n      <g>\n       <use xlink:href=\"#me7fbf8421a\" x=\"170.014583\" y=\"7.2\" style=\"stroke: #000000; stroke-width: 0.6\"/>\n      </g>\n     </g>\n    </g>\n    <g id=\"xtick_20\">\n     <g id=\"line2d_39\">\n      <g>\n       <use xlink:href=\"#mf53a1b2da5\" x=\"180.108984\" y=\"311.46\" style=\"stroke: #000000; stroke-width: 0.6\"/>\n      </g>\n     </g>\n     <g id=\"line2d_40\">\n      <g>\n       <use xlink:href=\"#me7fbf8421a\" x=\"180.108984\" y=\"7.2\" style=\"stroke: #000000; stroke-width: 0.6\"/>\n      </g>\n     </g>\n    </g>\n    <g id=\"xtick_21\">\n     <g id=\"line2d_41\">\n      <g>\n       <use xlink:href=\"#mf53a1b2da5\" x=\"190.203385\" y=\"311.46\" style=\"stroke: #000000; stroke-width: 0.6\"/>\n      </g>\n     </g>\n     <g id=\"line2d_42\">\n      <g>\n       <use xlink:href=\"#me7fbf8421a\" x=\"190.203385\" y=\"7.2\" style=\"stroke: #000000; stroke-width: 0.6\"/>\n      </g>\n     </g>\n    </g>\n    <g id=\"xtick_22\">\n     <g id=\"line2d_43\">\n      <g>\n       <use xlink:href=\"#mf53a1b2da5\" x=\"210.392187\" y=\"311.46\" style=\"stroke: #000000; stroke-width: 0.6\"/>\n      </g>\n     </g>\n     <g id=\"line2d_44\">\n      <g>\n       <use xlink:href=\"#me7fbf8421a\" x=\"210.392187\" y=\"7.2\" style=\"stroke: #000000; stroke-width: 0.6\"/>\n      </g>\n     </g>\n    </g>\n    <g id=\"xtick_23\">\n     <g id=\"line2d_45\">\n      <g>\n       <use xlink:href=\"#mf53a1b2da5\" x=\"220.486588\" y=\"311.46\" style=\"stroke: #000000; stroke-width: 0.6\"/>\n      </g>\n     </g>\n     <g id=\"line2d_46\">\n      <g>\n       <use xlink:href=\"#me7fbf8421a\" x=\"220.486588\" y=\"7.2\" style=\"stroke: #000000; stroke-width: 0.6\"/>\n      </g>\n     </g>\n    </g>\n    <g id=\"xtick_24\">\n     <g id=\"line2d_47\">\n      <g>\n       <use xlink:href=\"#mf53a1b2da5\" x=\"230.580989\" y=\"311.46\" style=\"stroke: #000000; stroke-width: 0.6\"/>\n      </g>\n     </g>\n     <g id=\"line2d_48\">\n      <g>\n       <use xlink:href=\"#me7fbf8421a\" x=\"230.580989\" y=\"7.2\" style=\"stroke: #000000; stroke-width: 0.6\"/>\n      </g>\n     </g>\n    </g>\n    <g id=\"xtick_25\">\n     <g id=\"line2d_49\">\n      <g>\n       <use xlink:href=\"#mf53a1b2da5\" x=\"240.67539\" y=\"311.46\" style=\"stroke: #000000; stroke-width: 0.6\"/>\n      </g>\n     </g>\n     <g id=\"line2d_50\">\n      <g>\n       <use xlink:href=\"#me7fbf8421a\" x=\"240.67539\" y=\"7.2\" style=\"stroke: #000000; stroke-width: 0.6\"/>\n      </g>\n     </g>\n    </g>\n    <g id=\"xtick_26\">\n     <g id=\"line2d_51\">\n      <g>\n       <use xlink:href=\"#mf53a1b2da5\" x=\"260.864192\" y=\"311.46\" style=\"stroke: #000000; stroke-width: 0.6\"/>\n      </g>\n     </g>\n     <g id=\"line2d_52\">\n      <g>\n       <use xlink:href=\"#me7fbf8421a\" x=\"260.864192\" y=\"7.2\" style=\"stroke: #000000; stroke-width: 0.6\"/>\n      </g>\n     </g>\n    </g>\n    <g id=\"xtick_27\">\n     <g id=\"line2d_53\">\n      <g>\n       <use xlink:href=\"#mf53a1b2da5\" x=\"270.958593\" y=\"311.46\" style=\"stroke: #000000; stroke-width: 0.6\"/>\n      </g>\n     </g>\n     <g id=\"line2d_54\">\n      <g>\n       <use xlink:href=\"#me7fbf8421a\" x=\"270.958593\" y=\"7.2\" style=\"stroke: #000000; stroke-width: 0.6\"/>\n      </g>\n     </g>\n    </g>\n    <g id=\"xtick_28\">\n     <g id=\"line2d_55\">\n      <g>\n       <use xlink:href=\"#mf53a1b2da5\" x=\"281.052994\" y=\"311.46\" style=\"stroke: #000000; stroke-width: 0.6\"/>\n      </g>\n     </g>\n     <g id=\"line2d_56\">\n      <g>\n       <use xlink:href=\"#me7fbf8421a\" x=\"281.052994\" y=\"7.2\" style=\"stroke: #000000; stroke-width: 0.6\"/>\n      </g>\n     </g>\n    </g>\n    <g id=\"xtick_29\">\n     <g id=\"line2d_57\">\n      <g>\n       <use xlink:href=\"#mf53a1b2da5\" x=\"291.147395\" y=\"311.46\" style=\"stroke: #000000; stroke-width: 0.6\"/>\n      </g>\n     </g>\n     <g id=\"line2d_58\">\n      <g>\n       <use xlink:href=\"#me7fbf8421a\" x=\"291.147395\" y=\"7.2\" style=\"stroke: #000000; stroke-width: 0.6\"/>\n      </g>\n     </g>\n    </g>\n    <g id=\"xtick_30\">\n     <g id=\"line2d_59\">\n      <g>\n       <use xlink:href=\"#mf53a1b2da5\" x=\"311.336197\" y=\"311.46\" style=\"stroke: #000000; stroke-width: 0.6\"/>\n      </g>\n     </g>\n     <g id=\"line2d_60\">\n      <g>\n       <use xlink:href=\"#me7fbf8421a\" x=\"311.336197\" y=\"7.2\" style=\"stroke: #000000; stroke-width: 0.6\"/>\n      </g>\n     </g>\n    </g>\n    <g id=\"xtick_31\">\n     <g id=\"line2d_61\">\n      <g>\n       <use xlink:href=\"#mf53a1b2da5\" x=\"321.430598\" y=\"311.46\" style=\"stroke: #000000; stroke-width: 0.6\"/>\n      </g>\n     </g>\n     <g id=\"line2d_62\">\n      <g>\n       <use xlink:href=\"#me7fbf8421a\" x=\"321.430598\" y=\"7.2\" style=\"stroke: #000000; stroke-width: 0.6\"/>\n      </g>\n     </g>\n    </g>\n    <g id=\"xtick_32\">\n     <g id=\"line2d_63\">\n      <g>\n       <use xlink:href=\"#mf53a1b2da5\" x=\"331.524999\" y=\"311.46\" style=\"stroke: #000000; stroke-width: 0.6\"/>\n      </g>\n     </g>\n     <g id=\"line2d_64\">\n      <g>\n       <use xlink:href=\"#me7fbf8421a\" x=\"331.524999\" y=\"7.2\" style=\"stroke: #000000; stroke-width: 0.6\"/>\n      </g>\n     </g>\n    </g>\n    <g id=\"xtick_33\">\n     <g id=\"line2d_65\">\n      <g>\n       <use xlink:href=\"#mf53a1b2da5\" x=\"341.6194\" y=\"311.46\" style=\"stroke: #000000; stroke-width: 0.6\"/>\n      </g>\n     </g>\n     <g id=\"line2d_66\">\n      <g>\n       <use xlink:href=\"#me7fbf8421a\" x=\"341.6194\" y=\"7.2\" style=\"stroke: #000000; stroke-width: 0.6\"/>\n      </g>\n     </g>\n    </g>\n    <g id=\"xtick_34\">\n     <g id=\"line2d_67\">\n      <g>\n       <use xlink:href=\"#mf53a1b2da5\" x=\"361.808202\" y=\"311.46\" style=\"stroke: #000000; stroke-width: 0.6\"/>\n      </g>\n     </g>\n     <g id=\"line2d_68\">\n      <g>\n       <use xlink:href=\"#me7fbf8421a\" x=\"361.808202\" y=\"7.2\" style=\"stroke: #000000; stroke-width: 0.6\"/>\n      </g>\n     </g>\n    </g>\n    <g id=\"xtick_35\">\n     <g id=\"line2d_69\">\n      <g>\n       <use xlink:href=\"#mf53a1b2da5\" x=\"371.902603\" y=\"311.46\" style=\"stroke: #000000; stroke-width: 0.6\"/>\n      </g>\n     </g>\n     <g id=\"line2d_70\">\n      <g>\n       <use xlink:href=\"#me7fbf8421a\" x=\"371.902603\" y=\"7.2\" style=\"stroke: #000000; stroke-width: 0.6\"/>\n      </g>\n     </g>\n    </g>\n    <g id=\"xtick_36\">\n     <g id=\"line2d_71\">\n      <g>\n       <use xlink:href=\"#mf53a1b2da5\" x=\"381.997004\" y=\"311.46\" style=\"stroke: #000000; stroke-width: 0.6\"/>\n      </g>\n     </g>\n     <g id=\"line2d_72\">\n      <g>\n       <use xlink:href=\"#me7fbf8421a\" x=\"381.997004\" y=\"7.2\" style=\"stroke: #000000; stroke-width: 0.6\"/>\n      </g>\n     </g>\n    </g>\n    <g id=\"xtick_37\">\n     <g id=\"line2d_73\">\n      <g>\n       <use xlink:href=\"#mf53a1b2da5\" x=\"392.091405\" y=\"311.46\" style=\"stroke: #000000; stroke-width: 0.6\"/>\n      </g>\n     </g>\n     <g id=\"line2d_74\">\n      <g>\n       <use xlink:href=\"#me7fbf8421a\" x=\"392.091405\" y=\"7.2\" style=\"stroke: #000000; stroke-width: 0.6\"/>\n      </g>\n     </g>\n    </g>\n    <g id=\"xtick_38\">\n     <g id=\"line2d_75\">\n      <g>\n       <use xlink:href=\"#mf53a1b2da5\" x=\"412.280207\" y=\"311.46\" style=\"stroke: #000000; stroke-width: 0.6\"/>\n      </g>\n     </g>\n     <g id=\"line2d_76\">\n      <g>\n       <use xlink:href=\"#me7fbf8421a\" x=\"412.280207\" y=\"7.2\" style=\"stroke: #000000; stroke-width: 0.6\"/>\n      </g>\n     </g>\n    </g>\n    <g id=\"xtick_39\">\n     <g id=\"line2d_77\">\n      <g>\n       <use xlink:href=\"#mf53a1b2da5\" x=\"422.374608\" y=\"311.46\" style=\"stroke: #000000; stroke-width: 0.6\"/>\n      </g>\n     </g>\n     <g id=\"line2d_78\">\n      <g>\n       <use xlink:href=\"#me7fbf8421a\" x=\"422.374608\" y=\"7.2\" style=\"stroke: #000000; stroke-width: 0.6\"/>\n      </g>\n     </g>\n    </g>\n    <g id=\"xtick_40\">\n     <g id=\"line2d_79\">\n      <g>\n       <use xlink:href=\"#mf53a1b2da5\" x=\"432.469009\" y=\"311.46\" style=\"stroke: #000000; stroke-width: 0.6\"/>\n      </g>\n     </g>\n     <g id=\"line2d_80\">\n      <g>\n       <use xlink:href=\"#me7fbf8421a\" x=\"432.469009\" y=\"7.2\" style=\"stroke: #000000; stroke-width: 0.6\"/>\n      </g>\n     </g>\n    </g>\n    <g id=\"xtick_41\">\n     <g id=\"line2d_81\">\n      <g>\n       <use xlink:href=\"#mf53a1b2da5\" x=\"442.56341\" y=\"311.46\" style=\"stroke: #000000; stroke-width: 0.6\"/>\n      </g>\n     </g>\n     <g id=\"line2d_82\">\n      <g>\n       <use xlink:href=\"#me7fbf8421a\" x=\"442.56341\" y=\"7.2\" style=\"stroke: #000000; stroke-width: 0.6\"/>\n      </g>\n     </g>\n    </g>\n    <g id=\"xtick_42\">\n     <g id=\"line2d_83\">\n      <g>\n       <use xlink:href=\"#mf53a1b2da5\" x=\"462.752212\" y=\"311.46\" style=\"stroke: #000000; stroke-width: 0.6\"/>\n      </g>\n     </g>\n     <g id=\"line2d_84\">\n      <g>\n       <use xlink:href=\"#me7fbf8421a\" x=\"462.752212\" y=\"7.2\" style=\"stroke: #000000; stroke-width: 0.6\"/>\n      </g>\n     </g>\n    </g>\n    <g id=\"xtick_43\">\n     <g id=\"line2d_85\">\n      <g>\n       <use xlink:href=\"#mf53a1b2da5\" x=\"472.846613\" y=\"311.46\" style=\"stroke: #000000; stroke-width: 0.6\"/>\n      </g>\n     </g>\n     <g id=\"line2d_86\">\n      <g>\n       <use xlink:href=\"#me7fbf8421a\" x=\"472.846613\" y=\"7.2\" style=\"stroke: #000000; stroke-width: 0.6\"/>\n      </g>\n     </g>\n    </g>\n    <g id=\"xtick_44\">\n     <g id=\"line2d_87\">\n      <g>\n       <use xlink:href=\"#mf53a1b2da5\" x=\"482.941014\" y=\"311.46\" style=\"stroke: #000000; stroke-width: 0.6\"/>\n      </g>\n     </g>\n     <g id=\"line2d_88\">\n      <g>\n       <use xlink:href=\"#me7fbf8421a\" x=\"482.941014\" y=\"7.2\" style=\"stroke: #000000; stroke-width: 0.6\"/>\n      </g>\n     </g>\n    </g>\n    <g id=\"text_10\">\n     <!-- Rel. abundance, dex -->\n     <g transform=\"translate(209.862031 336.236562)scale(0.1 -0.1)\">\n      <defs>\n       <path id=\"DejaVuSans-52\" d=\"M 2841 2188 \nQ 3044 2119 3236 1894 \nQ 3428 1669 3622 1275 \nL 4263 0 \nL 3584 0 \nL 2988 1197 \nQ 2756 1666 2539 1819 \nQ 2322 1972 1947 1972 \nL 1259 1972 \nL 1259 0 \nL 628 0 \nL 628 4666 \nL 2053 4666 \nQ 2853 4666 3247 4331 \nQ 3641 3997 3641 3322 \nQ 3641 2881 3436 2590 \nQ 3231 2300 2841 2188 \nz\nM 1259 4147 \nL 1259 2491 \nL 2053 2491 \nQ 2509 2491 2742 2702 \nQ 2975 2913 2975 3322 \nQ 2975 3731 2742 3939 \nQ 2509 4147 2053 4147 \nL 1259 4147 \nz\n\" transform=\"scale(0.015625)\"/>\n       <path id=\"DejaVuSans-65\" d=\"M 3597 1894 \nL 3597 1613 \nL 953 1613 \nQ 991 1019 1311 708 \nQ 1631 397 2203 397 \nQ 2534 397 2845 478 \nQ 3156 559 3463 722 \nL 3463 178 \nQ 3153 47 2828 -22 \nQ 2503 -91 2169 -91 \nQ 1331 -91 842 396 \nQ 353 884 353 1716 \nQ 353 2575 817 3079 \nQ 1281 3584 2069 3584 \nQ 2775 3584 3186 3129 \nQ 3597 2675 3597 1894 \nz\nM 3022 2063 \nQ 3016 2534 2758 2815 \nQ 2500 3097 2075 3097 \nQ 1594 3097 1305 2825 \nQ 1016 2553 972 2059 \nL 3022 2063 \nz\n\" transform=\"scale(0.015625)\"/>\n       <path id=\"DejaVuSans-6c\" d=\"M 603 4863 \nL 1178 4863 \nL 1178 0 \nL 603 0 \nL 603 4863 \nz\n\" transform=\"scale(0.015625)\"/>\n       <path id=\"DejaVuSans-20\" transform=\"scale(0.015625)\"/>\n       <path id=\"DejaVuSans-61\" d=\"M 2194 1759 \nQ 1497 1759 1228 1600 \nQ 959 1441 959 1056 \nQ 959 750 1161 570 \nQ 1363 391 1709 391 \nQ 2188 391 2477 730 \nQ 2766 1069 2766 1631 \nL 2766 1759 \nL 2194 1759 \nz\nM 3341 1997 \nL 3341 0 \nL 2766 0 \nL 2766 531 \nQ 2569 213 2275 61 \nQ 1981 -91 1556 -91 \nQ 1019 -91 701 211 \nQ 384 513 384 1019 \nQ 384 1609 779 1909 \nQ 1175 2209 1959 2209 \nL 2766 2209 \nL 2766 2266 \nQ 2766 2663 2505 2880 \nQ 2244 3097 1772 3097 \nQ 1472 3097 1187 3025 \nQ 903 2953 641 2809 \nL 641 3341 \nQ 956 3463 1253 3523 \nQ 1550 3584 1831 3584 \nQ 2591 3584 2966 3190 \nQ 3341 2797 3341 1997 \nz\n\" transform=\"scale(0.015625)\"/>\n       <path id=\"DejaVuSans-62\" d=\"M 3116 1747 \nQ 3116 2381 2855 2742 \nQ 2594 3103 2138 3103 \nQ 1681 3103 1420 2742 \nQ 1159 2381 1159 1747 \nQ 1159 1113 1420 752 \nQ 1681 391 2138 391 \nQ 2594 391 2855 752 \nQ 3116 1113 3116 1747 \nz\nM 1159 2969 \nQ 1341 3281 1617 3432 \nQ 1894 3584 2278 3584 \nQ 2916 3584 3314 3078 \nQ 3713 2572 3713 1747 \nQ 3713 922 3314 415 \nQ 2916 -91 2278 -91 \nQ 1894 -91 1617 61 \nQ 1341 213 1159 525 \nL 1159 0 \nL 581 0 \nL 581 4863 \nL 1159 4863 \nL 1159 2969 \nz\n\" transform=\"scale(0.015625)\"/>\n       <path id=\"DejaVuSans-75\" d=\"M 544 1381 \nL 544 3500 \nL 1119 3500 \nL 1119 1403 \nQ 1119 906 1312 657 \nQ 1506 409 1894 409 \nQ 2359 409 2629 706 \nQ 2900 1003 2900 1516 \nL 2900 3500 \nL 3475 3500 \nL 3475 0 \nL 2900 0 \nL 2900 538 \nQ 2691 219 2414 64 \nQ 2138 -91 1772 -91 \nQ 1169 -91 856 284 \nQ 544 659 544 1381 \nz\nM 1991 3584 \nL 1991 3584 \nz\n\" transform=\"scale(0.015625)\"/>\n       <path id=\"DejaVuSans-6e\" d=\"M 3513 2113 \nL 3513 0 \nL 2938 0 \nL 2938 2094 \nQ 2938 2591 2744 2837 \nQ 2550 3084 2163 3084 \nQ 1697 3084 1428 2787 \nQ 1159 2491 1159 1978 \nL 1159 0 \nL 581 0 \nL 581 3500 \nL 1159 3500 \nL 1159 2956 \nQ 1366 3272 1645 3428 \nQ 1925 3584 2291 3584 \nQ 2894 3584 3203 3211 \nQ 3513 2838 3513 2113 \nz\n\" transform=\"scale(0.015625)\"/>\n       <path id=\"DejaVuSans-64\" d=\"M 2906 2969 \nL 2906 4863 \nL 3481 4863 \nL 3481 0 \nL 2906 0 \nL 2906 525 \nQ 2725 213 2448 61 \nQ 2172 -91 1784 -91 \nQ 1150 -91 751 415 \nQ 353 922 353 1747 \nQ 353 2572 751 3078 \nQ 1150 3584 1784 3584 \nQ 2172 3584 2448 3432 \nQ 2725 3281 2906 2969 \nz\nM 947 1747 \nQ 947 1113 1208 752 \nQ 1469 391 1925 391 \nQ 2381 391 2643 752 \nQ 2906 1113 2906 1747 \nQ 2906 2381 2643 2742 \nQ 2381 3103 1925 3103 \nQ 1469 3103 1208 2742 \nQ 947 2381 947 1747 \nz\n\" transform=\"scale(0.015625)\"/>\n       <path id=\"DejaVuSans-63\" d=\"M 3122 3366 \nL 3122 2828 \nQ 2878 2963 2633 3030 \nQ 2388 3097 2138 3097 \nQ 1578 3097 1268 2742 \nQ 959 2388 959 1747 \nQ 959 1106 1268 751 \nQ 1578 397 2138 397 \nQ 2388 397 2633 464 \nQ 2878 531 3122 666 \nL 3122 134 \nQ 2881 22 2623 -34 \nQ 2366 -91 2075 -91 \nQ 1284 -91 818 406 \nQ 353 903 353 1747 \nQ 353 2603 823 3093 \nQ 1294 3584 2113 3584 \nQ 2378 3584 2631 3529 \nQ 2884 3475 3122 3366 \nz\n\" transform=\"scale(0.015625)\"/>\n       <path id=\"DejaVuSans-2c\" d=\"M 750 794 \nL 1409 794 \nL 1409 256 \nL 897 -744 \nL 494 -744 \nL 750 256 \nL 750 794 \nz\n\" transform=\"scale(0.015625)\"/>\n       <path id=\"DejaVuSans-78\" d=\"M 3513 3500 \nL 2247 1797 \nL 3578 0 \nL 2900 0 \nL 1881 1375 \nL 863 0 \nL 184 0 \nL 1544 1831 \nL 300 3500 \nL 978 3500 \nL 1906 2253 \nL 2834 3500 \nL 3513 3500 \nz\n\" transform=\"scale(0.015625)\"/>\n      </defs>\n      <use xlink:href=\"#DejaVuSans-52\"/>\n      <use xlink:href=\"#DejaVuSans-65\" x=\"64.982422\"/>\n      <use xlink:href=\"#DejaVuSans-6c\" x=\"126.505859\"/>\n      <use xlink:href=\"#DejaVuSans-2e\" x=\"154.289062\"/>\n      <use xlink:href=\"#DejaVuSans-20\" x=\"186.076172\"/>\n      <use xlink:href=\"#DejaVuSans-61\" x=\"217.863281\"/>\n      <use xlink:href=\"#DejaVuSans-62\" x=\"279.142578\"/>\n      <use xlink:href=\"#DejaVuSans-75\" x=\"342.619141\"/>\n      <use xlink:href=\"#DejaVuSans-6e\" x=\"405.998047\"/>\n      <use xlink:href=\"#DejaVuSans-64\" x=\"469.376953\"/>\n      <use xlink:href=\"#DejaVuSans-61\" x=\"532.853516\"/>\n      <use xlink:href=\"#DejaVuSans-6e\" x=\"594.132812\"/>\n      <use xlink:href=\"#DejaVuSans-63\" x=\"657.511719\"/>\n      <use xlink:href=\"#DejaVuSans-65\" x=\"712.492188\"/>\n      <use xlink:href=\"#DejaVuSans-2c\" x=\"774.015625\"/>\n      <use xlink:href=\"#DejaVuSans-20\" x=\"805.802734\"/>\n      <use xlink:href=\"#DejaVuSans-64\" x=\"837.589844\"/>\n      <use xlink:href=\"#DejaVuSans-65\" x=\"901.066406\"/>\n      <use xlink:href=\"#DejaVuSans-78\" x=\"960.839844\"/>\n     </g>\n    </g>\n   </g>\n   <g id=\"matplotlib.axis_2\">\n    <g id=\"ytick_1\">\n     <g id=\"line2d_89\">\n      <defs>\n       <path id=\"m16eba03a6d\" d=\"M 0 0 \nL 6 0 \n\" style=\"stroke: #000000; stroke-width: 0.8\"/>\n      </defs>\n      <g>\n       <use xlink:href=\"#m16eba03a6d\" x=\"38.7875\" y=\"258.475703\" style=\"stroke: #000000; stroke-width: 0.8\"/>\n      </g>\n     </g>\n     <g id=\"line2d_90\">\n      <defs>\n       <path id=\"mae255cef88\" d=\"M 0 0 \nL -6 0 \n\" style=\"stroke: #000000; stroke-width: 0.8\"/>\n      </defs>\n      <g>\n       <use xlink:href=\"#mae255cef88\" x=\"482.94125\" y=\"258.475703\" style=\"stroke: #000000; stroke-width: 0.8\"/>\n      </g>\n     </g>\n     <g id=\"text_11\">\n      <!-- 30 -->\n      <g transform=\"translate(22.5625 262.274922)scale(0.1 -0.1)\">\n       <use xlink:href=\"#DejaVuSans-33\"/>\n       <use xlink:href=\"#DejaVuSans-30\" x=\"63.623047\"/>\n      </g>\n     </g>\n    </g>\n    <g id=\"ytick_2\">\n     <g id=\"line2d_91\">\n      <g>\n       <use xlink:href=\"#m16eba03a6d\" x=\"38.7875\" y=\"191.308998\" style=\"stroke: #000000; stroke-width: 0.8\"/>\n      </g>\n     </g>\n     <g id=\"line2d_92\">\n      <g>\n       <use xlink:href=\"#mae255cef88\" x=\"482.94125\" y=\"191.308998\" style=\"stroke: #000000; stroke-width: 0.8\"/>\n      </g>\n     </g>\n     <g id=\"text_12\">\n      <!-- 35 -->\n      <g transform=\"translate(22.5625 195.108217)scale(0.1 -0.1)\">\n       <use xlink:href=\"#DejaVuSans-33\"/>\n       <use xlink:href=\"#DejaVuSans-35\" x=\"63.623047\"/>\n      </g>\n     </g>\n    </g>\n    <g id=\"ytick_3\">\n     <g id=\"line2d_93\">\n      <g>\n       <use xlink:href=\"#m16eba03a6d\" x=\"38.7875\" y=\"124.142293\" style=\"stroke: #000000; stroke-width: 0.8\"/>\n      </g>\n     </g>\n     <g id=\"line2d_94\">\n      <g>\n       <use xlink:href=\"#mae255cef88\" x=\"482.94125\" y=\"124.142293\" style=\"stroke: #000000; stroke-width: 0.8\"/>\n      </g>\n     </g>\n     <g id=\"text_13\">\n      <!-- 40 -->\n      <g transform=\"translate(22.5625 127.941512)scale(0.1 -0.1)\">\n       <use xlink:href=\"#DejaVuSans-34\"/>\n       <use xlink:href=\"#DejaVuSans-30\" x=\"63.623047\"/>\n      </g>\n     </g>\n    </g>\n    <g id=\"ytick_4\">\n     <g id=\"line2d_95\">\n      <g>\n       <use xlink:href=\"#m16eba03a6d\" x=\"38.7875\" y=\"56.975588\" style=\"stroke: #000000; stroke-width: 0.8\"/>\n      </g>\n     </g>\n     <g id=\"line2d_96\">\n      <g>\n       <use xlink:href=\"#mae255cef88\" x=\"482.94125\" y=\"56.975588\" style=\"stroke: #000000; stroke-width: 0.8\"/>\n      </g>\n     </g>\n     <g id=\"text_14\">\n      <!-- 45 -->\n      <g transform=\"translate(22.5625 60.774807)scale(0.1 -0.1)\">\n       <use xlink:href=\"#DejaVuSans-34\"/>\n       <use xlink:href=\"#DejaVuSans-35\" x=\"63.623047\"/>\n      </g>\n     </g>\n    </g>\n    <g id=\"ytick_5\">\n     <g id=\"line2d_97\">\n      <defs>\n       <path id=\"m95871f8a9f\" d=\"M 0 0 \nL 3 0 \n\" style=\"stroke: #000000; stroke-width: 0.6\"/>\n      </defs>\n      <g>\n       <use xlink:href=\"#m95871f8a9f\" x=\"38.7875\" y=\"298.775726\" style=\"stroke: #000000; stroke-width: 0.6\"/>\n      </g>\n     </g>\n     <g id=\"line2d_98\">\n      <defs>\n       <path id=\"mfff813a0f1\" d=\"M 0 0 \nL -3 0 \n\" style=\"stroke: #000000; stroke-width: 0.6\"/>\n      </defs>\n      <g>\n       <use xlink:href=\"#mfff813a0f1\" x=\"482.94125\" y=\"298.775726\" style=\"stroke: #000000; stroke-width: 0.6\"/>\n      </g>\n     </g>\n    </g>\n    <g id=\"ytick_6\">\n     <g id=\"line2d_99\">\n      <g>\n       <use xlink:href=\"#m95871f8a9f\" x=\"38.7875\" y=\"285.342385\" style=\"stroke: #000000; stroke-width: 0.6\"/>\n      </g>\n     </g>\n     <g id=\"line2d_100\">\n      <g>\n       <use xlink:href=\"#mfff813a0f1\" x=\"482.94125\" y=\"285.342385\" style=\"stroke: #000000; stroke-width: 0.6\"/>\n      </g>\n     </g>\n    </g>\n    <g id=\"ytick_7\">\n     <g id=\"line2d_101\">\n      <g>\n       <use xlink:href=\"#m95871f8a9f\" x=\"38.7875\" y=\"271.909044\" style=\"stroke: #000000; stroke-width: 0.6\"/>\n      </g>\n     </g>\n     <g id=\"line2d_102\">\n      <g>\n       <use xlink:href=\"#mfff813a0f1\" x=\"482.94125\" y=\"271.909044\" style=\"stroke: #000000; stroke-width: 0.6\"/>\n      </g>\n     </g>\n    </g>\n    <g id=\"ytick_8\">\n     <g id=\"line2d_103\">\n      <g>\n       <use xlink:href=\"#m95871f8a9f\" x=\"38.7875\" y=\"245.042362\" style=\"stroke: #000000; stroke-width: 0.6\"/>\n      </g>\n     </g>\n     <g id=\"line2d_104\">\n      <g>\n       <use xlink:href=\"#mfff813a0f1\" x=\"482.94125\" y=\"245.042362\" style=\"stroke: #000000; stroke-width: 0.6\"/>\n      </g>\n     </g>\n    </g>\n    <g id=\"ytick_9\">\n     <g id=\"line2d_105\">\n      <g>\n       <use xlink:href=\"#m95871f8a9f\" x=\"38.7875\" y=\"231.609021\" style=\"stroke: #000000; stroke-width: 0.6\"/>\n      </g>\n     </g>\n     <g id=\"line2d_106\">\n      <g>\n       <use xlink:href=\"#mfff813a0f1\" x=\"482.94125\" y=\"231.609021\" style=\"stroke: #000000; stroke-width: 0.6\"/>\n      </g>\n     </g>\n    </g>\n    <g id=\"ytick_10\">\n     <g id=\"line2d_107\">\n      <g>\n       <use xlink:href=\"#m95871f8a9f\" x=\"38.7875\" y=\"218.17568\" style=\"stroke: #000000; stroke-width: 0.6\"/>\n      </g>\n     </g>\n     <g id=\"line2d_108\">\n      <g>\n       <use xlink:href=\"#mfff813a0f1\" x=\"482.94125\" y=\"218.17568\" style=\"stroke: #000000; stroke-width: 0.6\"/>\n      </g>\n     </g>\n    </g>\n    <g id=\"ytick_11\">\n     <g id=\"line2d_109\">\n      <g>\n       <use xlink:href=\"#m95871f8a9f\" x=\"38.7875\" y=\"204.742339\" style=\"stroke: #000000; stroke-width: 0.6\"/>\n      </g>\n     </g>\n     <g id=\"line2d_110\">\n      <g>\n       <use xlink:href=\"#mfff813a0f1\" x=\"482.94125\" y=\"204.742339\" style=\"stroke: #000000; stroke-width: 0.6\"/>\n      </g>\n     </g>\n    </g>\n    <g id=\"ytick_12\">\n     <g id=\"line2d_111\">\n      <g>\n       <use xlink:href=\"#m95871f8a9f\" x=\"38.7875\" y=\"177.875657\" style=\"stroke: #000000; stroke-width: 0.6\"/>\n      </g>\n     </g>\n     <g id=\"line2d_112\">\n      <g>\n       <use xlink:href=\"#mfff813a0f1\" x=\"482.94125\" y=\"177.875657\" style=\"stroke: #000000; stroke-width: 0.6\"/>\n      </g>\n     </g>\n    </g>\n    <g id=\"ytick_13\">\n     <g id=\"line2d_113\">\n      <g>\n       <use xlink:href=\"#m95871f8a9f\" x=\"38.7875\" y=\"164.442316\" style=\"stroke: #000000; stroke-width: 0.6\"/>\n      </g>\n     </g>\n     <g id=\"line2d_114\">\n      <g>\n       <use xlink:href=\"#mfff813a0f1\" x=\"482.94125\" y=\"164.442316\" style=\"stroke: #000000; stroke-width: 0.6\"/>\n      </g>\n     </g>\n    </g>\n    <g id=\"ytick_14\">\n     <g id=\"line2d_115\">\n      <g>\n       <use xlink:href=\"#m95871f8a9f\" x=\"38.7875\" y=\"151.008975\" style=\"stroke: #000000; stroke-width: 0.6\"/>\n      </g>\n     </g>\n     <g id=\"line2d_116\">\n      <g>\n       <use xlink:href=\"#mfff813a0f1\" x=\"482.94125\" y=\"151.008975\" style=\"stroke: #000000; stroke-width: 0.6\"/>\n      </g>\n     </g>\n    </g>\n    <g id=\"ytick_15\">\n     <g id=\"line2d_117\">\n      <g>\n       <use xlink:href=\"#m95871f8a9f\" x=\"38.7875\" y=\"137.575634\" style=\"stroke: #000000; stroke-width: 0.6\"/>\n      </g>\n     </g>\n     <g id=\"line2d_118\">\n      <g>\n       <use xlink:href=\"#mfff813a0f1\" x=\"482.94125\" y=\"137.575634\" style=\"stroke: #000000; stroke-width: 0.6\"/>\n      </g>\n     </g>\n    </g>\n    <g id=\"ytick_16\">\n     <g id=\"line2d_119\">\n      <g>\n       <use xlink:href=\"#m95871f8a9f\" x=\"38.7875\" y=\"110.708952\" style=\"stroke: #000000; stroke-width: 0.6\"/>\n      </g>\n     </g>\n     <g id=\"line2d_120\">\n      <g>\n       <use xlink:href=\"#mfff813a0f1\" x=\"482.94125\" y=\"110.708952\" style=\"stroke: #000000; stroke-width: 0.6\"/>\n      </g>\n     </g>\n    </g>\n    <g id=\"ytick_17\">\n     <g id=\"line2d_121\">\n      <g>\n       <use xlink:href=\"#m95871f8a9f\" x=\"38.7875\" y=\"97.275611\" style=\"stroke: #000000; stroke-width: 0.6\"/>\n      </g>\n     </g>\n     <g id=\"line2d_122\">\n      <g>\n       <use xlink:href=\"#mfff813a0f1\" x=\"482.94125\" y=\"97.275611\" style=\"stroke: #000000; stroke-width: 0.6\"/>\n      </g>\n     </g>\n    </g>\n    <g id=\"ytick_18\">\n     <g id=\"line2d_123\">\n      <g>\n       <use xlink:href=\"#m95871f8a9f\" x=\"38.7875\" y=\"83.84227\" style=\"stroke: #000000; stroke-width: 0.6\"/>\n      </g>\n     </g>\n     <g id=\"line2d_124\">\n      <g>\n       <use xlink:href=\"#mfff813a0f1\" x=\"482.94125\" y=\"83.84227\" style=\"stroke: #000000; stroke-width: 0.6\"/>\n      </g>\n     </g>\n    </g>\n    <g id=\"ytick_19\">\n     <g id=\"line2d_125\">\n      <g>\n       <use xlink:href=\"#m95871f8a9f\" x=\"38.7875\" y=\"70.408929\" style=\"stroke: #000000; stroke-width: 0.6\"/>\n      </g>\n     </g>\n     <g id=\"line2d_126\">\n      <g>\n       <use xlink:href=\"#mfff813a0f1\" x=\"482.94125\" y=\"70.408929\" style=\"stroke: #000000; stroke-width: 0.6\"/>\n      </g>\n     </g>\n    </g>\n    <g id=\"ytick_20\">\n     <g id=\"line2d_127\">\n      <g>\n       <use xlink:href=\"#m95871f8a9f\" x=\"38.7875\" y=\"43.542247\" style=\"stroke: #000000; stroke-width: 0.6\"/>\n      </g>\n     </g>\n     <g id=\"line2d_128\">\n      <g>\n       <use xlink:href=\"#mfff813a0f1\" x=\"482.94125\" y=\"43.542247\" style=\"stroke: #000000; stroke-width: 0.6\"/>\n      </g>\n     </g>\n    </g>\n    <g id=\"ytick_21\">\n     <g id=\"line2d_129\">\n      <g>\n       <use xlink:href=\"#m95871f8a9f\" x=\"38.7875\" y=\"30.108906\" style=\"stroke: #000000; stroke-width: 0.6\"/>\n      </g>\n     </g>\n     <g id=\"line2d_130\">\n      <g>\n       <use xlink:href=\"#mfff813a0f1\" x=\"482.94125\" y=\"30.108906\" style=\"stroke: #000000; stroke-width: 0.6\"/>\n      </g>\n     </g>\n    </g>\n    <g id=\"ytick_22\">\n     <g id=\"line2d_131\">\n      <g>\n       <use xlink:href=\"#m95871f8a9f\" x=\"38.7875\" y=\"16.675565\" style=\"stroke: #000000; stroke-width: 0.6\"/>\n      </g>\n     </g>\n     <g id=\"line2d_132\">\n      <g>\n       <use xlink:href=\"#mfff813a0f1\" x=\"482.94125\" y=\"16.675565\" style=\"stroke: #000000; stroke-width: 0.6\"/>\n      </g>\n     </g>\n    </g>\n    <g id=\"text_15\">\n     <!-- Eq. width, mÅ -->\n     <g transform=\"translate(16.482813 194.091719)rotate(-90)scale(0.1 -0.1)\">\n      <defs>\n       <path id=\"DejaVuSans-45\" d=\"M 628 4666 \nL 3578 4666 \nL 3578 4134 \nL 1259 4134 \nL 1259 2753 \nL 3481 2753 \nL 3481 2222 \nL 1259 2222 \nL 1259 531 \nL 3634 531 \nL 3634 0 \nL 628 0 \nL 628 4666 \nz\n\" transform=\"scale(0.015625)\"/>\n       <path id=\"DejaVuSans-71\" d=\"M 947 1747 \nQ 947 1113 1208 752 \nQ 1469 391 1925 391 \nQ 2381 391 2643 752 \nQ 2906 1113 2906 1747 \nQ 2906 2381 2643 2742 \nQ 2381 3103 1925 3103 \nQ 1469 3103 1208 2742 \nQ 947 2381 947 1747 \nz\nM 2906 525 \nQ 2725 213 2448 61 \nQ 2172 -91 1784 -91 \nQ 1150 -91 751 415 \nQ 353 922 353 1747 \nQ 353 2572 751 3078 \nQ 1150 3584 1784 3584 \nQ 2172 3584 2448 3432 \nQ 2725 3281 2906 2969 \nL 2906 3500 \nL 3481 3500 \nL 3481 -1331 \nL 2906 -1331 \nL 2906 525 \nz\n\" transform=\"scale(0.015625)\"/>\n       <path id=\"DejaVuSans-77\" d=\"M 269 3500 \nL 844 3500 \nL 1563 769 \nL 2278 3500 \nL 2956 3500 \nL 3675 769 \nL 4391 3500 \nL 4966 3500 \nL 4050 0 \nL 3372 0 \nL 2619 2869 \nL 1863 0 \nL 1184 0 \nL 269 3500 \nz\n\" transform=\"scale(0.015625)\"/>\n       <path id=\"DejaVuSans-69\" d=\"M 603 3500 \nL 1178 3500 \nL 1178 0 \nL 603 0 \nL 603 3500 \nz\nM 603 4863 \nL 1178 4863 \nL 1178 4134 \nL 603 4134 \nL 603 4863 \nz\n\" transform=\"scale(0.015625)\"/>\n       <path id=\"DejaVuSans-74\" d=\"M 1172 4494 \nL 1172 3500 \nL 2356 3500 \nL 2356 3053 \nL 1172 3053 \nL 1172 1153 \nQ 1172 725 1289 603 \nQ 1406 481 1766 481 \nL 2356 481 \nL 2356 0 \nL 1766 0 \nQ 1100 0 847 248 \nQ 594 497 594 1153 \nL 594 3053 \nL 172 3053 \nL 172 3500 \nL 594 3500 \nL 594 4494 \nL 1172 4494 \nz\n\" transform=\"scale(0.015625)\"/>\n       <path id=\"DejaVuSans-68\" d=\"M 3513 2113 \nL 3513 0 \nL 2938 0 \nL 2938 2094 \nQ 2938 2591 2744 2837 \nQ 2550 3084 2163 3084 \nQ 1697 3084 1428 2787 \nQ 1159 2491 1159 1978 \nL 1159 0 \nL 581 0 \nL 581 4863 \nL 1159 4863 \nL 1159 2956 \nQ 1366 3272 1645 3428 \nQ 1925 3584 2291 3584 \nQ 2894 3584 3203 3211 \nQ 3513 2838 3513 2113 \nz\n\" transform=\"scale(0.015625)\"/>\n       <path id=\"DejaVuSans-6d\" d=\"M 3328 2828 \nQ 3544 3216 3844 3400 \nQ 4144 3584 4550 3584 \nQ 5097 3584 5394 3201 \nQ 5691 2819 5691 2113 \nL 5691 0 \nL 5113 0 \nL 5113 2094 \nQ 5113 2597 4934 2840 \nQ 4756 3084 4391 3084 \nQ 3944 3084 3684 2787 \nQ 3425 2491 3425 1978 \nL 3425 0 \nL 2847 0 \nL 2847 2094 \nQ 2847 2600 2669 2842 \nQ 2491 3084 2119 3084 \nQ 1678 3084 1418 2786 \nQ 1159 2488 1159 1978 \nL 1159 0 \nL 581 0 \nL 581 3500 \nL 1159 3500 \nL 1159 2956 \nQ 1356 3278 1631 3431 \nQ 1906 3584 2284 3584 \nQ 2666 3584 2933 3390 \nQ 3200 3197 3328 2828 \nz\n\" transform=\"scale(0.015625)\"/>\n       <path id=\"DejaVuSans-c5\" d=\"M 2663 5081 \nQ 2663 5278 2523 5417 \nQ 2384 5556 2188 5556 \nQ 1988 5556 1852 5420 \nQ 1716 5284 1716 5081 \nQ 1716 4884 1853 4746 \nQ 1991 4609 2188 4609 \nQ 2384 4609 2523 4746 \nQ 2663 4884 2663 5081 \nz\nM 2188 4044 \nL 1338 1722 \nL 3041 1722 \nL 2188 4044 \nz\nM 1716 4366 \nQ 1525 4494 1428 4673 \nQ 1331 4853 1331 5081 \nQ 1331 5441 1579 5691 \nQ 1828 5941 2188 5941 \nQ 2544 5941 2795 5689 \nQ 3047 5438 3047 5081 \nQ 3047 4863 2948 4678 \nQ 2850 4494 2663 4366 \nL 4325 0 \nL 3669 0 \nL 3244 1197 \nL 1141 1197 \nL 716 0 \nL 50 0 \nL 1716 4366 \nz\n\" transform=\"scale(0.015625)\"/>\n      </defs>\n      <use xlink:href=\"#DejaVuSans-45\"/>\n      <use xlink:href=\"#DejaVuSans-71\" x=\"63.183594\"/>\n      <use xlink:href=\"#DejaVuSans-2e\" x=\"126.660156\"/>\n      <use xlink:href=\"#DejaVuSans-20\" x=\"158.447266\"/>\n      <use xlink:href=\"#DejaVuSans-77\" x=\"190.234375\"/>\n      <use xlink:href=\"#DejaVuSans-69\" x=\"272.021484\"/>\n      <use xlink:href=\"#DejaVuSans-64\" x=\"299.804688\"/>\n      <use xlink:href=\"#DejaVuSans-74\" x=\"363.28125\"/>\n      <use xlink:href=\"#DejaVuSans-68\" x=\"402.490234\"/>\n      <use xlink:href=\"#DejaVuSans-2c\" x=\"465.869141\"/>\n      <use xlink:href=\"#DejaVuSans-20\" x=\"497.65625\"/>\n      <use xlink:href=\"#DejaVuSans-6d\" x=\"529.443359\"/>\n      <use xlink:href=\"#DejaVuSans-c5\" x=\"626.855469\"/>\n     </g>\n    </g>\n   </g>\n   <g id=\"line2d_133\">\n    <path d=\"M 58.976307 297.63 \nL 109.448023 266.740479 \nL 159.920221 234.471529 \nL 210.392418 200.961759 \nL 260.864134 166.373172 \nL 311.336332 130.886714 \nL 361.808048 94.698839 \nL 412.280246 58.014632 \nL 462.752443 21.03 \n\" clip-path=\"url(#pa332413fb6)\" style=\"fill: none; stroke-dasharray: 5.55,2.4; stroke-dashoffset: 0; stroke: #a9a9a9; stroke-width: 1.5\"/>\n    <defs>\n     <path id=\"me9a347ee87\" d=\"M 0 3 \nC 0.795609 3 1.55874 2.683901 2.12132 2.12132 \nC 2.683901 1.55874 3 0.795609 3 0 \nC 3 -0.795609 2.683901 -1.55874 2.12132 -2.12132 \nC 1.55874 -2.683901 0.795609 -3 0 -3 \nC -0.795609 -3 -1.55874 -2.683901 -2.12132 -2.12132 \nC -2.683901 -1.55874 -3 -0.795609 -3 0 \nC -3 0.795609 -2.683901 1.55874 -2.12132 2.12132 \nC -1.55874 2.683901 -0.795609 3 0 3 \nz\n\" style=\"stroke: #a9a9a9\"/>\n    </defs>\n    <g clip-path=\"url(#pa332413fb6)\">\n     <use xlink:href=\"#me9a347ee87\" x=\"58.976307\" y=\"297.63\" style=\"fill: #a9a9a9; stroke: #a9a9a9\"/>\n     <use xlink:href=\"#me9a347ee87\" x=\"109.448023\" y=\"266.740479\" style=\"fill: #a9a9a9; stroke: #a9a9a9\"/>\n     <use xlink:href=\"#me9a347ee87\" x=\"159.920221\" y=\"234.471529\" style=\"fill: #a9a9a9; stroke: #a9a9a9\"/>\n     <use xlink:href=\"#me9a347ee87\" x=\"210.392418\" y=\"200.961759\" style=\"fill: #a9a9a9; stroke: #a9a9a9\"/>\n     <use xlink:href=\"#me9a347ee87\" x=\"260.864134\" y=\"166.373172\" style=\"fill: #a9a9a9; stroke: #a9a9a9\"/>\n     <use xlink:href=\"#me9a347ee87\" x=\"311.336332\" y=\"130.886714\" style=\"fill: #a9a9a9; stroke: #a9a9a9\"/>\n     <use xlink:href=\"#me9a347ee87\" x=\"361.808048\" y=\"94.698839\" style=\"fill: #a9a9a9; stroke: #a9a9a9\"/>\n     <use xlink:href=\"#me9a347ee87\" x=\"412.280246\" y=\"58.014632\" style=\"fill: #a9a9a9; stroke: #a9a9a9\"/>\n     <use xlink:href=\"#me9a347ee87\" x=\"462.752443\" y=\"21.03\" style=\"fill: #a9a9a9; stroke: #a9a9a9\"/>\n    </g>\n   </g>\n   <g id=\"line2d_134\">\n    <defs>\n     <path id=\"md96213b0e4\" d=\"M -3 3 \nL 3 -3 \nM -3 -3 \nL 3 3 \n\" style=\"stroke: #ff0000\"/>\n    </defs>\n    <g clip-path=\"url(#pa332413fb6)\">\n     <use xlink:href=\"#md96213b0e4\" x=\"260.864192\" y=\"197.672588\" style=\"fill: #ff0000; stroke: #ff0000\"/>\n    </g>\n   </g>\n   <g id=\"patch_3\">\n    <path d=\"M 38.7875 311.46 \nL 38.7875 7.2 \n\" style=\"fill: none; stroke: #000000; stroke-width: 2; stroke-linejoin: miter; stroke-linecap: square\"/>\n   </g>\n   <g id=\"patch_4\">\n    <path d=\"M 482.94125 311.46 \nL 482.94125 7.2 \n\" style=\"fill: none; stroke: #000000; stroke-width: 2; stroke-linejoin: miter; stroke-linecap: square\"/>\n   </g>\n   <g id=\"patch_5\">\n    <path d=\"M 38.7875 311.46 \nL 482.94125 311.46 \n\" style=\"fill: none; stroke: #000000; stroke-width: 2; stroke-linejoin: miter; stroke-linecap: square\"/>\n   </g>\n   <g id=\"patch_6\">\n    <path d=\"M 38.7875 7.2 \nL 482.94125 7.2 \n\" style=\"fill: none; stroke: #000000; stroke-width: 2; stroke-linejoin: miter; stroke-linecap: square\"/>\n   </g>\n   <g id=\"text_16\">\n    <!-- 3D non-LTE Abund. diff.:     0.045 -->\n    <g transform=\"translate(145.3844 273.472562)scale(0.1 -0.1)\">\n     <defs>\n      <path id=\"DejaVuSansMono-33\" d=\"M 2425 2497 \nQ 2884 2375 3128 2064 \nQ 3372 1753 3372 1288 \nQ 3372 644 2939 276 \nQ 2506 -91 1741 -91 \nQ 1419 -91 1084 -31 \nQ 750 28 428 141 \nL 428 769 \nQ 747 603 1056 522 \nQ 1366 441 1672 441 \nQ 2191 441 2469 675 \nQ 2747 909 2747 1350 \nQ 2747 1756 2469 1995 \nQ 2191 2234 1716 2234 \nL 1234 2234 \nL 1234 2753 \nL 1716 2753 \nQ 2150 2753 2394 2943 \nQ 2638 3134 2638 3475 \nQ 2638 3834 2411 4026 \nQ 2184 4219 1766 4219 \nQ 1488 4219 1191 4156 \nQ 894 4094 569 3969 \nL 569 4550 \nQ 947 4650 1242 4700 \nQ 1538 4750 1766 4750 \nQ 2447 4750 2855 4408 \nQ 3263 4066 3263 3500 \nQ 3263 3116 3048 2859 \nQ 2834 2603 2425 2497 \nz\n\" transform=\"scale(0.015625)\"/>\n      <path id=\"DejaVuSansMono-44\" d=\"M 1363 519 \nQ 2159 519 2475 911 \nQ 2791 1303 2791 2328 \nQ 2791 3363 2477 3755 \nQ 2163 4147 1363 4147 \nL 1063 4147 \nL 1063 519 \nL 1363 519 \nz\nM 1375 4666 \nQ 2444 4666 2950 4097 \nQ 3456 3528 3456 2328 \nQ 3456 1134 2950 567 \nQ 2444 0 1375 0 \nL 428 0 \nL 428 4666 \nL 1375 4666 \nz\n\" transform=\"scale(0.015625)\"/>\n      <path id=\"DejaVuSansMono-20\" transform=\"scale(0.015625)\"/>\n      <path id=\"DejaVuSansMono-6e\" d=\"M 3284 2169 \nL 3284 0 \nL 2706 0 \nL 2706 2169 \nQ 2706 2641 2540 2862 \nQ 2375 3084 2022 3084 \nQ 1619 3084 1401 2798 \nQ 1184 2513 1184 1978 \nL 1184 0 \nL 609 0 \nL 609 3500 \nL 1184 3500 \nL 1184 2975 \nQ 1338 3275 1600 3429 \nQ 1863 3584 2222 3584 \nQ 2756 3584 3020 3232 \nQ 3284 2881 3284 2169 \nz\n\" transform=\"scale(0.015625)\"/>\n      <path id=\"DejaVuSansMono-6f\" d=\"M 1925 3097 \nQ 1488 3097 1263 2756 \nQ 1038 2416 1038 1747 \nQ 1038 1081 1263 739 \nQ 1488 397 1925 397 \nQ 2366 397 2591 739 \nQ 2816 1081 2816 1747 \nQ 2816 2416 2591 2756 \nQ 2366 3097 1925 3097 \nz\nM 1925 3584 \nQ 2653 3584 3039 3112 \nQ 3425 2641 3425 1747 \nQ 3425 850 3040 379 \nQ 2656 -91 1925 -91 \nQ 1197 -91 812 379 \nQ 428 850 428 1747 \nQ 428 2641 812 3112 \nQ 1197 3584 1925 3584 \nz\n\" transform=\"scale(0.015625)\"/>\n      <path id=\"DejaVuSansMono-2d\" d=\"M 1113 2009 \nL 2741 2009 \nL 2741 1497 \nL 1113 1497 \nL 1113 2009 \nz\n\" transform=\"scale(0.015625)\"/>\n      <path id=\"DejaVuSansMono-4c\" d=\"M 672 4666 \nL 1306 4666 \nL 1306 531 \nL 3559 531 \nL 3559 0 \nL 672 0 \nL 672 4666 \nz\n\" transform=\"scale(0.015625)\"/>\n      <path id=\"DejaVuSansMono-54\" d=\"M 147 4666 \nL 3706 4666 \nL 3706 4134 \nL 2247 4134 \nL 2247 0 \nL 1613 0 \nL 1613 4134 \nL 147 4134 \nL 147 4666 \nz\n\" transform=\"scale(0.015625)\"/>\n      <path id=\"DejaVuSansMono-45\" d=\"M 616 4666 \nL 3384 4666 \nL 3384 4134 \nL 1247 4134 \nL 1247 2753 \nL 3291 2753 \nL 3291 2222 \nL 1247 2222 \nL 1247 531 \nL 3444 531 \nL 3444 0 \nL 616 0 \nL 616 4666 \nz\n\" transform=\"scale(0.015625)\"/>\n      <path id=\"DejaVuSansMono-41\" d=\"M 1925 4109 \nL 1259 1722 \nL 2591 1722 \nL 1925 4109 \nz\nM 1544 4666 \nL 2309 4666 \nL 3738 0 \nL 3084 0 \nL 2741 1216 \nL 1106 1216 \nL 769 0 \nL 116 0 \nL 1544 4666 \nz\n\" transform=\"scale(0.015625)\"/>\n      <path id=\"DejaVuSansMono-62\" d=\"M 2869 1747 \nQ 2869 2416 2656 2756 \nQ 2444 3097 2028 3097 \nQ 1609 3097 1393 2755 \nQ 1178 2413 1178 1747 \nQ 1178 1084 1393 740 \nQ 1609 397 2028 397 \nQ 2444 397 2656 737 \nQ 2869 1078 2869 1747 \nz\nM 1178 3053 \nQ 1316 3309 1558 3446 \nQ 1800 3584 2119 3584 \nQ 2750 3584 3112 3098 \nQ 3475 2613 3475 1759 \nQ 3475 894 3111 401 \nQ 2747 -91 2113 -91 \nQ 1800 -91 1561 45 \nQ 1322 181 1178 441 \nL 1178 0 \nL 603 0 \nL 603 4863 \nL 1178 4863 \nL 1178 3053 \nz\n\" transform=\"scale(0.015625)\"/>\n      <path id=\"DejaVuSansMono-75\" d=\"M 609 1325 \nL 609 3494 \nL 1184 3494 \nL 1184 1325 \nQ 1184 853 1351 631 \nQ 1519 409 1869 409 \nQ 2275 409 2490 695 \nQ 2706 981 2706 1516 \nL 2706 3494 \nL 3284 3494 \nL 3284 0 \nL 2706 0 \nL 2706 525 \nQ 2553 222 2289 65 \nQ 2025 -91 1672 -91 \nQ 1134 -91 871 261 \nQ 609 613 609 1325 \nz\n\" transform=\"scale(0.015625)\"/>\n      <path id=\"DejaVuSansMono-64\" d=\"M 2681 3053 \nL 2681 4863 \nL 3256 4863 \nL 3256 0 \nL 2681 0 \nL 2681 441 \nQ 2538 181 2298 45 \nQ 2059 -91 1747 -91 \nQ 1113 -91 748 401 \nQ 384 894 384 1759 \nQ 384 2613 750 3098 \nQ 1116 3584 1747 3584 \nQ 2063 3584 2303 3448 \nQ 2544 3313 2681 3053 \nz\nM 991 1747 \nQ 991 1078 1203 737 \nQ 1416 397 1831 397 \nQ 2247 397 2464 740 \nQ 2681 1084 2681 1747 \nQ 2681 2413 2464 2755 \nQ 2247 3097 1831 3097 \nQ 1416 3097 1203 2756 \nQ 991 2416 991 1747 \nz\n\" transform=\"scale(0.015625)\"/>\n      <path id=\"DejaVuSansMono-2e\" d=\"M 1528 953 \nL 2316 953 \nL 2316 0 \nL 1528 0 \nL 1528 953 \nz\n\" transform=\"scale(0.015625)\"/>\n      <path id=\"DejaVuSansMono-69\" d=\"M 800 3500 \nL 2272 3500 \nL 2272 447 \nL 3413 447 \nL 3413 0 \nL 556 0 \nL 556 447 \nL 1697 447 \nL 1697 3053 \nL 800 3053 \nL 800 3500 \nz\nM 1697 4863 \nL 2272 4863 \nL 2272 4134 \nL 1697 4134 \nL 1697 4863 \nz\n\" transform=\"scale(0.015625)\"/>\n      <path id=\"DejaVuSansMono-66\" d=\"M 3322 4863 \nL 3322 4384 \nL 2669 4384 \nQ 2359 4384 2239 4257 \nQ 2119 4131 2119 3809 \nL 2119 3500 \nL 3322 3500 \nL 3322 3053 \nL 2119 3053 \nL 2119 0 \nL 1544 0 \nL 1544 3053 \nL 609 3053 \nL 609 3500 \nL 1544 3500 \nL 1544 3744 \nQ 1544 4319 1808 4591 \nQ 2072 4863 2631 4863 \nL 3322 4863 \nz\n\" transform=\"scale(0.015625)\"/>\n      <path id=\"DejaVuSansMono-3a\" d=\"M 1528 3322 \nL 2316 3322 \nL 2316 2375 \nL 1528 2375 \nL 1528 3322 \nz\nM 1528 953 \nL 2316 953 \nL 2316 0 \nL 1528 0 \nL 1528 953 \nz\n\" transform=\"scale(0.015625)\"/>\n      <path id=\"DejaVuSansMono-30\" d=\"M 1509 2344 \nQ 1509 2516 1629 2641 \nQ 1750 2766 1919 2766 \nQ 2094 2766 2219 2641 \nQ 2344 2516 2344 2344 \nQ 2344 2169 2220 2047 \nQ 2097 1925 1919 1925 \nQ 1744 1925 1626 2044 \nQ 1509 2163 1509 2344 \nz\nM 1925 4250 \nQ 1484 4250 1267 3775 \nQ 1050 3300 1050 2328 \nQ 1050 1359 1267 884 \nQ 1484 409 1925 409 \nQ 2369 409 2586 884 \nQ 2803 1359 2803 2328 \nQ 2803 3300 2586 3775 \nQ 2369 4250 1925 4250 \nz\nM 1925 4750 \nQ 2672 4750 3055 4137 \nQ 3438 3525 3438 2328 \nQ 3438 1134 3055 521 \nQ 2672 -91 1925 -91 \nQ 1178 -91 797 521 \nQ 416 1134 416 2328 \nQ 416 3525 797 4137 \nQ 1178 4750 1925 4750 \nz\n\" transform=\"scale(0.015625)\"/>\n      <path id=\"DejaVuSansMono-34\" d=\"M 2297 4091 \nL 825 1625 \nL 2297 1625 \nL 2297 4091 \nz\nM 2194 4666 \nL 2925 4666 \nL 2925 1625 \nL 3547 1625 \nL 3547 1113 \nL 2925 1113 \nL 2925 0 \nL 2297 0 \nL 2297 1113 \nL 319 1113 \nL 319 1709 \nL 2194 4666 \nz\n\" transform=\"scale(0.015625)\"/>\n      <path id=\"DejaVuSansMono-35\" d=\"M 647 4666 \nL 3009 4666 \nL 3009 4134 \nL 1222 4134 \nL 1222 2988 \nQ 1356 3038 1492 3061 \nQ 1628 3084 1766 3084 \nQ 2491 3084 2916 2656 \nQ 3341 2228 3341 1497 \nQ 3341 759 2895 334 \nQ 2450 -91 1678 -91 \nQ 1306 -91 998 -41 \nQ 691 9 447 109 \nL 447 750 \nQ 734 594 1025 517 \nQ 1316 441 1619 441 \nQ 2141 441 2423 716 \nQ 2706 991 2706 1497 \nQ 2706 1997 2414 2275 \nQ 2122 2553 1600 2553 \nQ 1347 2553 1106 2495 \nQ 866 2438 647 2322 \nL 647 4666 \nz\n\" transform=\"scale(0.015625)\"/>\n     </defs>\n     <use xlink:href=\"#DejaVuSansMono-33\"/>\n     <use xlink:href=\"#DejaVuSansMono-44\" x=\"60.205078\"/>\n     <use xlink:href=\"#DejaVuSansMono-20\" x=\"120.410156\"/>\n     <use xlink:href=\"#DejaVuSansMono-6e\" x=\"180.615234\"/>\n     <use xlink:href=\"#DejaVuSansMono-6f\" x=\"240.820312\"/>\n     <use xlink:href=\"#DejaVuSansMono-6e\" x=\"301.025391\"/>\n     <use xlink:href=\"#DejaVuSansMono-2d\" x=\"361.230469\"/>\n     <use xlink:href=\"#DejaVuSansMono-4c\" x=\"421.435547\"/>\n     <use xlink:href=\"#DejaVuSansMono-54\" x=\"481.640625\"/>\n     <use xlink:href=\"#DejaVuSansMono-45\" x=\"541.845703\"/>\n     <use xlink:href=\"#DejaVuSansMono-20\" x=\"602.050781\"/>\n     <use xlink:href=\"#DejaVuSansMono-41\" x=\"662.255859\"/>\n     <use xlink:href=\"#DejaVuSansMono-62\" x=\"722.460938\"/>\n     <use xlink:href=\"#DejaVuSansMono-75\" x=\"782.666016\"/>\n     <use xlink:href=\"#DejaVuSansMono-6e\" x=\"842.871094\"/>\n     <use xlink:href=\"#DejaVuSansMono-64\" x=\"903.076172\"/>\n     <use xlink:href=\"#DejaVuSansMono-2e\" x=\"963.28125\"/>\n     <use xlink:href=\"#DejaVuSansMono-20\" x=\"1023.486328\"/>\n     <use xlink:href=\"#DejaVuSansMono-64\" x=\"1083.691406\"/>\n     <use xlink:href=\"#DejaVuSansMono-69\" x=\"1143.896484\"/>\n     <use xlink:href=\"#DejaVuSansMono-66\" x=\"1204.101562\"/>\n     <use xlink:href=\"#DejaVuSansMono-66\" x=\"1264.306641\"/>\n     <use xlink:href=\"#DejaVuSansMono-2e\" x=\"1324.511719\"/>\n     <use xlink:href=\"#DejaVuSansMono-3a\" x=\"1384.716797\"/>\n     <use xlink:href=\"#DejaVuSansMono-20\" x=\"1444.921875\"/>\n     <use xlink:href=\"#DejaVuSansMono-20\" x=\"1505.126953\"/>\n     <use xlink:href=\"#DejaVuSansMono-20\" x=\"1565.332031\"/>\n     <use xlink:href=\"#DejaVuSansMono-20\" x=\"1625.537109\"/>\n     <use xlink:href=\"#DejaVuSansMono-20\" x=\"1685.742188\"/>\n     <use xlink:href=\"#DejaVuSansMono-30\" x=\"1745.947266\"/>\n     <use xlink:href=\"#DejaVuSansMono-2e\" x=\"1806.152344\"/>\n     <use xlink:href=\"#DejaVuSansMono-30\" x=\"1866.357422\"/>\n     <use xlink:href=\"#DejaVuSansMono-34\" x=\"1926.5625\"/>\n     <use xlink:href=\"#DejaVuSansMono-35\" x=\"1986.767578\"/>\n    </g>\n   </g>\n   <g id=\"legend_1\">\n    <g id=\"line2d_135\">\n     <path d=\"M 59.5875 33.327969 \nL 72.5875 33.327969 \nL 85.5875 33.327969 \n\" style=\"fill: none; stroke-dasharray: 5.55,2.4; stroke-dashoffset: 0; stroke: #a9a9a9; stroke-width: 1.5\"/>\n     <g>\n      <use xlink:href=\"#me9a347ee87\" x=\"72.5875\" y=\"33.327969\" style=\"fill: #a9a9a9; stroke: #a9a9a9\"/>\n     </g>\n    </g>\n    <g id=\"text_17\">\n     <!-- 1D LTE -->\n     <g transform=\"translate(95.9875 37.877969)scale(0.13 -0.13)\">\n      <defs>\n       <path id=\"DejaVuSans-31\" d=\"M 794 531 \nL 1825 531 \nL 1825 4091 \nL 703 3866 \nL 703 4441 \nL 1819 4666 \nL 2450 4666 \nL 2450 531 \nL 3481 531 \nL 3481 0 \nL 794 0 \nL 794 531 \nz\n\" transform=\"scale(0.015625)\"/>\n       <path id=\"DejaVuSans-44\" d=\"M 1259 4147 \nL 1259 519 \nL 2022 519 \nQ 2988 519 3436 956 \nQ 3884 1394 3884 2338 \nQ 3884 3275 3436 3711 \nQ 2988 4147 2022 4147 \nL 1259 4147 \nz\nM 628 4666 \nL 1925 4666 \nQ 3281 4666 3915 4102 \nQ 4550 3538 4550 2338 \nQ 4550 1131 3912 565 \nQ 3275 0 1925 0 \nL 628 0 \nL 628 4666 \nz\n\" transform=\"scale(0.015625)\"/>\n       <path id=\"DejaVuSans-4c\" d=\"M 628 4666 \nL 1259 4666 \nL 1259 531 \nL 3531 531 \nL 3531 0 \nL 628 0 \nL 628 4666 \nz\n\" transform=\"scale(0.015625)\"/>\n       <path id=\"DejaVuSans-54\" d=\"M -19 4666 \nL 3928 4666 \nL 3928 4134 \nL 2272 4134 \nL 2272 0 \nL 1638 0 \nL 1638 4134 \nL -19 4134 \nL -19 4666 \nz\n\" transform=\"scale(0.015625)\"/>\n      </defs>\n      <use xlink:href=\"#DejaVuSans-31\"/>\n      <use xlink:href=\"#DejaVuSans-44\" x=\"63.623047\"/>\n      <use xlink:href=\"#DejaVuSans-20\" x=\"140.625\"/>\n      <use xlink:href=\"#DejaVuSans-4c\" x=\"172.412109\"/>\n      <use xlink:href=\"#DejaVuSans-54\" x=\"214.375\"/>\n      <use xlink:href=\"#DejaVuSans-45\" x=\"275.458984\"/>\n     </g>\n    </g>\n    <g id=\"line2d_136\">\n     <g>\n      <use xlink:href=\"#md96213b0e4\" x=\"72.5875\" y=\"52.409531\" style=\"fill: #ff0000; stroke: #ff0000\"/>\n     </g>\n    </g>\n    <g id=\"text_18\">\n     <!-- 3D NLTE -->\n     <g transform=\"translate(95.9875 56.959531)scale(0.13 -0.13)\">\n      <defs>\n       <path id=\"DejaVuSans-4e\" d=\"M 628 4666 \nL 1478 4666 \nL 3547 763 \nL 3547 4666 \nL 4159 4666 \nL 4159 0 \nL 3309 0 \nL 1241 3903 \nL 1241 0 \nL 628 0 \nL 628 4666 \nz\n\" transform=\"scale(0.015625)\"/>\n      </defs>\n      <use xlink:href=\"#DejaVuSans-33\"/>\n      <use xlink:href=\"#DejaVuSans-44\" x=\"63.623047\"/>\n      <use xlink:href=\"#DejaVuSans-20\" x=\"140.625\"/>\n      <use xlink:href=\"#DejaVuSans-4e\" x=\"172.412109\"/>\n      <use xlink:href=\"#DejaVuSans-4c\" x=\"247.216797\"/>\n      <use xlink:href=\"#DejaVuSans-54\" x=\"289.179688\"/>\n      <use xlink:href=\"#DejaVuSans-45\" x=\"350.263672\"/>\n     </g>\n    </g>\n   </g>\n  </g>\n </g>\n <defs>\n  <clipPath id=\"pa332413fb6\">\n   <rect x=\"38.7875\" y=\"7.2\" width=\"444.15375\" height=\"304.26\"/>\n  </clipPath>\n </defs>\n</svg>\n",
      "text/plain": [
       "<Figure size 700x500 with 1 Axes>"
      ]
     },
     "metadata": {},
     "output_type": "display_data"
    }
   ],
   "source": [
    "fig_ew, ax_ew = plt.subplots(1, figsize=(7,5))\n",
    "i=j=0    \n",
    "plt.rcParams.update({'font.size': 13})\n",
    "\n",
    "\n",
    "abundances = LTE1d_cog.abnds\n",
    "ax_ew.plot(LTE1d_cog.abnds, eqwidths_1dlte[i,j], '--o', label='1D LTE', color='darkgray')\n",
    "ax_ew.plot(NLTE3Drunobj.abnd, eqw_NLTE[i][j], 'rx', label='3D NLTE')\n",
    "# ax_ew.set_title(f'Si {m3d_centre_wavelengths[i]:.2f} Å, $\\mu = {sol_mus[j]:.1f}$')\n",
    "ax_ew.set_ylabel('Eq. width, mÅ')\n",
    "ax_ew.set_xlabel('Rel. abundance, dex')\n",
    "ax_text(0,0, ax_ew,  0.24, 0.15)\n",
    "\n",
    "# ax_ew[i,j].grid(which='both')\n",
    "\n",
    "ax_ew.legend()\n",
    "# fig_ew.suptitle(f'{NLTE3Drunfile}')\n",
    "plt.tight_layout()\n",
    "# fig_ew.savefig('../plots/abund_diff_example.pdf')"
   ]
  },
  {
   "cell_type": "code",
   "execution_count": 18,
   "metadata": {},
   "outputs": [
    {
     "name": "stdout",
     "output_type": "stream",
     "text": [
      "../runs/KuruczF/Si_stag_LTE30_f3D/output/\n"
     ]
    }
   ],
   "source": [
    "print(NLTE3Drunfile)"
   ]
  },
  {
   "cell_type": "code",
   "execution_count": 21,
   "metadata": {},
   "outputs": [],
   "source": [
    "# np.save('../mdata/3DNLTE_eqs_30f3D_noiosmet_5wl', eqw_NLTE)\n",
    "# np.save('../mdata/3DNLTE_abund_corr_no_iosmet_5wls.npy', corrections)\n",
    "# np.save('../mdata/1DNLTE_abund_corr_no_iosmet_5wls', corrections)\n",
    "# np.save('../mdata/3DLTE_abund_corr_2404', corrections)\n",
    "\n",
    "# np.save('../mdata/KuruczF/3DNLTE_eqs_30f3D_noiosmet_5wl', eqw_NLTE)\n",
    "# np.save('../mdata/KuruczF/3DNLTE_abund_corr_no_iosmet_5wls.npy', corrections)\n",
    "# np.save('../mdata/KuruczF/1DNLTE_abund_corr_no_iosmet_5wls', corrections)\n",
    "# np.save('../mdata/KuruczF/3DLTE_abund_corr_2404', corrections)\n",
    "\n",
    "# np.save('../mdata/RhodinF/3DNLTE_eqs_30f3D_noiosmet_5wl', eqw_NLTE)\n",
    "# np.save('../mdata/RhodinF/3DNLTE_abund_corr_no_iosmet_5wls.npy', corrections)\n",
    "# np.save('../mdata/RhodinF/1DNLTE_abund_corr_no_iosmet_5wls', corrections)\n",
    "# np.save('../mdata/RhodinF/3DLTE_abund_corr_2404', corrections)"
   ]
  },
  {
   "cell_type": "code",
   "execution_count": 20,
   "metadata": {},
   "outputs": [
    {
     "data": {
      "text/plain": [
       "[[34.5262839063344,\n",
       "  35.670002042143395,\n",
       "  35.73038108931935,\n",
       "  35.77831801591495,\n",
       "  34.94812505261816,\n",
       "  31.46819491185615],\n",
       " [73.22479157610877,\n",
       "  76.94841068088849,\n",
       "  75.44535924487396,\n",
       "  73.43552893006982,\n",
       "  69.676387507639,\n",
       "  61.23247123319139],\n",
       " [36.135360320375035,\n",
       "  37.30205921270131,\n",
       "  37.320780107283056,\n",
       "  37.28184156939287,\n",
       "  36.297055241143305,\n",
       "  32.52254529309026],\n",
       " [45.66002214745736,\n",
       "  47.332154302799616,\n",
       "  46.96639877115939,\n",
       "  46.271767734833475,\n",
       "  44.394722696165545,\n",
       "  39.09815526711835],\n",
       " [79.97969661947563,\n",
       "  81.92854499331763,\n",
       "  79.57849576434789,\n",
       "  75.31852418022277,\n",
       "  68.43359633884722,\n",
       "  56.01142358205604]]"
      ]
     },
     "execution_count": 20,
     "metadata": {},
     "output_type": "execute_result"
    }
   ],
   "source": [
    "eqw_NLTE"
   ]
  },
  {
   "cell_type": "code",
   "execution_count": null,
   "metadata": {},
   "outputs": [],
   "source": []
  }
 ],
 "metadata": {
  "interpreter": {
   "hash": "926b4a5dfa11be4b7eff4b3e16b0a6c4aba97fdc08a97fde44133418dfd29264"
  },
  "kernelspec": {
   "display_name": "Python 3.8.12 64-bit ('base': conda)",
   "name": "python3"
  },
  "language_info": {
   "codemirror_mode": {
    "name": "ipython",
    "version": 3
   },
   "file_extension": ".py",
   "mimetype": "text/x-python",
   "name": "python",
   "nbconvert_exporter": "python",
   "pygments_lexer": "ipython3",
   "version": "3.8.13"
  }
 },
 "nbformat": 4,
 "nbformat_minor": 4
}
