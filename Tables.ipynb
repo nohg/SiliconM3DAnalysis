{
 "cells": [
  {
   "cell_type": "code",
   "execution_count": 1,
   "metadata": {},
   "outputs": [],
   "source": [
    "import matplotlib.pyplot as plt\n",
    "\n",
    "import numpy as np\n",
    "import sys  \n",
    "sys.path.append('../main/')\n",
    "from multi_py.multi import *\n",
    "from os.path import dirname, join as pjoin\n",
    "import scipy.io as sio\n",
    "from scipy.io import readsav\n",
    "import copy\n",
    "import pandas as pd\n",
    "import os\n",
    "from scipy import integrate\n",
    "# from scipy.signal import argrelextremab\n",
    "\n",
    "\n",
    "\n",
    "%config InlineBackend.figure_format='svg'\n",
    "plt.style.use('default')\n",
    "plt.style.use('../main/multi_py/Bergemann2020.mplstyle')"
   ]
  },
  {
   "cell_type": "code",
   "execution_count": 8,
   "metadata": {},
   "outputs": [],
   "source": [
    "NLTE3Dcorr_iosmet = np.load('../mdata/3DNLTE_abund_corr_IOSMET_5wls.npy')\n",
    "NLTE3Dcorr_no_iosmet = np.load('../mdata/3DNLTE_abund_corr_noIMET_5wls.npy')\n",
    "NLTE1Dcorr_iosmet = np.load('../mdata/1DNLTE_abund_corr_IOSMET_5wls.npy')\n",
    "NLTE1dcorr_no_ismet = np.load('../mdata/1DNLTE_abund_corr_no_iosmet_5wls.npy')\n",
    "runs = [NLTE3Dcorr_iosmet, NLTE3Dcorr_no_iosmet, NLTE1Dcorr_iosmet, NLTE1dcorr_no_ismet]"
   ]
  },
  {
   "cell_type": "code",
   "execution_count": 3,
   "metadata": {},
   "outputs": [],
   "source": [
    "mus = [1.0, 0.9, 0.8, 0.6, 0.4, 0.2]\n",
    "lambs = [5645.613, 5684.484, 5701.104, 5772.146, 7034.901]"
   ]
  },
  {
   "cell_type": "code",
   "execution_count": 7,
   "metadata": {},
   "outputs": [
    {
     "name": "stdout",
     "output_type": "stream",
     "text": [
      "\\begin{tabular}{lrrrrr}\n",
      "\\toprule\n",
      "{} &  5645.613 &  5684.484 &  5701.104 &  5772.146 &  7034.901 \\\\\n",
      "\\midrule\n",
      "1.0 &    -0.065 &    -0.074 &    -0.029 &    -0.080 &    -0.070 \\\\\n",
      "0.9 &    -0.096 &    -0.121 &    -0.093 &    -0.131 &    -0.106 \\\\\n",
      "0.8 &    -0.104 &    -0.130 &    -0.097 &    -0.140 &    -0.115 \\\\\n",
      "0.6 &    -0.148 &    -0.185 &    -0.150 &    -0.198 &    -0.165 \\\\\n",
      "0.4 &    -0.246 &    -0.302 &    -0.248 &    -0.323 &    -0.272 \\\\\n",
      "0.2 &    -0.477 &    -0.571 &    -0.434 &    -0.609 &    -0.521 \\\\\n",
      "\\bottomrule\n",
      "\\end{tabular}\n",
      "\n"
     ]
    }
   ],
   "source": [
    "NLTE3Dcorr_iosmet_pd=pd.DataFrame(NLTE3Dcorr_iosmet, columns=mus, index=lambs).T.round(3)\n",
    "print(NLTE3Dcorr_iosmet_pd.to_latex())"
   ]
  },
  {
   "cell_type": "code",
   "execution_count": 15,
   "metadata": {},
   "outputs": [
    {
     "name": "stdout",
     "output_type": "stream",
     "text": [
      "\\begin{tabular}{l|rrrrrr}\n",
      "\\toprule\n",
      "{} &  5645.613 &  5684.484 &  5701.104 &  5772.146 &  7034.901 \\\\\n",
      "\\midrule\n",
      "1.0 &    -0.065 &    -0.074 &    -0.029 &    -0.080 &    -0.070 \\\\\n",
      "0.9 &    -0.096 &    -0.121 &    -0.093 &    -0.131 &    -0.106 \\\\\n",
      "0.8 &    -0.104 &    -0.130 &    -0.097 &    -0.140 &    -0.115 \\\\\n",
      "0.6 &    -0.148 &    -0.185 &    -0.150 &    -0.198 &    -0.165 \\\\\n",
      "0.4 &    -0.246 &    -0.302 &    -0.248 &    -0.323 &    -0.272 \\\\\n",
      "0.2 &    -0.477 &    -0.571 &    -0.434 &    -0.609 &    -0.521 \\\\\n",
      "\\bottomrule\n",
      "\\end{tabular}\n",
      "\n",
      "\\begin{tabular}{l|rrrrrr}\n",
      "\\toprule\n",
      "{} &  5645.613 &  5684.484 &  5701.104 &  5772.146 &  7034.901 \\\\\n",
      "\\midrule\n",
      "1.0 &     0.070 &     0.068 &     0.081 &     0.065 &     0.069 \\\\\n",
      "0.9 &     0.051 &     0.036 &     0.026 &     0.031 &     0.047 \\\\\n",
      "0.8 &     0.049 &     0.034 &     0.025 &     0.028 &     0.044 \\\\\n",
      "0.6 &     0.026 &     0.004 &    -0.016 &    -0.003 &     0.018 \\\\\n",
      "0.4 &    -0.031 &    -0.067 &    -0.095 &    -0.079 &    -0.045 \\\\\n",
      "0.2 &    -0.171 &    -0.233 &    -0.247 &    -0.258 &    -0.195 \\\\\n",
      "\\bottomrule\n",
      "\\end{tabular}\n",
      "\n",
      "\\begin{tabular}{l|rrrrrr}\n",
      "\\toprule\n",
      "{} &  5645.613 &  5684.484 &  5701.104 &  5772.146 &  7034.901 \\\\\n",
      "\\midrule\n",
      "1.0 &    -0.000 &    -0.001 &    -0.003 &    -0.001 &    -0.001 \\\\\n",
      "0.9 &    -0.000 &    -0.001 &    -0.003 &    -0.001 &    -0.001 \\\\\n",
      "0.8 &    -0.001 &    -0.001 &    -0.003 &    -0.001 &    -0.001 \\\\\n",
      "0.6 &    -0.001 &    -0.001 &    -0.003 &    -0.001 &    -0.001 \\\\\n",
      "0.4 &    -0.001 &    -0.001 &    -0.003 &    -0.001 &    -0.001 \\\\\n",
      "0.2 &    -0.001 &    -0.001 &    -0.003 &    -0.001 &    -0.001 \\\\\n",
      "\\bottomrule\n",
      "\\end{tabular}\n",
      "\n",
      "\\begin{tabular}{l|rrrrrr}\n",
      "\\toprule\n",
      "{} &  5645.613 &  5684.484 &  5701.104 &  5772.146 &  7034.901 \\\\\n",
      "\\midrule\n",
      "1.0 &     0.019 &     0.018 &     0.014 &     0.017 &     0.018 \\\\\n",
      "0.9 &     0.018 &     0.017 &     0.013 &     0.016 &     0.017 \\\\\n",
      "0.8 &     0.017 &     0.015 &     0.011 &     0.014 &     0.016 \\\\\n",
      "0.6 &     0.012 &     0.009 &     0.004 &     0.007 &     0.010 \\\\\n",
      "0.4 &     0.000 &    -0.007 &    -0.011 &    -0.011 &    -0.004 \\\\\n",
      "0.2 &    -0.049 &    -0.068 &    -0.060 &    -0.076 &    -0.060 \\\\\n",
      "\\bottomrule\n",
      "\\end{tabular}\n",
      "\n"
     ]
    }
   ],
   "source": [
    "for i, run in enumerate(runs):\n",
    "    df = pd.DataFrame(run, columns=mus, index=lambs).T.round(3)\n",
    "    # print(runs[i])\n",
    "    print(df.to_latex(column_format='l|rrrrrr'))"
   ]
  },
  {
   "cell_type": "code",
   "execution_count": null,
   "metadata": {},
   "outputs": [],
   "source": []
  }
 ],
 "metadata": {
  "interpreter": {
   "hash": "926b4a5dfa11be4b7eff4b3e16b0a6c4aba97fdc08a97fde44133418dfd29264"
  },
  "kernelspec": {
   "display_name": "Python 3.8.12 64-bit ('base': conda)",
   "name": "python3"
  },
  "language_info": {
   "codemirror_mode": {
    "name": "ipython",
    "version": 3
   },
   "file_extension": ".py",
   "mimetype": "text/x-python",
   "name": "python",
   "nbconvert_exporter": "python",
   "pygments_lexer": "ipython3",
   "version": "3.8.12"
  },
  "orig_nbformat": 4
 },
 "nbformat": 4,
 "nbformat_minor": 2
}
